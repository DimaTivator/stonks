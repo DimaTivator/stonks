{
 "cells": [
  {
   "cell_type": "code",
   "execution_count": 1,
   "id": "4b49477c-49f3-4ed2-adab-16932491e0f0",
   "metadata": {
    "execution": {
     "iopub.execute_input": "2025-03-25T16:15:46.211753Z",
     "iopub.status.busy": "2025-03-25T16:15:46.210486Z",
     "iopub.status.idle": "2025-03-25T16:15:47.422018Z",
     "shell.execute_reply": "2025-03-25T16:15:47.420911Z",
     "shell.execute_reply.started": "2025-03-25T16:15:46.211703Z"
    },
    "tags": []
   },
   "outputs": [],
   "source": [
    "import os\n",
    "import time\n",
    "import pandas as pd\n",
    "import polars as pl\n",
    "import numpy as np\n",
    "import matplotlib.pyplot as plt\n",
    "from tqdm import tqdm\n",
    "\n",
    "import yfinance as yf"
   ]
  },
  {
   "cell_type": "markdown",
   "id": "af5a5e4f-8f27-487a-bcec-c3f5c3c26808",
   "metadata": {
    "jp-MarkdownHeadingCollapsed": true,
    "tags": []
   },
   "source": [
    "# News sentiment data"
   ]
  },
  {
   "cell_type": "code",
   "execution_count": 28,
   "id": "6e30b710-cf1e-453d-ab60-cfae107df54e",
   "metadata": {
    "execution": {
     "iopub.execute_input": "2025-03-24T08:53:50.934075Z",
     "iopub.status.busy": "2025-03-24T08:53:50.933288Z",
     "iopub.status.idle": "2025-03-24T08:53:50.950629Z",
     "shell.execute_reply": "2025-03-24T08:53:50.949869Z",
     "shell.execute_reply.started": "2025-03-24T08:53:50.934039Z"
    },
    "tags": []
   },
   "outputs": [],
   "source": [
    "data_path = os.path.join('.', 'data', 'with_sentiment')"
   ]
  },
  {
   "cell_type": "code",
   "execution_count": 76,
   "id": "c965b34e-73e9-4be9-b8b2-4395aa881f61",
   "metadata": {
    "execution": {
     "iopub.execute_input": "2025-03-24T09:11:47.323984Z",
     "iopub.status.busy": "2025-03-24T09:11:47.322947Z",
     "iopub.status.idle": "2025-03-24T09:11:47.337863Z",
     "shell.execute_reply": "2025-03-24T09:11:47.337018Z",
     "shell.execute_reply.started": "2025-03-24T09:11:47.323948Z"
    },
    "tags": []
   },
   "outputs": [],
   "source": [
    "all_data = pd.DataFrame({'text': [], 'sentiment': []})"
   ]
  },
  {
   "cell_type": "code",
   "execution_count": 110,
   "id": "c475067e-af97-4b46-ae59-058a4db776e5",
   "metadata": {
    "execution": {
     "iopub.execute_input": "2025-03-24T09:19:07.308011Z",
     "iopub.status.busy": "2025-03-24T09:19:07.307203Z",
     "iopub.status.idle": "2025-03-24T09:19:07.351043Z",
     "shell.execute_reply": "2025-03-24T09:19:07.350183Z",
     "shell.execute_reply.started": "2025-03-24T09:19:07.307977Z"
    },
    "tags": []
   },
   "outputs": [],
   "source": [
    "df = pd.read_csv(os.path.join(data_path, 'valid_data.csv'))"
   ]
  },
  {
   "cell_type": "code",
   "execution_count": 111,
   "id": "fc8a83e2-be65-4bc0-95ef-7a20a747b8ea",
   "metadata": {
    "execution": {
     "iopub.execute_input": "2025-03-24T09:19:08.460719Z",
     "iopub.status.busy": "2025-03-24T09:19:08.459425Z",
     "iopub.status.idle": "2025-03-24T09:19:08.480065Z",
     "shell.execute_reply": "2025-03-24T09:19:08.479188Z",
     "shell.execute_reply.started": "2025-03-24T09:19:08.460670Z"
    },
    "tags": []
   },
   "outputs": [
    {
     "data": {
      "text/html": [
       "<div>\n",
       "<style scoped>\n",
       "    .dataframe tbody tr th:only-of-type {\n",
       "        vertical-align: middle;\n",
       "    }\n",
       "\n",
       "    .dataframe tbody tr th {\n",
       "        vertical-align: top;\n",
       "    }\n",
       "\n",
       "    .dataframe thead th {\n",
       "        text-align: right;\n",
       "    }\n",
       "</style>\n",
       "<table border=\"1\" class=\"dataframe\">\n",
       "  <thead>\n",
       "    <tr style=\"text-align: right;\">\n",
       "      <th></th>\n",
       "      <th>text</th>\n",
       "      <th>label</th>\n",
       "    </tr>\n",
       "  </thead>\n",
       "  <tbody>\n",
       "    <tr>\n",
       "      <th>0</th>\n",
       "      <td>Analyst call of the day for @CNBCPro subscribe...</td>\n",
       "      <td>0</td>\n",
       "    </tr>\n",
       "    <tr>\n",
       "      <th>1</th>\n",
       "      <td>Loop upgrades CSX to buy, says it's a good pla...</td>\n",
       "      <td>0</td>\n",
       "    </tr>\n",
       "    <tr>\n",
       "      <th>2</th>\n",
       "      <td>BofA believes we're already in a recession — a...</td>\n",
       "      <td>0</td>\n",
       "    </tr>\n",
       "    <tr>\n",
       "      <th>3</th>\n",
       "      <td>JPMorgan sees these derivative plays as best w...</td>\n",
       "      <td>0</td>\n",
       "    </tr>\n",
       "    <tr>\n",
       "      <th>4</th>\n",
       "      <td>Morgan Stanley's Huberty sees Apple earnings m...</td>\n",
       "      <td>0</td>\n",
       "    </tr>\n",
       "    <tr>\n",
       "      <th>...</th>\n",
       "      <td>...</td>\n",
       "      <td>...</td>\n",
       "    </tr>\n",
       "    <tr>\n",
       "      <th>4112</th>\n",
       "      <td>Dollar bonds of Chinese developers fall as str...</td>\n",
       "      <td>3</td>\n",
       "    </tr>\n",
       "    <tr>\n",
       "      <th>4113</th>\n",
       "      <td>Longer maturity Treasury yields have scope to ...</td>\n",
       "      <td>3</td>\n",
       "    </tr>\n",
       "    <tr>\n",
       "      <th>4114</th>\n",
       "      <td>Pimco buys €1bn of Apollo buyout loans from ba...</td>\n",
       "      <td>3</td>\n",
       "    </tr>\n",
       "    <tr>\n",
       "      <th>4115</th>\n",
       "      <td>Analysis: Banks' snubbing of junk-rated loan f...</td>\n",
       "      <td>3</td>\n",
       "    </tr>\n",
       "    <tr>\n",
       "      <th>4116</th>\n",
       "      <td>U.S. Treasury seeks information on digital ass...</td>\n",
       "      <td>3</td>\n",
       "    </tr>\n",
       "  </tbody>\n",
       "</table>\n",
       "<p>4117 rows × 2 columns</p>\n",
       "</div>"
      ],
      "text/plain": [
       "                                                   text  label\n",
       "0     Analyst call of the day for @CNBCPro subscribe...      0\n",
       "1     Loop upgrades CSX to buy, says it's a good pla...      0\n",
       "2     BofA believes we're already in a recession — a...      0\n",
       "3     JPMorgan sees these derivative plays as best w...      0\n",
       "4     Morgan Stanley's Huberty sees Apple earnings m...      0\n",
       "...                                                 ...    ...\n",
       "4112  Dollar bonds of Chinese developers fall as str...      3\n",
       "4113  Longer maturity Treasury yields have scope to ...      3\n",
       "4114  Pimco buys €1bn of Apollo buyout loans from ba...      3\n",
       "4115  Analysis: Banks' snubbing of junk-rated loan f...      3\n",
       "4116  U.S. Treasury seeks information on digital ass...      3\n",
       "\n",
       "[4117 rows x 2 columns]"
      ]
     },
     "execution_count": 111,
     "metadata": {},
     "output_type": "execute_result"
    }
   ],
   "source": [
    "df"
   ]
  },
  {
   "cell_type": "code",
   "execution_count": 101,
   "id": "e651562d-9601-40ff-94c9-89a9a7e374af",
   "metadata": {
    "execution": {
     "iopub.execute_input": "2025-03-24T09:16:54.887634Z",
     "iopub.status.busy": "2025-03-24T09:16:54.886610Z",
     "iopub.status.idle": "2025-03-24T09:16:54.916404Z",
     "shell.execute_reply": "2025-03-24T09:16:54.915505Z",
     "shell.execute_reply.started": "2025-03-24T09:16:54.887587Z"
    },
    "tags": []
   },
   "outputs": [
    {
     "data": {
      "text/html": [
       "<div>\n",
       "<style scoped>\n",
       "    .dataframe tbody tr th:only-of-type {\n",
       "        vertical-align: middle;\n",
       "    }\n",
       "\n",
       "    .dataframe tbody tr th {\n",
       "        vertical-align: top;\n",
       "    }\n",
       "\n",
       "    .dataframe thead th {\n",
       "        text-align: right;\n",
       "    }\n",
       "</style>\n",
       "<table border=\"1\" class=\"dataframe\">\n",
       "  <thead>\n",
       "    <tr style=\"text-align: right;\">\n",
       "      <th></th>\n",
       "      <th>true_sentiment</th>\n",
       "      <th>text</th>\n",
       "    </tr>\n",
       "  </thead>\n",
       "  <tbody>\n",
       "    <tr>\n",
       "      <th>0</th>\n",
       "      <td>Positive</td>\n",
       "      <td>The Euro was able to appreciate particularly s...</td>\n",
       "    </tr>\n",
       "    <tr>\n",
       "      <th>1</th>\n",
       "      <td>Positive</td>\n",
       "      <td>EUR/CHF yesterday broke above 1.00. Economists...</td>\n",
       "    </tr>\n",
       "    <tr>\n",
       "      <th>2</th>\n",
       "      <td>Neutral</td>\n",
       "      <td>EUR/CHF vaults parity for the first time since...</td>\n",
       "    </tr>\n",
       "    <tr>\n",
       "      <th>3</th>\n",
       "      <td>Positive</td>\n",
       "      <td>EUR/CHF climbs back above parity. Economists a...</td>\n",
       "    </tr>\n",
       "    <tr>\n",
       "      <th>4</th>\n",
       "      <td>Positive</td>\n",
       "      <td>EUR/CHF has broken out above the sideways rang...</td>\n",
       "    </tr>\n",
       "    <tr>\n",
       "      <th>...</th>\n",
       "      <td>...</td>\n",
       "      <td>...</td>\n",
       "    </tr>\n",
       "    <tr>\n",
       "      <th>2286</th>\n",
       "      <td>Positive</td>\n",
       "      <td>The GBP/USD pair enters a bullish consolidatio...</td>\n",
       "    </tr>\n",
       "    <tr>\n",
       "      <th>2287</th>\n",
       "      <td>Negative</td>\n",
       "      <td>EUR/CHF has turned back lower over the past co...</td>\n",
       "    </tr>\n",
       "    <tr>\n",
       "      <th>2288</th>\n",
       "      <td>Neutral</td>\n",
       "      <td>The European Central Bank (ECB)downshifted to ...</td>\n",
       "    </tr>\n",
       "    <tr>\n",
       "      <th>2289</th>\n",
       "      <td>Positive</td>\n",
       "      <td>Economists at Credit Suisse discuss GBP outloo...</td>\n",
       "    </tr>\n",
       "    <tr>\n",
       "      <th>2290</th>\n",
       "      <td>Negative</td>\n",
       "      <td>The USD/JPY has broken lower and tumbled to 13...</td>\n",
       "    </tr>\n",
       "  </tbody>\n",
       "</table>\n",
       "<p>2291 rows × 2 columns</p>\n",
       "</div>"
      ],
      "text/plain": [
       "     true_sentiment                                               text\n",
       "0          Positive  The Euro was able to appreciate particularly s...\n",
       "1          Positive  EUR/CHF yesterday broke above 1.00. Economists...\n",
       "2           Neutral  EUR/CHF vaults parity for the first time since...\n",
       "3          Positive  EUR/CHF climbs back above parity. Economists a...\n",
       "4          Positive  EUR/CHF has broken out above the sideways rang...\n",
       "...             ...                                                ...\n",
       "2286       Positive  The GBP/USD pair enters a bullish consolidatio...\n",
       "2287       Negative  EUR/CHF has turned back lower over the past co...\n",
       "2288        Neutral  The European Central Bank (ECB)downshifted to ...\n",
       "2289       Positive  Economists at Credit Suisse discuss GBP outloo...\n",
       "2290       Negative  The USD/JPY has broken lower and tumbled to 13...\n",
       "\n",
       "[2291 rows x 2 columns]"
      ]
     },
     "execution_count": 101,
     "metadata": {},
     "output_type": "execute_result"
    }
   ],
   "source": [
    "df = df[['true_sentiment', 'text']]\n",
    "df"
   ]
  },
  {
   "cell_type": "code",
   "execution_count": 112,
   "id": "a23943e6-3165-4946-a7d3-e4c509b42e81",
   "metadata": {
    "execution": {
     "iopub.execute_input": "2025-03-24T09:19:12.499252Z",
     "iopub.status.busy": "2025-03-24T09:19:12.498079Z",
     "iopub.status.idle": "2025-03-24T09:19:12.526220Z",
     "shell.execute_reply": "2025-03-24T09:19:12.525326Z",
     "shell.execute_reply.started": "2025-03-24T09:19:12.499209Z"
    },
    "tags": []
   },
   "outputs": [
    {
     "data": {
      "text/html": [
       "<div>\n",
       "<style scoped>\n",
       "    .dataframe tbody tr th:only-of-type {\n",
       "        vertical-align: middle;\n",
       "    }\n",
       "\n",
       "    .dataframe tbody tr th {\n",
       "        vertical-align: top;\n",
       "    }\n",
       "\n",
       "    .dataframe thead th {\n",
       "        text-align: right;\n",
       "    }\n",
       "</style>\n",
       "<table border=\"1\" class=\"dataframe\">\n",
       "  <thead>\n",
       "    <tr style=\"text-align: right;\">\n",
       "      <th></th>\n",
       "      <th>text</th>\n",
       "      <th>sentiment</th>\n",
       "    </tr>\n",
       "  </thead>\n",
       "  <tbody>\n",
       "    <tr>\n",
       "      <th>0</th>\n",
       "      <td>Analyst call of the day for @CNBCPro subscribe...</td>\n",
       "      <td>0</td>\n",
       "    </tr>\n",
       "    <tr>\n",
       "      <th>1</th>\n",
       "      <td>Loop upgrades CSX to buy, says it's a good pla...</td>\n",
       "      <td>0</td>\n",
       "    </tr>\n",
       "    <tr>\n",
       "      <th>2</th>\n",
       "      <td>BofA believes we're already in a recession — a...</td>\n",
       "      <td>0</td>\n",
       "    </tr>\n",
       "    <tr>\n",
       "      <th>3</th>\n",
       "      <td>JPMorgan sees these derivative plays as best w...</td>\n",
       "      <td>0</td>\n",
       "    </tr>\n",
       "    <tr>\n",
       "      <th>4</th>\n",
       "      <td>Morgan Stanley's Huberty sees Apple earnings m...</td>\n",
       "      <td>0</td>\n",
       "    </tr>\n",
       "    <tr>\n",
       "      <th>...</th>\n",
       "      <td>...</td>\n",
       "      <td>...</td>\n",
       "    </tr>\n",
       "    <tr>\n",
       "      <th>4112</th>\n",
       "      <td>Dollar bonds of Chinese developers fall as str...</td>\n",
       "      <td>3</td>\n",
       "    </tr>\n",
       "    <tr>\n",
       "      <th>4113</th>\n",
       "      <td>Longer maturity Treasury yields have scope to ...</td>\n",
       "      <td>3</td>\n",
       "    </tr>\n",
       "    <tr>\n",
       "      <th>4114</th>\n",
       "      <td>Pimco buys €1bn of Apollo buyout loans from ba...</td>\n",
       "      <td>3</td>\n",
       "    </tr>\n",
       "    <tr>\n",
       "      <th>4115</th>\n",
       "      <td>Analysis: Banks' snubbing of junk-rated loan f...</td>\n",
       "      <td>3</td>\n",
       "    </tr>\n",
       "    <tr>\n",
       "      <th>4116</th>\n",
       "      <td>U.S. Treasury seeks information on digital ass...</td>\n",
       "      <td>3</td>\n",
       "    </tr>\n",
       "  </tbody>\n",
       "</table>\n",
       "<p>4117 rows × 2 columns</p>\n",
       "</div>"
      ],
      "text/plain": [
       "                                                   text  sentiment\n",
       "0     Analyst call of the day for @CNBCPro subscribe...          0\n",
       "1     Loop upgrades CSX to buy, says it's a good pla...          0\n",
       "2     BofA believes we're already in a recession — a...          0\n",
       "3     JPMorgan sees these derivative plays as best w...          0\n",
       "4     Morgan Stanley's Huberty sees Apple earnings m...          0\n",
       "...                                                 ...        ...\n",
       "4112  Dollar bonds of Chinese developers fall as str...          3\n",
       "4113  Longer maturity Treasury yields have scope to ...          3\n",
       "4114  Pimco buys €1bn of Apollo buyout loans from ba...          3\n",
       "4115  Analysis: Banks' snubbing of junk-rated loan f...          3\n",
       "4116  U.S. Treasury seeks information on digital ass...          3\n",
       "\n",
       "[4117 rows x 2 columns]"
      ]
     },
     "execution_count": 112,
     "metadata": {},
     "output_type": "execute_result"
    }
   ],
   "source": [
    "df = df.rename(columns={'label': 'sentiment', 'text': 'text'})\n",
    "df"
   ]
  },
  {
   "cell_type": "code",
   "execution_count": 113,
   "id": "ba658249-aff3-4042-b3af-4a5e466e80ba",
   "metadata": {
    "execution": {
     "iopub.execute_input": "2025-03-24T09:19:15.203093Z",
     "iopub.status.busy": "2025-03-24T09:19:15.202023Z",
     "iopub.status.idle": "2025-03-24T09:19:15.243144Z",
     "shell.execute_reply": "2025-03-24T09:19:15.242351Z",
     "shell.execute_reply.started": "2025-03-24T09:19:15.203050Z"
    },
    "tags": []
   },
   "outputs": [
    {
     "data": {
      "text/html": [
       "<div>\n",
       "<style scoped>\n",
       "    .dataframe tbody tr th:only-of-type {\n",
       "        vertical-align: middle;\n",
       "    }\n",
       "\n",
       "    .dataframe tbody tr th {\n",
       "        vertical-align: top;\n",
       "    }\n",
       "\n",
       "    .dataframe thead th {\n",
       "        text-align: right;\n",
       "    }\n",
       "</style>\n",
       "<table border=\"1\" class=\"dataframe\">\n",
       "  <thead>\n",
       "    <tr style=\"text-align: right;\">\n",
       "      <th></th>\n",
       "      <th>text</th>\n",
       "      <th>sentiment</th>\n",
       "    </tr>\n",
       "  </thead>\n",
       "  <tbody>\n",
       "    <tr>\n",
       "      <th>0</th>\n",
       "      <td>ReutersPayments companies and banks are at log...</td>\n",
       "      <td>Negative</td>\n",
       "    </tr>\n",
       "    <tr>\n",
       "      <th>1</th>\n",
       "      <td>AgenciesThe bank presently has 20 million acti...</td>\n",
       "      <td>Positive</td>\n",
       "    </tr>\n",
       "    <tr>\n",
       "      <th>2</th>\n",
       "      <td>PTIKarnataka Chief Minister Basavaraj Bommai.K...</td>\n",
       "      <td>Positive</td>\n",
       "    </tr>\n",
       "    <tr>\n",
       "      <th>3</th>\n",
       "      <td>Getty ImagesThe budget for FY22 had imposed in...</td>\n",
       "      <td>Negative</td>\n",
       "    </tr>\n",
       "    <tr>\n",
       "      <th>4</th>\n",
       "      <td>AgenciesThere is a view in the insurance indus...</td>\n",
       "      <td>Positive</td>\n",
       "    </tr>\n",
       "    <tr>\n",
       "      <th>...</th>\n",
       "      <td>...</td>\n",
       "      <td>...</td>\n",
       "    </tr>\n",
       "    <tr>\n",
       "      <th>34481</th>\n",
       "      <td>Dollar bonds of Chinese developers fall as str...</td>\n",
       "      <td>3</td>\n",
       "    </tr>\n",
       "    <tr>\n",
       "      <th>34482</th>\n",
       "      <td>Longer maturity Treasury yields have scope to ...</td>\n",
       "      <td>3</td>\n",
       "    </tr>\n",
       "    <tr>\n",
       "      <th>34483</th>\n",
       "      <td>Pimco buys €1bn of Apollo buyout loans from ba...</td>\n",
       "      <td>3</td>\n",
       "    </tr>\n",
       "    <tr>\n",
       "      <th>34484</th>\n",
       "      <td>Analysis: Banks' snubbing of junk-rated loan f...</td>\n",
       "      <td>3</td>\n",
       "    </tr>\n",
       "    <tr>\n",
       "      <th>34485</th>\n",
       "      <td>U.S. Treasury seeks information on digital ass...</td>\n",
       "      <td>3</td>\n",
       "    </tr>\n",
       "  </tbody>\n",
       "</table>\n",
       "<p>34486 rows × 2 columns</p>\n",
       "</div>"
      ],
      "text/plain": [
       "                                                    text sentiment\n",
       "0      ReutersPayments companies and banks are at log...  Negative\n",
       "1      AgenciesThe bank presently has 20 million acti...  Positive\n",
       "2      PTIKarnataka Chief Minister Basavaraj Bommai.K...  Positive\n",
       "3      Getty ImagesThe budget for FY22 had imposed in...  Negative\n",
       "4      AgenciesThere is a view in the insurance indus...  Positive\n",
       "...                                                  ...       ...\n",
       "34481  Dollar bonds of Chinese developers fall as str...         3\n",
       "34482  Longer maturity Treasury yields have scope to ...         3\n",
       "34483  Pimco buys €1bn of Apollo buyout loans from ba...         3\n",
       "34484  Analysis: Banks' snubbing of junk-rated loan f...         3\n",
       "34485  U.S. Treasury seeks information on digital ass...         3\n",
       "\n",
       "[34486 rows x 2 columns]"
      ]
     },
     "execution_count": 113,
     "metadata": {},
     "output_type": "execute_result"
    }
   ],
   "source": [
    "all_data = pd.concat([all_data, df], ignore_index=True)\n",
    "all_data"
   ]
  },
  {
   "cell_type": "code",
   "execution_count": 114,
   "id": "ef1cda4a-a282-491a-89be-e795722bf618",
   "metadata": {
    "execution": {
     "iopub.execute_input": "2025-03-24T09:19:15.810317Z",
     "iopub.status.busy": "2025-03-24T09:19:15.809166Z",
     "iopub.status.idle": "2025-03-24T09:19:16.071191Z",
     "shell.execute_reply": "2025-03-24T09:19:16.070389Z",
     "shell.execute_reply.started": "2025-03-24T09:19:15.810258Z"
    },
    "tags": []
   },
   "outputs": [],
   "source": [
    "all_data.to_csv('sentiment_dataset.csv')"
   ]
  },
  {
   "cell_type": "markdown",
   "id": "58360957-509b-435f-84b0-13fd0ccc23e2",
   "metadata": {},
   "source": [
    "---"
   ]
  },
  {
   "cell_type": "code",
   "execution_count": 2,
   "id": "b1202be2-fc87-44ed-924a-84e7d19a33cb",
   "metadata": {
    "execution": {
     "iopub.execute_input": "2025-03-25T06:11:08.496991Z",
     "iopub.status.busy": "2025-03-25T06:11:08.495460Z",
     "iopub.status.idle": "2025-03-25T06:11:11.705688Z",
     "shell.execute_reply": "2025-03-25T06:11:11.704744Z",
     "shell.execute_reply.started": "2025-03-25T06:11:08.496940Z"
    },
    "tags": []
   },
   "outputs": [],
   "source": [
    "import pandas as pd\n",
    "\n",
    "df1 = pd.read_parquet(\"hf://datasets/FinGPT/fingpt-sentiment-cls/data/train-00000-of-00001-921f33f83a4110cb.parquet\")\n",
    "df2 = pd.read_parquet(\"hf://datasets/FinGPT/fingpt-sentiment-train/data/train-00000-of-00001-dabab110260ac909.parquet\")"
   ]
  },
  {
   "cell_type": "code",
   "execution_count": 3,
   "id": "b96bbfa9-e41f-4cc9-bd25-2f9c779b95b5",
   "metadata": {
    "execution": {
     "iopub.execute_input": "2025-03-25T06:11:20.975709Z",
     "iopub.status.busy": "2025-03-25T06:11:20.974436Z",
     "iopub.status.idle": "2025-03-25T06:11:21.040479Z",
     "shell.execute_reply": "2025-03-25T06:11:21.039518Z",
     "shell.execute_reply.started": "2025-03-25T06:11:20.975660Z"
    }
   },
   "outputs": [
    {
     "data": {
      "text/html": [
       "<div>\n",
       "<style scoped>\n",
       "    .dataframe tbody tr th:only-of-type {\n",
       "        vertical-align: middle;\n",
       "    }\n",
       "\n",
       "    .dataframe tbody tr th {\n",
       "        vertical-align: top;\n",
       "    }\n",
       "\n",
       "    .dataframe thead th {\n",
       "        text-align: right;\n",
       "    }\n",
       "</style>\n",
       "<table border=\"1\" class=\"dataframe\">\n",
       "  <thead>\n",
       "    <tr style=\"text-align: right;\">\n",
       "      <th></th>\n",
       "      <th>input</th>\n",
       "      <th>output</th>\n",
       "      <th>instruction</th>\n",
       "    </tr>\n",
       "  </thead>\n",
       "  <tbody>\n",
       "    <tr>\n",
       "      <th>0</th>\n",
       "      <td>Starbucks says the workers violated safety pol...</td>\n",
       "      <td>negative</td>\n",
       "      <td>Determine the sentiment expressed in the news ...</td>\n",
       "    </tr>\n",
       "    <tr>\n",
       "      <th>1</th>\n",
       "      <td>$brcm raises revenue forecast</td>\n",
       "      <td>positive</td>\n",
       "      <td>Determine the sentiment expressed in the tweet...</td>\n",
       "    </tr>\n",
       "    <tr>\n",
       "      <th>2</th>\n",
       "      <td>Google parent Alphabet Inc. reported revenue a...</td>\n",
       "      <td>negative</td>\n",
       "      <td>Characterize the news's sentiment using the fo...</td>\n",
       "    </tr>\n",
       "    <tr>\n",
       "      <th>3</th>\n",
       "      <td>Here we highlight some top-ranked technology E...</td>\n",
       "      <td>positive</td>\n",
       "      <td>Characterize the news's sentiment using the fo...</td>\n",
       "    </tr>\n",
       "    <tr>\n",
       "      <th>4</th>\n",
       "      <td>$UVXY Put the chum out there at key support th...</td>\n",
       "      <td>negative</td>\n",
       "      <td>What is the sentiment of the input tweet from ...</td>\n",
       "    </tr>\n",
       "  </tbody>\n",
       "</table>\n",
       "</div>"
      ],
      "text/plain": [
       "                                               input  ...                                        instruction\n",
       "0  Starbucks says the workers violated safety pol...  ...  Determine the sentiment expressed in the news ...\n",
       "1                      $brcm raises revenue forecast  ...  Determine the sentiment expressed in the tweet...\n",
       "2  Google parent Alphabet Inc. reported revenue a...  ...  Characterize the news's sentiment using the fo...\n",
       "3  Here we highlight some top-ranked technology E...  ...  Characterize the news's sentiment using the fo...\n",
       "4  $UVXY Put the chum out there at key support th...  ...  What is the sentiment of the input tweet from ...\n",
       "\n",
       "[5 rows x 3 columns]"
      ]
     },
     "execution_count": 3,
     "metadata": {},
     "output_type": "execute_result"
    }
   ],
   "source": [
    "df1.head()"
   ]
  },
  {
   "cell_type": "code",
   "execution_count": 6,
   "id": "4d2ea0d3-f71b-42f4-8432-c181c549d437",
   "metadata": {
    "execution": {
     "iopub.execute_input": "2025-03-25T06:12:20.234561Z",
     "iopub.status.busy": "2025-03-25T06:12:20.233385Z",
     "iopub.status.idle": "2025-03-25T06:12:20.265569Z",
     "shell.execute_reply": "2025-03-25T06:12:20.264641Z",
     "shell.execute_reply.started": "2025-03-25T06:12:20.234506Z"
    }
   },
   "outputs": [
    {
     "data": {
      "text/html": [
       "<div>\n",
       "<style scoped>\n",
       "    .dataframe tbody tr th:only-of-type {\n",
       "        vertical-align: middle;\n",
       "    }\n",
       "\n",
       "    .dataframe tbody tr th {\n",
       "        vertical-align: top;\n",
       "    }\n",
       "\n",
       "    .dataframe thead th {\n",
       "        text-align: right;\n",
       "    }\n",
       "</style>\n",
       "<table border=\"1\" class=\"dataframe\">\n",
       "  <thead>\n",
       "    <tr style=\"text-align: right;\">\n",
       "      <th></th>\n",
       "      <th>input</th>\n",
       "      <th>output</th>\n",
       "      <th>instruction</th>\n",
       "    </tr>\n",
       "  </thead>\n",
       "  <tbody>\n",
       "    <tr>\n",
       "      <th>0</th>\n",
       "      <td>Teollisuuden Voima Oyj , the Finnish utility k...</td>\n",
       "      <td>neutral</td>\n",
       "      <td>What is the sentiment of this news? Please cho...</td>\n",
       "    </tr>\n",
       "    <tr>\n",
       "      <th>1</th>\n",
       "      <td>Sanofi poaches AstraZeneca scientist as new re...</td>\n",
       "      <td>neutral</td>\n",
       "      <td>What is the sentiment of this news? Please cho...</td>\n",
       "    </tr>\n",
       "    <tr>\n",
       "      <th>2</th>\n",
       "      <td>Starbucks says the workers violated safety pol...</td>\n",
       "      <td>moderately negative</td>\n",
       "      <td>What is the sentiment of this news? Please cho...</td>\n",
       "    </tr>\n",
       "    <tr>\n",
       "      <th>3</th>\n",
       "      <td>$brcm raises revenue forecast</td>\n",
       "      <td>positive</td>\n",
       "      <td>What is the sentiment of this tweet? Please ch...</td>\n",
       "    </tr>\n",
       "    <tr>\n",
       "      <th>4</th>\n",
       "      <td>Google parent Alphabet Inc. reported revenue a...</td>\n",
       "      <td>moderately negative</td>\n",
       "      <td>What is the sentiment of this news? Please cho...</td>\n",
       "    </tr>\n",
       "  </tbody>\n",
       "</table>\n",
       "</div>"
      ],
      "text/plain": [
       "                                               input  ...                                        instruction\n",
       "0  Teollisuuden Voima Oyj , the Finnish utility k...  ...  What is the sentiment of this news? Please cho...\n",
       "1  Sanofi poaches AstraZeneca scientist as new re...  ...  What is the sentiment of this news? Please cho...\n",
       "2  Starbucks says the workers violated safety pol...  ...  What is the sentiment of this news? Please cho...\n",
       "3                      $brcm raises revenue forecast  ...  What is the sentiment of this tweet? Please ch...\n",
       "4  Google parent Alphabet Inc. reported revenue a...  ...  What is the sentiment of this news? Please cho...\n",
       "\n",
       "[5 rows x 3 columns]"
      ]
     },
     "execution_count": 6,
     "metadata": {},
     "output_type": "execute_result"
    }
   ],
   "source": [
    "df2.head()"
   ]
  },
  {
   "cell_type": "code",
   "execution_count": 8,
   "id": "954850ec-d995-47b3-a346-e6ad3dce8c6b",
   "metadata": {
    "execution": {
     "iopub.execute_input": "2025-03-25T06:13:09.004876Z",
     "iopub.status.busy": "2025-03-25T06:13:09.003798Z",
     "iopub.status.idle": "2025-03-25T06:13:09.035156Z",
     "shell.execute_reply": "2025-03-25T06:13:09.034021Z",
     "shell.execute_reply.started": "2025-03-25T06:13:09.004823Z"
    }
   },
   "outputs": [],
   "source": [
    "df1 = df1.drop(columns=['instruction'])\n",
    "df2 = df2.drop(columns=['instruction'])"
   ]
  },
  {
   "cell_type": "code",
   "execution_count": 9,
   "id": "03ba1fac-707d-497c-b783-05d1575650b2",
   "metadata": {
    "execution": {
     "iopub.execute_input": "2025-03-25T06:13:24.875269Z",
     "iopub.status.busy": "2025-03-25T06:13:24.874161Z",
     "iopub.status.idle": "2025-03-25T06:13:24.906420Z",
     "shell.execute_reply": "2025-03-25T06:13:24.905480Z",
     "shell.execute_reply.started": "2025-03-25T06:13:24.875221Z"
    },
    "tags": []
   },
   "outputs": [
    {
     "data": {
      "text/html": [
       "<div>\n",
       "<style scoped>\n",
       "    .dataframe tbody tr th:only-of-type {\n",
       "        vertical-align: middle;\n",
       "    }\n",
       "\n",
       "    .dataframe tbody tr th {\n",
       "        vertical-align: top;\n",
       "    }\n",
       "\n",
       "    .dataframe thead th {\n",
       "        text-align: right;\n",
       "    }\n",
       "</style>\n",
       "<table border=\"1\" class=\"dataframe\">\n",
       "  <thead>\n",
       "    <tr style=\"text-align: right;\">\n",
       "      <th></th>\n",
       "      <th>input</th>\n",
       "      <th>output</th>\n",
       "    </tr>\n",
       "  </thead>\n",
       "  <tbody>\n",
       "    <tr>\n",
       "      <th>0</th>\n",
       "      <td>Starbucks says the workers violated safety pol...</td>\n",
       "      <td>negative</td>\n",
       "    </tr>\n",
       "    <tr>\n",
       "      <th>1</th>\n",
       "      <td>$brcm raises revenue forecast</td>\n",
       "      <td>positive</td>\n",
       "    </tr>\n",
       "    <tr>\n",
       "      <th>2</th>\n",
       "      <td>Google parent Alphabet Inc. reported revenue a...</td>\n",
       "      <td>negative</td>\n",
       "    </tr>\n",
       "    <tr>\n",
       "      <th>3</th>\n",
       "      <td>Here we highlight some top-ranked technology E...</td>\n",
       "      <td>positive</td>\n",
       "    </tr>\n",
       "    <tr>\n",
       "      <th>4</th>\n",
       "      <td>$UVXY Put the chum out there at key support th...</td>\n",
       "      <td>negative</td>\n",
       "    </tr>\n",
       "    <tr>\n",
       "      <th>...</th>\n",
       "      <td>...</td>\n",
       "      <td>...</td>\n",
       "    </tr>\n",
       "    <tr>\n",
       "      <th>124324</th>\n",
       "      <td>BP, Statoil, to Withdraw Staff From Algeria Fo...</td>\n",
       "      <td>negative</td>\n",
       "    </tr>\n",
       "    <tr>\n",
       "      <th>124325</th>\n",
       "      <td>NEW YORK — A fire broke out late Wednesday at ...</td>\n",
       "      <td>mildly negative</td>\n",
       "    </tr>\n",
       "    <tr>\n",
       "      <th>124326</th>\n",
       "      <td>Operating profit margin increased from 11.2 % ...</td>\n",
       "      <td>positive</td>\n",
       "    </tr>\n",
       "    <tr>\n",
       "      <th>124327</th>\n",
       "      <td>$vxx adding to position here !</td>\n",
       "      <td>positive</td>\n",
       "    </tr>\n",
       "    <tr>\n",
       "      <th>124328</th>\n",
       "      <td>Leading chipmaker Nvidia could be heading for ...</td>\n",
       "      <td>moderately positive</td>\n",
       "    </tr>\n",
       "  </tbody>\n",
       "</table>\n",
       "<p>124329 rows × 2 columns</p>\n",
       "</div>"
      ],
      "text/plain": [
       "                                                    input               output\n",
       "0       Starbucks says the workers violated safety pol...             negative\n",
       "1                           $brcm raises revenue forecast             positive\n",
       "2       Google parent Alphabet Inc. reported revenue a...             negative\n",
       "3       Here we highlight some top-ranked technology E...             positive\n",
       "4       $UVXY Put the chum out there at key support th...             negative\n",
       "...                                                   ...                  ...\n",
       "124324  BP, Statoil, to Withdraw Staff From Algeria Fo...             negative\n",
       "124325  NEW YORK — A fire broke out late Wednesday at ...      mildly negative\n",
       "124326  Operating profit margin increased from 11.2 % ...             positive\n",
       "124327                     $vxx adding to position here !             positive\n",
       "124328  Leading chipmaker Nvidia could be heading for ...  moderately positive\n",
       "\n",
       "[124329 rows x 2 columns]"
      ]
     },
     "execution_count": 9,
     "metadata": {},
     "output_type": "execute_result"
    }
   ],
   "source": [
    "df = pd.concat([df1, df2], ignore_index=True)\n",
    "df"
   ]
  },
  {
   "cell_type": "code",
   "execution_count": 10,
   "id": "fc22cf79-7d91-4f94-86c6-d880af9887e1",
   "metadata": {
    "execution": {
     "iopub.execute_input": "2025-03-25T06:13:39.528983Z",
     "iopub.status.busy": "2025-03-25T06:13:39.527854Z",
     "iopub.status.idle": "2025-03-25T06:13:40.228062Z",
     "shell.execute_reply": "2025-03-25T06:13:40.227025Z",
     "shell.execute_reply.started": "2025-03-25T06:13:39.528932Z"
    }
   },
   "outputs": [],
   "source": [
    "df.to_csv('fingpt_sentiment.csv')"
   ]
  },
  {
   "cell_type": "markdown",
   "id": "89f851de-8425-4ff4-a56d-61e023d57cbe",
   "metadata": {
    "tags": []
   },
   "source": [
    "# News with timestamps"
   ]
  },
  {
   "cell_type": "code",
   "execution_count": 76,
   "id": "a820e6d0-c199-4d28-985c-58180f33388a",
   "metadata": {
    "execution": {
     "iopub.execute_input": "2025-03-25T10:05:56.077891Z",
     "iopub.status.busy": "2025-03-25T10:05:56.076765Z",
     "iopub.status.idle": "2025-03-25T10:06:21.131708Z",
     "shell.execute_reply": "2025-03-25T10:06:21.130739Z",
     "shell.execute_reply.started": "2025-03-25T10:05:56.077846Z"
    },
    "tags": []
   },
   "outputs": [
    {
     "name": "stderr",
     "output_type": "stream",
     "text": [
      "'(ReadTimeoutError(\"HTTPSConnectionPool(host='huggingface.co', port=443): Read timed out. (read timeout=10)\"), '(Request ID: 38e56069-12d3-4ab6-bf44-836416bbbe8c)')' thrown while requesting GET https://huggingface.co/datasets/Shadow-Blade/financialNews/resolve/main/financialNews.csv\n",
      "Retrying in 1s [Retry 1/5].\n",
      "'(ReadTimeoutError(\"HTTPSConnectionPool(host='cdn-lfs-us-1.hf.co', port=443): Read timed out. (read timeout=10)\"), '(Request ID: af45b761-11aa-4628-8408-306d8af41313)')' thrown while requesting GET https://huggingface.co/datasets/Shadow-Blade/financialNews/resolve/main/financialNews.csv\n",
      "Retrying in 2s [Retry 2/5].\n"
     ]
    }
   ],
   "source": [
    "df1 = pl.read_csv('hf://datasets/Shadow-Blade/financialNews/financialNews.csv')"
   ]
  },
  {
   "cell_type": "code",
   "execution_count": 79,
   "id": "d4dcdefb-c55f-4508-9aa2-43ce7a67d772",
   "metadata": {
    "execution": {
     "iopub.execute_input": "2025-03-25T10:07:35.727547Z",
     "iopub.status.busy": "2025-03-25T10:07:35.726180Z",
     "iopub.status.idle": "2025-03-25T10:07:35.754808Z",
     "shell.execute_reply": "2025-03-25T10:07:35.753983Z",
     "shell.execute_reply.started": "2025-03-25T10:07:35.727496Z"
    },
    "tags": []
   },
   "outputs": [],
   "source": [
    "df1 = df1[['datetime', 'title', 'description', 'ticker']]"
   ]
  },
  {
   "cell_type": "code",
   "execution_count": 80,
   "id": "19d563c7-0467-4056-bad0-9681f840688d",
   "metadata": {
    "execution": {
     "iopub.execute_input": "2025-03-25T10:07:36.403458Z",
     "iopub.status.busy": "2025-03-25T10:07:36.402404Z",
     "iopub.status.idle": "2025-03-25T10:07:36.425471Z",
     "shell.execute_reply": "2025-03-25T10:07:36.424661Z",
     "shell.execute_reply.started": "2025-03-25T10:07:36.403414Z"
    },
    "tags": []
   },
   "outputs": [
    {
     "data": {
      "text/html": [
       "<div><style>\n",
       ".dataframe > thead > tr > th,\n",
       ".dataframe > tbody > tr > td {\n",
       "  text-align: right;\n",
       "}\n",
       "</style>\n",
       "<small>shape: (95459, 4)</small><table border=\"1\" class=\"dataframe\"><thead><tr><th>datetime</th><th>title</th><th>description</th><th>ticker</th></tr><tr><td>str</td><td>str</td><td>str</td><td>str</td></tr></thead><tbody><tr><td>&quot;Fri 24 Nov 202…</td><td>&quot;OpenAI turmoil…</td><td>&quot;Microsoft chie…</td><td>&quot;MSFT&quot;</td></tr><tr><td>&quot;Thu 23 Nov 202…</td><td>&quot;10 Can’t Miss …</td><td>&quot;The biggest sh…</td><td>&quot;COST&quot;</td></tr><tr><td>&quot;Thu 23 Nov 202…</td><td>&quot;UPDATE 1-Germa…</td><td>&quot;German trade u…</td><td>&quot;AMZN&quot;</td></tr><tr><td>&quot;Thu 23 Nov 202…</td><td>&quot;Corrections &amp; …</td><td>&quot;The success of…</td><td>&quot;BMY&quot;</td></tr><tr><td>&quot;Thu 23 Nov 202…</td><td>&quot;EU mulls wider…</td><td>&quot;The European U…</td><td>&quot;GOOGL&quot;</td></tr><tr><td>&quot;Thu 23 Nov 202…</td><td>&quot;EU mulls wider…</td><td>&quot;The European U…</td><td>&quot;GOOG&quot;</td></tr><tr><td>&quot;Thu 23 Nov 202…</td><td>&quot;EU mulls wider…</td><td>&quot;The European U…</td><td>&quot;AMZN&quot;</td></tr><tr><td>&quot;Thu 23 Nov 202…</td><td>&quot;EU mulls wider…</td><td>&quot;The European U…</td><td>&quot;MSFT&quot;</td></tr><tr><td>&quot;Thu 23 Nov 202…</td><td>&quot;Dow Jones Futu…</td><td>&quot;The market ral…</td><td>&quot;NVDA&quot;</td></tr><tr><td>&quot;Thu 23 Nov 202…</td><td>&quot;Dow Jones Futu…</td><td>&quot;The market ral…</td><td>&quot;AMD&quot;</td></tr><tr><td>&quot;Thu 23 Nov 202…</td><td>&quot;Dow Jones Futu…</td><td>&quot;The market ral…</td><td>&quot;TSLA&quot;</td></tr><tr><td>&quot;Thu 23 Nov 202…</td><td>&quot;Tesla strikes …</td><td>&quot;Industrial act…</td><td>&quot;TSLA&quot;</td></tr><tr><td>&hellip;</td><td>&hellip;</td><td>&hellip;</td><td>&hellip;</td></tr><tr><td>&quot;Mon 02 May 202…</td><td>&quot;Amazon, Alphab…</td><td>&quot;Amazon, Alphab…</td><td>&quot;META&quot;</td></tr><tr><td>&quot;Mon 02 May 202…</td><td>&quot;Amazon, Alphab…</td><td>&quot;Amazon, Alphab…</td><td>&quot;GOOGL&quot;</td></tr><tr><td>&quot;Mon 02 May 202…</td><td>&quot;Amazon, Alphab…</td><td>&quot;Amazon, Alphab…</td><td>&quot;GOOG&quot;</td></tr><tr><td>&quot;Mon 02 May 202…</td><td>&quot;Amazon, Alphab…</td><td>&quot;Amazon, Alphab…</td><td>&quot;AAPL&quot;</td></tr><tr><td>&quot;Mon 02 May 202…</td><td>&quot;Amazon, Alphab…</td><td>&quot;Amazon, Alphab…</td><td>&quot;AMZN&quot;</td></tr><tr><td>&quot;Mon 02 May 202…</td><td>&quot;Elon Musk’s Tw…</td><td>&quot;When Twitter’s…</td><td>&quot;MS&quot;</td></tr><tr><td>&quot;Mon 02 May 202…</td><td>&quot;Elon Musk’s Tw…</td><td>&quot;When Twitter’s…</td><td>&quot;TSLA&quot;</td></tr><tr><td>&quot;Mon 02 May 202…</td><td>&quot;Zacks Investme…</td><td>&quot;Alphabet, Amaz…</td><td>&quot;GOOGL&quot;</td></tr><tr><td>&quot;Mon 02 May 202…</td><td>&quot;Zacks Investme…</td><td>&quot;Alphabet, Amaz…</td><td>&quot;TSLA&quot;</td></tr><tr><td>&quot;Mon 02 May 202…</td><td>&quot;Zacks Investme…</td><td>&quot;Alphabet, Amaz…</td><td>&quot;AMZN&quot;</td></tr><tr><td>&quot;Mon 02 May 202…</td><td>&quot;Zacks Investme…</td><td>&quot;Alphabet, Amaz…</td><td>&quot;GOOG&quot;</td></tr><tr><td>&quot;Mon 02 May 202…</td><td>&quot;Amazon’s Impac…</td><td>&quot;The company ha…</td><td>&quot;AMZN&quot;</td></tr></tbody></table></div>"
      ],
      "text/plain": [
       "shape: (95_459, 4)\n",
       "┌──────────────────────────┬───────────────────────────────┬──────────────────────────────┬────────┐\n",
       "│ datetime                 ┆ title                         ┆ description                  ┆ ticker │\n",
       "│ ---                      ┆ ---                           ┆ ---                          ┆ ---    │\n",
       "│ str                      ┆ str                           ┆ str                          ┆ str    │\n",
       "╞══════════════════════════╪═══════════════════════════════╪══════════════════════════════╪════════╡\n",
       "│ Fri 24 Nov 2023, 12:00AM ┆ OpenAI turmoil exposes threat ┆ Microsoft chief executive    ┆ MSFT   │\n",
       "│                          ┆ to…                           ┆ Satya …                      ┆        │\n",
       "│ Thu 23 Nov 2023, 07:00PM ┆ 10 Can’t Miss Black Friday    ┆ The biggest shopping day of  ┆ COST   │\n",
       "│                          ┆ Elect…                        ┆ the …                        ┆        │\n",
       "│ Thu 23 Nov 2023, 05:43PM ┆ UPDATE 1-German union Verdi   ┆ German trade union Verdi has ┆ AMZN   │\n",
       "│                          ┆ call…                         ┆ cal…                         ┆        │\n",
       "│ Thu 23 Nov 2023, 04:47PM ┆ Corrections & Amplifications  ┆ The success of blood         ┆ BMY    │\n",
       "│                          ┆ - T…                          ┆ thinners be…                 ┆        │\n",
       "│ …                        ┆ …                             ┆ …                            ┆ …      │\n",
       "│ Mon 02 May 2022, 04:56AM ┆ Zacks Investment Ideas        ┆ Alphabet, Amazon and Tesla   ┆ TSLA   │\n",
       "│                          ┆ feature h…                    ┆ have …                       ┆        │\n",
       "│ Mon 02 May 2022, 04:56AM ┆ Zacks Investment Ideas        ┆ Alphabet, Amazon and Tesla   ┆ AMZN   │\n",
       "│                          ┆ feature h…                    ┆ have …                       ┆        │\n",
       "│ Mon 02 May 2022, 04:56AM ┆ Zacks Investment Ideas        ┆ Alphabet, Amazon and Tesla   ┆ GOOG   │\n",
       "│                          ┆ feature h…                    ┆ have …                       ┆        │\n",
       "│ Mon 02 May 2022, 04:00AM ┆ Amazon’s Impact On Consumer   ┆ The company has been having  ┆ AMZN   │\n",
       "│                          ┆ Disc…                         ┆ a ro…                        ┆        │\n",
       "└──────────────────────────┴───────────────────────────────┴──────────────────────────────┴────────┘"
      ]
     },
     "execution_count": 80,
     "metadata": {},
     "output_type": "execute_result"
    }
   ],
   "source": [
    "df1"
   ]
  },
  {
   "cell_type": "code",
   "execution_count": 81,
   "id": "10bfd61c-274c-4b40-b51f-40eda435b89d",
   "metadata": {
    "execution": {
     "iopub.execute_input": "2025-03-25T10:07:42.373652Z",
     "iopub.status.busy": "2025-03-25T10:07:42.372342Z",
     "iopub.status.idle": "2025-03-25T10:07:42.386244Z",
     "shell.execute_reply": "2025-03-25T10:07:42.385539Z",
     "shell.execute_reply.started": "2025-03-25T10:07:42.373602Z"
    },
    "tags": []
   },
   "outputs": [],
   "source": [
    "df1 = df1.rename({'description': 'text'})"
   ]
  },
  {
   "cell_type": "code",
   "execution_count": 84,
   "id": "65ee68bb-1131-4237-bde8-a5d48cacb54a",
   "metadata": {
    "execution": {
     "iopub.execute_input": "2025-03-25T10:08:36.453330Z",
     "iopub.status.busy": "2025-03-25T10:08:36.452351Z",
     "iopub.status.idle": "2025-03-25T10:08:36.541748Z",
     "shell.execute_reply": "2025-03-25T10:08:36.540848Z",
     "shell.execute_reply.started": "2025-03-25T10:08:36.453279Z"
    },
    "tags": []
   },
   "outputs": [],
   "source": [
    "df1 = df1.with_columns(\n",
    "    pl.col(\"datetime\")\n",
    "    .str.strptime(pl.Datetime, format=\"%a %d %b %Y, %I:%M%p\")\n",
    "    .dt.replace_time_zone(\"UTC\")\n",
    ")"
   ]
  },
  {
   "cell_type": "code",
   "execution_count": 85,
   "id": "16ec5f96-c227-4ba8-9d23-f2344d7e357d",
   "metadata": {
    "execution": {
     "iopub.execute_input": "2025-03-25T10:08:37.973791Z",
     "iopub.status.busy": "2025-03-25T10:08:37.972511Z",
     "iopub.status.idle": "2025-03-25T10:08:37.984913Z",
     "shell.execute_reply": "2025-03-25T10:08:37.984187Z",
     "shell.execute_reply.started": "2025-03-25T10:08:37.973731Z"
    },
    "tags": []
   },
   "outputs": [
    {
     "data": {
      "text/plain": [
       "datetime.datetime(2023, 11, 24, 0, 0, tzinfo=zoneinfo.ZoneInfo(key='UTC'))"
      ]
     },
     "execution_count": 85,
     "metadata": {},
     "output_type": "execute_result"
    }
   ],
   "source": [
    "df1['datetime'][0]"
   ]
  },
  {
   "cell_type": "markdown",
   "id": "8d9245d0-bf1b-4ae9-b293-221d41d47f8d",
   "metadata": {},
   "source": [
    "---"
   ]
  },
  {
   "cell_type": "code",
   "execution_count": 93,
   "id": "483efbd9-bc57-473c-849a-aab407a91d7c",
   "metadata": {
    "execution": {
     "iopub.execute_input": "2025-03-25T10:10:31.022554Z",
     "iopub.status.busy": "2025-03-25T10:10:31.021446Z",
     "iopub.status.idle": "2025-03-25T10:10:41.250968Z",
     "shell.execute_reply": "2025-03-25T10:10:41.249979Z",
     "shell.execute_reply.started": "2025-03-25T10:10:31.022507Z"
    },
    "tags": []
   },
   "outputs": [],
   "source": [
    "df2 = pl.read_parquet('hf://datasets/sabareesh88/FNSPID_nasdaq/data/train-*.parquet')"
   ]
  },
  {
   "cell_type": "code",
   "execution_count": 94,
   "id": "07ba7707-0164-4ce5-8c28-d36564e7f6d5",
   "metadata": {
    "execution": {
     "iopub.execute_input": "2025-03-25T10:10:41.253473Z",
     "iopub.status.busy": "2025-03-25T10:10:41.252530Z",
     "iopub.status.idle": "2025-03-25T10:10:41.277061Z",
     "shell.execute_reply": "2025-03-25T10:10:41.276179Z",
     "shell.execute_reply.started": "2025-03-25T10:10:41.253418Z"
    },
    "tags": []
   },
   "outputs": [],
   "source": [
    "df2 = df2[['Date', 'Article_title', 'Stock_symbol', 'Article']]"
   ]
  },
  {
   "cell_type": "code",
   "execution_count": 95,
   "id": "03d95bdc-0a9f-4971-91a0-2e25c56b473c",
   "metadata": {
    "execution": {
     "iopub.execute_input": "2025-03-25T10:10:41.279587Z",
     "iopub.status.busy": "2025-03-25T10:10:41.278287Z",
     "iopub.status.idle": "2025-03-25T10:10:41.293651Z",
     "shell.execute_reply": "2025-03-25T10:10:41.292768Z",
     "shell.execute_reply.started": "2025-03-25T10:10:41.279549Z"
    },
    "tags": []
   },
   "outputs": [
    {
     "data": {
      "text/html": [
       "<div><style>\n",
       ".dataframe > thead > tr > th,\n",
       ".dataframe > tbody > tr > td {\n",
       "  text-align: right;\n",
       "}\n",
       "</style>\n",
       "<small>shape: (5, 4)</small><table border=\"1\" class=\"dataframe\"><thead><tr><th>Date</th><th>Article_title</th><th>Stock_symbol</th><th>Article</th></tr><tr><td>str</td><td>str</td><td>str</td><td>str</td></tr></thead><tbody><tr><td>&quot;2023-12-16 23:…</td><td>&quot;Interesting A …</td><td>&quot;A&quot;</td><td>&quot;Investors in A…</td></tr><tr><td>&quot;2023-12-12 00:…</td><td>&quot;Wolfe Research…</td><td>&quot;A&quot;</td><td>&quot;Fintel reports…</td></tr><tr><td>&quot;2023-12-12 00:…</td><td>&quot;Agilent Techno…</td><td>&quot;A&quot;</td><td>&quot;In recent trad…</td></tr><tr><td>&quot;2023-12-07 00:…</td><td>&quot;Agilent (A) En…</td><td>&quot;A&quot;</td><td>&quot;Agilent Techno…</td></tr><tr><td>&quot;2023-12-07 00:…</td><td>&quot;Pre-Market Mos…</td><td>&quot;A&quot;</td><td>&quot;The NASDAQ 100…</td></tr></tbody></table></div>"
      ],
      "text/plain": [
       "shape: (5, 4)\n",
       "┌─────────────────────────┬────────────────────────────┬──────────────┬────────────────────────────┐\n",
       "│ Date                    ┆ Article_title              ┆ Stock_symbol ┆ Article                    │\n",
       "│ ---                     ┆ ---                        ┆ ---          ┆ ---                        │\n",
       "│ str                     ┆ str                        ┆ str          ┆ str                        │\n",
       "╞═════════════════════════╪════════════════════════════╪══════════════╪════════════════════════════╡\n",
       "│ 2023-12-16 23:00:00 UTC ┆ Interesting A Put And Call ┆ A            ┆ Investors in Agilent       │\n",
       "│                         ┆ Optio…                     ┆              ┆ Technologie…               │\n",
       "│ 2023-12-12 00:00:00 UTC ┆ Wolfe Research Initiates   ┆ A            ┆ Fintel reports that on     │\n",
       "│                         ┆ Coverag…                   ┆              ┆ December …                 │\n",
       "│ 2023-12-12 00:00:00 UTC ┆ Agilent Technologies       ┆ A            ┆ In recent trading, shares  │\n",
       "│                         ┆ Reaches Ana…               ┆              ┆ of Agi…                    │\n",
       "│ 2023-12-07 00:00:00 UTC ┆ Agilent (A) Enhances       ┆ A            ┆ Agilent Technologies A is  │\n",
       "│                         ┆ BioTek Cyta…               ┆              ┆ enhanc…                    │\n",
       "│ 2023-12-07 00:00:00 UTC ┆ Pre-Market Most Active for ┆ A            ┆ The NASDAQ 100 Pre-Market  │\n",
       "│                         ┆ Dec 7…                     ┆              ┆ Indica…                    │\n",
       "└─────────────────────────┴────────────────────────────┴──────────────┴────────────────────────────┘"
      ]
     },
     "execution_count": 95,
     "metadata": {},
     "output_type": "execute_result"
    }
   ],
   "source": [
    "df2.head()"
   ]
  },
  {
   "cell_type": "code",
   "execution_count": 96,
   "id": "b3638c08-d56d-4fff-a502-ce86226b3b49",
   "metadata": {
    "execution": {
     "iopub.execute_input": "2025-03-25T10:10:41.296663Z",
     "iopub.status.busy": "2025-03-25T10:10:41.295619Z",
     "iopub.status.idle": "2025-03-25T10:10:41.309145Z",
     "shell.execute_reply": "2025-03-25T10:10:41.308364Z",
     "shell.execute_reply.started": "2025-03-25T10:10:41.296624Z"
    },
    "tags": []
   },
   "outputs": [],
   "source": [
    "df2 = df2.rename({'Date': 'datetime', 'Article_title': 'title', 'Stock_symbol': 'ticker', 'Article': 'text'})"
   ]
  },
  {
   "cell_type": "code",
   "execution_count": 97,
   "id": "a71072e5-9f4b-41f8-8179-300c34eab6b2",
   "metadata": {
    "execution": {
     "iopub.execute_input": "2025-03-25T10:10:41.311496Z",
     "iopub.status.busy": "2025-03-25T10:10:41.310562Z",
     "iopub.status.idle": "2025-03-25T10:10:41.359338Z",
     "shell.execute_reply": "2025-03-25T10:10:41.358482Z",
     "shell.execute_reply.started": "2025-03-25T10:10:41.311234Z"
    },
    "tags": []
   },
   "outputs": [],
   "source": [
    "df2 = df2.with_columns(\n",
    "    pl.col(\"datetime\")\n",
    "    .str.strptime(pl.Datetime, format=\"%Y-%m-%d %H:%M:%S UTC\")\n",
    "    .dt.replace_time_zone(\"UTC\")\n",
    ")"
   ]
  },
  {
   "cell_type": "code",
   "execution_count": 98,
   "id": "69bd3eaf-2847-4966-83e3-9c9d8af54c25",
   "metadata": {
    "execution": {
     "iopub.execute_input": "2025-03-25T10:10:41.362104Z",
     "iopub.status.busy": "2025-03-25T10:10:41.360346Z",
     "iopub.status.idle": "2025-03-25T10:10:41.376816Z",
     "shell.execute_reply": "2025-03-25T10:10:41.375933Z",
     "shell.execute_reply.started": "2025-03-25T10:10:41.362062Z"
    }
   },
   "outputs": [
    {
     "data": {
      "text/html": [
       "<div><style>\n",
       ".dataframe > thead > tr > th,\n",
       ".dataframe > tbody > tr > td {\n",
       "  text-align: right;\n",
       "}\n",
       "</style>\n",
       "<small>shape: (323944, 4)</small><table border=\"1\" class=\"dataframe\"><thead><tr><th>datetime</th><th>title</th><th>ticker</th><th>text</th></tr><tr><td>datetime[μs, UTC]</td><td>str</td><td>str</td><td>str</td></tr></thead><tbody><tr><td>2023-12-16 23:00:00 UTC</td><td>&quot;Interesting A …</td><td>&quot;A&quot;</td><td>&quot;Investors in A…</td></tr><tr><td>2023-12-12 00:00:00 UTC</td><td>&quot;Wolfe Research…</td><td>&quot;A&quot;</td><td>&quot;Fintel reports…</td></tr><tr><td>2023-12-12 00:00:00 UTC</td><td>&quot;Agilent Techno…</td><td>&quot;A&quot;</td><td>&quot;In recent trad…</td></tr><tr><td>2023-12-07 00:00:00 UTC</td><td>&quot;Agilent (A) En…</td><td>&quot;A&quot;</td><td>&quot;Agilent Techno…</td></tr><tr><td>2023-12-07 00:00:00 UTC</td><td>&quot;Pre-Market Mos…</td><td>&quot;A&quot;</td><td>&quot;The NASDAQ 100…</td></tr><tr><td>2023-12-05 00:00:00 UTC</td><td>&quot;A Quantitative…</td><td>&quot;A&quot;</td><td>&quot;Below is Valid…</td></tr><tr><td>2023-11-24 00:00:00 UTC</td><td>&quot;The Zacks Anal…</td><td>&quot;A&quot;</td><td>&quot;For Immediate …</td></tr><tr><td>2023-11-22 00:00:00 UTC</td><td>&quot;3 Biotech Stoc…</td><td>&quot;A&quot;</td><td>&quot;InvestorPlace …</td></tr><tr><td>2023-11-22 00:00:00 UTC</td><td>&quot;Top Research R…</td><td>&quot;A&quot;</td><td>&quot;Wednesday, Nov…</td></tr><tr><td>2023-11-21 00:00:00 UTC</td><td>&quot;Tuesday Sector…</td><td>&quot;A&quot;</td><td>&quot;In afternoon t…</td></tr><tr><td>2023-11-21 00:00:00 UTC</td><td>&quot;A Quantitative…</td><td>&quot;A&quot;</td><td>&quot;Below is Valid…</td></tr><tr><td>2023-11-21 00:00:00 UTC</td><td>&quot;Agilent (A) Q4…</td><td>&quot;A&quot;</td><td>&quot;Agilent Techno…</td></tr><tr><td>&hellip;</td><td>&hellip;</td><td>&hellip;</td><td>&hellip;</td></tr><tr><td>2015-06-17 00:00:00 UTC</td><td>&quot;This Week&#x27;s Gr…</td><td>&quot;BGFV&quot;</td><td>&quot;Todd Bunton, C…</td></tr><tr><td>2015-06-16 00:00:00 UTC</td><td>&quot;Consumer Senti…</td><td>&quot;BGFV&quot;</td><td>&quot;Consumer senti…</td></tr><tr><td>2015-06-10 00:00:00 UTC</td><td>&quot;DICK&#x27;s Sportin…</td><td>&quot;BGFV&quot;</td><td>&quot;Further advanc…</td></tr><tr><td>2015-06-10 00:00:00 UTC</td><td>&quot;Cabela&#x27;s (CAB)…</td><td>&quot;BGFV&quot;</td><td>&quot;Cabela&#x27;s Incor…</td></tr><tr><td>2015-06-05 00:00:00 UTC</td><td>&quot;Five Below (FI…</td><td>&quot;BGFV&quot;</td><td>&quot;Five Below, In…</td></tr><tr><td>2015-06-02 00:00:00 UTC</td><td>&quot;Is Hibbett in …</td><td>&quot;BGFV&quot;</td><td>&quot;We have issued…</td></tr><tr><td>2015-06-01 00:00:00 UTC</td><td>&quot;Will Ascena (A…</td><td>&quot;BGFV&quot;</td><td>&quot;Ascena Retail …</td></tr><tr><td>2015-05-26 00:00:00 UTC</td><td>&quot;Tuesday Sector…</td><td>&quot;BGFV&quot;</td><td>&quot;In trading on …</td></tr><tr><td>2015-05-26 00:00:00 UTC</td><td>&quot;Will Genesco (…</td><td>&quot;BGFV&quot;</td><td>&quot;Genesco Inc.GC…</td></tr><tr><td>2015-05-25 00:00:00 UTC</td><td>&quot;Hibbett (HIBB)…</td><td>&quot;BGFV&quot;</td><td>&quot;Hibbett Sports…</td></tr><tr><td>2015-05-22 00:00:00 UTC</td><td>&quot;Jumei Internat…</td><td>&quot;BGFV&quot;</td><td>&quot;Jumei Internat…</td></tr><tr><td>2015-05-21 00:00:00 UTC</td><td>&quot;Will Hibbett (…</td><td>&quot;BGFV&quot;</td><td>&quot;Hibbett Sports…</td></tr></tbody></table></div>"
      ],
      "text/plain": [
       "shape: (323_944, 4)\n",
       "┌─────────────────────────┬───────────────────────────────┬────────┬───────────────────────────────┐\n",
       "│ datetime                ┆ title                         ┆ ticker ┆ text                          │\n",
       "│ ---                     ┆ ---                           ┆ ---    ┆ ---                           │\n",
       "│ datetime[μs, UTC]       ┆ str                           ┆ str    ┆ str                           │\n",
       "╞═════════════════════════╪═══════════════════════════════╪════════╪═══════════════════════════════╡\n",
       "│ 2023-12-16 23:00:00 UTC ┆ Interesting A Put And Call    ┆ A      ┆ Investors in Agilent          │\n",
       "│                         ┆ Optio…                        ┆        ┆ Technologie…                  │\n",
       "│ 2023-12-12 00:00:00 UTC ┆ Wolfe Research Initiates      ┆ A      ┆ Fintel reports that on        │\n",
       "│                         ┆ Coverag…                      ┆        ┆ December …                    │\n",
       "│ 2023-12-12 00:00:00 UTC ┆ Agilent Technologies Reaches  ┆ A      ┆ In recent trading, shares of  │\n",
       "│                         ┆ Ana…                          ┆        ┆ Agi…                          │\n",
       "│ 2023-12-07 00:00:00 UTC ┆ Agilent (A) Enhances BioTek   ┆ A      ┆ Agilent Technologies A is     │\n",
       "│                         ┆ Cyta…                         ┆        ┆ enhanc…                       │\n",
       "│ …                       ┆ …                             ┆ …      ┆ …                             │\n",
       "│ 2015-05-26 00:00:00 UTC ┆ Will Genesco (GCO) Disappoint ┆ BGFV   ┆ Genesco Inc.GCO is expected   │\n",
       "│                         ┆ In…                           ┆        ┆ to r…                         │\n",
       "│ 2015-05-25 00:00:00 UTC ┆ Hibbett (HIBB) Misses Q1      ┆ BGFV   ┆ Hibbett Sports, Inc.HIBB      │\n",
       "│                         ┆ Earning…                      ┆        ┆ began f…                      │\n",
       "│ 2015-05-22 00:00:00 UTC ┆ Jumei International Holding   ┆ BGFV   ┆ Jumei International Holding   │\n",
       "│                         ┆ (JME…                         ┆        ┆ Limi…                         │\n",
       "│ 2015-05-21 00:00:00 UTC ┆ Will Hibbett (HIBB) Surprise  ┆ BGFV   ┆ Hibbett Sports Inc.HIBB is    │\n",
       "│                         ┆ Inv…                          ┆        ┆ slate…                        │\n",
       "└─────────────────────────┴───────────────────────────────┴────────┴───────────────────────────────┘"
      ]
     },
     "execution_count": 98,
     "metadata": {},
     "output_type": "execute_result"
    }
   ],
   "source": [
    "df2"
   ]
  },
  {
   "cell_type": "markdown",
   "id": "0d594d90-48ad-421c-8b31-5a84e61b50e7",
   "metadata": {},
   "source": [
    "---"
   ]
  },
  {
   "cell_type": "code",
   "execution_count": 100,
   "id": "b365b1b7-99d5-483a-bbf8-8c21081c1958",
   "metadata": {
    "execution": {
     "iopub.execute_input": "2025-03-25T10:11:29.703929Z",
     "iopub.status.busy": "2025-03-25T10:11:29.702620Z",
     "iopub.status.idle": "2025-03-25T10:11:30.477087Z",
     "shell.execute_reply": "2025-03-25T10:11:30.476206Z",
     "shell.execute_reply.started": "2025-03-25T10:11:29.703883Z"
    },
    "tags": []
   },
   "outputs": [
    {
     "data": {
      "text/html": [
       "<div><style>\n",
       ".dataframe > thead > tr > th,\n",
       ".dataframe > tbody > tr > td {\n",
       "  text-align: right;\n",
       "}\n",
       "</style>\n",
       "<small>shape: (1845559, 5)</small><table border=\"1\" class=\"dataframe\"><thead><tr><th>headline</th><th>url</th><th>publisher</th><th>date</th><th>stock</th></tr><tr><td>str</td><td>str</td><td>str</td><td>str</td><td>str</td></tr></thead><tbody><tr><td>&quot;Steel ETF&#x27;s Br…</td><td>&quot;https://www.be…</td><td>&quot;webmaster&quot;</td><td>&quot;2010-02-03 00:…</td><td>&quot;SLX&quot;</td></tr><tr><td>&quot;A World Cup ET…</td><td>&quot;https://www.be…</td><td>&quot;webmaster&quot;</td><td>&quot;2010-02-03 00:…</td><td>&quot;PPLT&quot;</td></tr><tr><td>&quot;Time to Bail O…</td><td>&quot;https://www.be…</td><td>&quot;webmaster&quot;</td><td>&quot;2010-02-04 00:…</td><td>&quot;LLL&quot;</td></tr><tr><td>&quot;Cresud&#x27;s Parts…</td><td>&quot;https://www.be…</td><td>&quot;webmaster&quot;</td><td>&quot;2010-02-04 00:…</td><td>&quot;CRESY&quot;</td></tr><tr><td>&quot;A Consumer-Sta…</td><td>&quot;https://www.be…</td><td>&quot;webmaster&quot;</td><td>&quot;2010-02-04 00:…</td><td>&quot;XLP&quot;</td></tr><tr><td>&quot;No Fear of Sma…</td><td>&quot;https://www.be…</td><td>&quot;webmaster&quot;</td><td>&quot;2010-02-05 00:…</td><td>&quot;HCP&quot;</td></tr><tr><td>&quot;An Opportunity…</td><td>&quot;https://www.be…</td><td>&quot;webmaster&quot;</td><td>&quot;2010-02-08 00:…</td><td>&quot;CXW&quot;</td></tr><tr><td>&quot;Harman Breaks …</td><td>&quot;https://www.be…</td><td>&quot;webmaster&quot;</td><td>&quot;2010-02-09 00:…</td><td>&quot;HAR&quot;</td></tr><tr><td>&quot;Let the Bulls …</td><td>&quot;https://www.be…</td><td>&quot;webmaster&quot;</td><td>&quot;2010-02-09 00:…</td><td>&quot;SBAC&quot;</td></tr><tr><td>&quot;Rob&#x27;s Wrap: OS…</td><td>&quot;https://www.be…</td><td>&quot;webmaster&quot;</td><td>&quot;2010-02-09 00:…</td><td>&quot;FXP&quot;</td></tr><tr><td>&quot;Net/Nets: A CO…</td><td>&quot;https://www.be…</td><td>&quot;webmaster&quot;</td><td>&quot;2010-02-10 00:…</td><td>&quot;SMRT&quot;</td></tr><tr><td>&quot;Charts Paint I…</td><td>&quot;https://www.be…</td><td>&quot;webmaster&quot;</td><td>&quot;2010-02-14 00:…</td><td>&quot;CY&quot;</td></tr><tr><td>&hellip;</td><td>&hellip;</td><td>&hellip;</td><td>&hellip;</td><td>&hellip;</td></tr><tr><td>&quot;Icu Medical In…</td><td>&quot;http://www.gur…</td><td>&quot;GuruFocus&quot;</td><td>&quot;2020-06-03 00:…</td><td>&quot;ICUI&quot;</td></tr><tr><td>&quot;TRI Pointe Gro…</td><td>&quot;http://www.gur…</td><td>&quot;GuruFocus&quot;</td><td>&quot;2020-06-03 00:…</td><td>&quot;TPH&quot;</td></tr><tr><td>&quot;Ares Managemen…</td><td>&quot;http://www.gur…</td><td>&quot;GuruFocus&quot;</td><td>&quot;2020-06-03 00:…</td><td>&quot;ARES&quot;</td></tr><tr><td>&quot;Precious Metal…</td><td>&quot;https://talkma…</td><td>&quot;TalkMarkets&quot;</td><td>&quot;2020-06-03 00:…</td><td>&quot;PPLT&quot;</td></tr><tr><td>&quot;Still Flowing&quot;</td><td>&quot;https://talkma…</td><td>&quot;TalkMarkets&quot;</td><td>&quot;2020-06-03 00:…</td><td>&quot;WMB&quot;</td></tr><tr><td>&quot;Zoom Stock Ris…</td><td>&quot;https://talkma…</td><td>&quot;TalkMarkets&quot;</td><td>&quot;2020-06-03 00:…</td><td>&quot;SPY&quot;</td></tr><tr><td>&quot;Robbins Geller…</td><td>&quot;http://www.gur…</td><td>&quot;GuruFocus&quot;</td><td>&quot;2020-06-04 00:…</td><td>&quot;SERV&quot;</td></tr><tr><td>&quot;Norfolk Southe…</td><td>&quot;http://www.gur…</td><td>&quot;GuruFocus&quot;</td><td>&quot;2020-06-04 00:…</td><td>&quot;NSC&quot;</td></tr><tr><td>&quot;— Stocks Tumbl…</td><td>&quot;http://www.gur…</td><td>&quot;GuruFocus&quot;</td><td>&quot;2020-06-04 00:…</td><td>&quot;SJM&quot;</td></tr><tr><td>&quot;Williams to Bu…</td><td>&quot;http://www.zac…</td><td>&quot;Zacks&quot;</td><td>&quot;2020-06-04 00:…</td><td>&quot;RDS.A&quot;</td></tr><tr><td>&quot;Airline Stocks…</td><td>&quot;https://talkma…</td><td>&quot;TalkMarkets&quot;</td><td>&quot;2020-06-04 00:…</td><td>&quot;XLV&quot;</td></tr><tr><td>&quot;Daily Stock Pi…</td><td>&quot;https://talkma…</td><td>&quot;TalkMarkets&quot;</td><td>&quot;2020-06-04 00:…</td><td>&quot;PRU&quot;</td></tr></tbody></table></div>"
      ],
      "text/plain": [
       "shape: (1_845_559, 5)\n",
       "┌───────────────────────────┬──────────────────────────┬─────────────┬─────────────────────┬───────┐\n",
       "│ headline                  ┆ url                      ┆ publisher   ┆ date                ┆ stock │\n",
       "│ ---                       ┆ ---                      ┆ ---         ┆ ---                 ┆ ---   │\n",
       "│ str                       ┆ str                      ┆ str         ┆ str                 ┆ str   │\n",
       "╞═══════════════════════════╪══════════════════════════╪═════════════╪═════════════════════╪═══════╡\n",
       "│ Steel ETF's Bright        ┆ https://www.benzinga.com ┆ webmaster   ┆ 2010-02-03 00:00:00 ┆ SLX   │\n",
       "│ Prospects                 ┆ /content…                ┆             ┆                     ┆       │\n",
       "│ A World Cup ETF           ┆ https://www.benzinga.com ┆ webmaster   ┆ 2010-02-03 00:00:00 ┆ PPLT  │\n",
       "│                           ┆ /content…                ┆             ┆                     ┆       │\n",
       "│ Time to Bail Out of       ┆ https://www.benzinga.com ┆ webmaster   ┆ 2010-02-04 00:00:00 ┆ LLL   │\n",
       "│ Aerospace ET…             ┆ /content…                ┆             ┆                     ┆       │\n",
       "│ Cresud's Parts Vastly     ┆ https://www.benzinga.com ┆ webmaster   ┆ 2010-02-04 00:00:00 ┆ CRESY │\n",
       "│ Exceed Val…               ┆ /content…                ┆             ┆                     ┆       │\n",
       "│ …                         ┆ …                        ┆ …           ┆ …                   ┆ …     │\n",
       "│ — Stocks Tumble on        ┆ http://www.gurufocus.com ┆ GuruFocus   ┆ 2020-06-04 00:00:00 ┆ SJM   │\n",
       "│ Thursday                  ┆ /news/11…                ┆             ┆                     ┆       │\n",
       "│ Williams to Build 1-40 MW ┆ http://www.zacks.com/sto ┆ Zacks       ┆ 2020-06-04 00:00:00 ┆ RDS.A │\n",
       "│ Solar …                   ┆ ck/news/…                ┆             ┆                     ┆       │\n",
       "│ Airline Stocks Take       ┆ https://talkmarkets.com/ ┆ TalkMarkets ┆ 2020-06-04 00:00:00 ┆ XLV   │\n",
       "│ Flight Today              ┆ content/…                ┆             ┆                     ┆       │\n",
       "│ Daily Stock Pick:         ┆ https://talkmarkets.com/ ┆ TalkMarkets ┆ 2020-06-04 00:00:00 ┆ PRU   │\n",
       "│ Prudential Fin…           ┆ content/…                ┆             ┆                     ┆       │\n",
       "└───────────────────────────┴──────────────────────────┴─────────────┴─────────────────────┴───────┘"
      ]
     },
     "execution_count": 100,
     "metadata": {},
     "output_type": "execute_result"
    }
   ],
   "source": [
    "df3 = pl.read_csv(os.path.join('.', 'data', 'headlines.csv'))\n",
    "df3"
   ]
  },
  {
   "cell_type": "code",
   "execution_count": 101,
   "id": "0f30ec18-5a1c-4044-9b49-e8e25dc1f693",
   "metadata": {
    "execution": {
     "iopub.execute_input": "2025-03-25T10:11:31.408406Z",
     "iopub.status.busy": "2025-03-25T10:11:31.406961Z",
     "iopub.status.idle": "2025-03-25T10:11:31.439074Z",
     "shell.execute_reply": "2025-03-25T10:11:31.438278Z",
     "shell.execute_reply.started": "2025-03-25T10:11:31.408344Z"
    },
    "tags": []
   },
   "outputs": [],
   "source": [
    "df3 = df3.rename({'headline': 'title', 'date': 'datetime', 'stock': 'ticker'})"
   ]
  },
  {
   "cell_type": "code",
   "execution_count": 102,
   "id": "92c994ac-6385-400e-bdc7-84978156f5c6",
   "metadata": {
    "execution": {
     "iopub.execute_input": "2025-03-25T10:11:32.691813Z",
     "iopub.status.busy": "2025-03-25T10:11:32.690675Z",
     "iopub.status.idle": "2025-03-25T10:11:32.724946Z",
     "shell.execute_reply": "2025-03-25T10:11:32.724175Z",
     "shell.execute_reply.started": "2025-03-25T10:11:32.691767Z"
    },
    "tags": []
   },
   "outputs": [],
   "source": [
    "df3 = df3[['title', 'datetime', 'ticker']]"
   ]
  },
  {
   "cell_type": "code",
   "execution_count": 103,
   "id": "477e639a-5625-410a-9c5b-beef05e669dd",
   "metadata": {
    "execution": {
     "iopub.execute_input": "2025-03-25T10:11:33.333053Z",
     "iopub.status.busy": "2025-03-25T10:11:33.331985Z",
     "iopub.status.idle": "2025-03-25T10:11:33.346867Z",
     "shell.execute_reply": "2025-03-25T10:11:33.346051Z",
     "shell.execute_reply.started": "2025-03-25T10:11:33.333015Z"
    },
    "tags": []
   },
   "outputs": [],
   "source": [
    "df3 = df3.with_columns(df3['title'].alias('text'))"
   ]
  },
  {
   "cell_type": "code",
   "execution_count": 105,
   "id": "4c156075-a303-4e7c-befd-08e114a47f1a",
   "metadata": {
    "execution": {
     "iopub.execute_input": "2025-03-25T10:12:38.798638Z",
     "iopub.status.busy": "2025-03-25T10:12:38.797248Z",
     "iopub.status.idle": "2025-03-25T10:12:39.020783Z",
     "shell.execute_reply": "2025-03-25T10:12:39.019901Z",
     "shell.execute_reply.started": "2025-03-25T10:12:38.798576Z"
    },
    "tags": []
   },
   "outputs": [],
   "source": [
    "df3 = df3.with_columns(\n",
    "    pl.col(\"datetime\")\n",
    "    .str.strptime(pl.Datetime, format=\"%Y-%m-%d %H:%M:%S\")\n",
    "    .dt.replace_time_zone(\"UTC\")\n",
    ")"
   ]
  },
  {
   "cell_type": "markdown",
   "id": "78830438-f87e-4441-b69b-758a8b0022aa",
   "metadata": {},
   "source": [
    "## Merge"
   ]
  },
  {
   "cell_type": "code",
   "execution_count": 106,
   "id": "fdb18556-41e7-4e2e-9c51-b247792628e5",
   "metadata": {
    "execution": {
     "iopub.execute_input": "2025-03-25T10:12:41.160790Z",
     "iopub.status.busy": "2025-03-25T10:12:41.159557Z",
     "iopub.status.idle": "2025-03-25T10:12:43.344383Z",
     "shell.execute_reply": "2025-03-25T10:12:43.343537Z",
     "shell.execute_reply.started": "2025-03-25T10:12:41.160744Z"
    },
    "tags": []
   },
   "outputs": [
    {
     "data": {
      "text/plain": [
       "(2264962, 4)"
      ]
     },
     "execution_count": 106,
     "metadata": {},
     "output_type": "execute_result"
    }
   ],
   "source": [
    "df1 = df1.select(['datetime', 'ticker', 'title', 'text'])\n",
    "df2 = df2.select(['datetime', 'ticker', 'title', 'text'])\n",
    "df3 = df3.select(['datetime', 'ticker', 'title', 'text'])\n",
    "\n",
    "df = pl.concat([df1, df2, df3])\n",
    "df.shape"
   ]
  },
  {
   "cell_type": "code",
   "execution_count": 109,
   "id": "d83fab92-85f4-41f0-a7a3-bc4ac55a82f8",
   "metadata": {
    "execution": {
     "iopub.execute_input": "2025-03-25T10:15:29.923616Z",
     "iopub.status.busy": "2025-03-25T10:15:29.922353Z",
     "iopub.status.idle": "2025-03-25T10:15:34.602057Z",
     "shell.execute_reply": "2025-03-25T10:15:34.601022Z",
     "shell.execute_reply.started": "2025-03-25T10:15:29.923572Z"
    }
   },
   "outputs": [
    {
     "data": {
      "text/html": [
       "<div><style>\n",
       ".dataframe > thead > tr > th,\n",
       ".dataframe > tbody > tr > td {\n",
       "  text-align: right;\n",
       "}\n",
       "</style>\n",
       "<small>shape: (2264962, 4)</small><table border=\"1\" class=\"dataframe\"><thead><tr><th>datetime</th><th>ticker</th><th>title</th><th>text</th></tr><tr><td>datetime[μs, UTC]</td><td>str</td><td>str</td><td>str</td></tr></thead><tbody><tr><td>2024-01-09 00:00:00 UTC</td><td>&quot;AMD&quot;</td><td>&quot;Is iShares Sem…</td><td>&quot;The iShares Se…</td></tr><tr><td>2024-01-09 00:00:00 UTC</td><td>&quot;AMD&quot;</td><td>&quot;Stock Market N…</td><td>&quot;U.S. stock mar…</td></tr><tr><td>2024-01-09 00:00:00 UTC</td><td>&quot;AMD&quot;</td><td>&quot;Japan&#x27;s Nikkei…</td><td>&quot;TOKYO, Jan 9 (…</td></tr><tr><td>2024-01-09 00:00:00 UTC</td><td>&quot;AMD&quot;</td><td>&quot;Will Advanced …</td><td>&quot;The trillion-d…</td></tr><tr><td>2024-01-09 00:00:00 UTC</td><td>&quot;AMD&quot;</td><td>&quot;Zacks Industry…</td><td>&quot;For Immediate …</td></tr><tr><td>2024-01-09 00:00:00 UTC</td><td>&quot;AMD&quot;</td><td>&quot;AMD Strengthen…</td><td>&quot;Advanced Micro…</td></tr><tr><td>2024-01-09 00:00:00 UTC</td><td>&quot;AMD&quot;</td><td>&quot;AMD Quantitati…</td><td>&quot;Below is Valid…</td></tr><tr><td>2024-01-08 00:00:00 UTC</td><td>&quot;AMD&quot;</td><td>&quot;4 Electronics …</td><td>&quot;The challengin…</td></tr><tr><td>2024-01-08 00:00:00 UTC</td><td>&quot;AMD&quot;</td><td>&quot;3 Technology T…</td><td>&quot;InvestorPlace …</td></tr><tr><td>2024-01-08 00:00:00 UTC</td><td>&quot;AMD&quot;</td><td>&quot;The 3 Best Mac…</td><td>&quot;InvestorPlace …</td></tr><tr><td>2024-01-08 00:00:00 UTC</td><td>&quot;AMD&quot;</td><td>&quot;If You Can Onl…</td><td>&quot;InvestorPlace …</td></tr><tr><td>2024-01-08 00:00:00 UTC</td><td>&quot;AMD&quot;</td><td>&quot;US STOCKS-Nasd…</td><td>&quot;By Chuck Mikol…</td></tr><tr><td>&hellip;</td><td>&hellip;</td><td>&hellip;</td><td>&hellip;</td></tr><tr><td>2009-10-21 00:00:00 UTC</td><td>&quot;AIG&quot;</td><td>&quot;Ultimately, Wh…</td><td>&quot;Amit Chokshi s…</td></tr><tr><td>2009-10-14 00:00:00 UTC</td><td>&quot;AA&quot;</td><td>&quot;The Clearly Un…</td><td>&quot;Financials had…</td></tr><tr><td>2009-10-13 00:00:00 UTC</td><td>&quot;AIA&quot;</td><td>&quot;Other People’s…</td><td>&quot;Gary Gordon su…</td></tr><tr><td>2009-10-12 00:00:00 UTC</td><td>&quot;BEP&quot;</td><td>&quot;Finding Double…</td><td>&quot;Looking at the…</td></tr><tr><td>2009-10-09 00:00:00 UTC</td><td>&quot;AA&quot;</td><td>&quot;In Earnings Se…</td><td>&quot;Rakesh Saxena …</td></tr><tr><td>2009-10-09 00:00:00 UTC</td><td>&quot;AEP&quot;</td><td>&quot;Mistras Group …</td><td>&quot;Abbi Adest\n",
       "Mis…</td></tr><tr><td>2009-10-07 00:00:00 UTC</td><td>&quot;AA&quot;</td><td>&quot;Allow Me to In…</td><td>&quot;It&#x27;s been said…</td></tr><tr><td>2009-09-30 00:00:00 UTC</td><td>&quot;AGG&quot;</td><td>&quot;Are Low Bond Y…</td><td>&quot;SAN DIEGO (ETF…</td></tr><tr><td>2009-08-15 00:00:00 UTC</td><td>&quot;ACWX&quot;</td><td>&quot;International …</td><td>&quot;Historically i…</td></tr><tr><td>2009-06-09 00:00:00 UTC</td><td>&quot;AFK&quot;</td><td>&quot;ETFs for Oil-R…</td><td>&quot;Higher oil pri…</td></tr><tr><td>2009-04-08 00:00:00 UTC</td><td>&quot;AGQ&quot;</td><td>&quot;Leveraged ETFs…</td><td>&quot;Leveraged ETFs…</td></tr><tr><td>1969-12-31 00:00:00 UTC</td><td>&quot;MRH&quot;</td><td>&quot;Montpelier Re …</td><td>&quot;Montpelier Re …</td></tr></tbody></table></div>"
      ],
      "text/plain": [
       "shape: (2_264_962, 4)\n",
       "┌─────────────────────────┬────────┬───────────────────────────────┬───────────────────────────────┐\n",
       "│ datetime                ┆ ticker ┆ title                         ┆ text                          │\n",
       "│ ---                     ┆ ---    ┆ ---                           ┆ ---                           │\n",
       "│ datetime[μs, UTC]       ┆ str    ┆ str                           ┆ str                           │\n",
       "╞═════════════════════════╪════════╪═══════════════════════════════╪═══════════════════════════════╡\n",
       "│ 2024-01-09 00:00:00 UTC ┆ AMD    ┆ Is iShares Semiconductor ETF  ┆ The iShares Semiconductor ETF │\n",
       "│                         ┆        ┆ (SO…                          ┆ (S…                           │\n",
       "│ 2024-01-09 00:00:00 UTC ┆ AMD    ┆ Stock Market News for Jan 9,  ┆ U.S. stock markets closed     │\n",
       "│                         ┆        ┆ 202…                          ┆ sharpl…                       │\n",
       "│ 2024-01-09 00:00:00 UTC ┆ AMD    ┆ Japan's Nikkei hits 33-year   ┆ TOKYO, Jan 9 (Reuters) -      │\n",
       "│                         ┆        ┆ high…                         ┆ Japan's…                      │\n",
       "│ 2024-01-09 00:00:00 UTC ┆ AMD    ┆ Will Advanced Micro Devices   ┆ The trillion-dollar club is   │\n",
       "│                         ┆        ┆ Be a…                         ┆ cert…                         │\n",
       "│ …                       ┆ …      ┆ …                             ┆ …                             │\n",
       "│ 2009-08-15 00:00:00 UTC ┆ ACWX   ┆ International ETFs:           ┆ Historically investors have   │\n",
       "│                         ┆        ┆ Diversificat…                 ┆ adde…                         │\n",
       "│ 2009-06-09 00:00:00 UTC ┆ AFK    ┆ ETFs for Oil-Rich Countries   ┆ Higher oil prices over the    │\n",
       "│                         ┆        ┆                               ┆ past …                        │\n",
       "│ 2009-04-08 00:00:00 UTC ┆ AGQ    ┆ Leveraged ETFs Beat Margin    ┆ Leveraged ETFs are            │\n",
       "│                         ┆        ┆                               ┆ convenient, b…                │\n",
       "│ 1969-12-31 00:00:00 UTC ┆ MRH    ┆ Montpelier Re Holdings Ltd.   ┆ Montpelier Re Holdings Ltd.   │\n",
       "│                         ┆        ┆ (MRH…                         ┆ (MRH…                         │\n",
       "└─────────────────────────┴────────┴───────────────────────────────┴───────────────────────────────┘"
      ]
     },
     "execution_count": 109,
     "metadata": {},
     "output_type": "execute_result"
    }
   ],
   "source": [
    "df = df.sort(\"datetime\", descending=True)\n",
    "df"
   ]
  },
  {
   "cell_type": "code",
   "execution_count": 112,
   "id": "38d29d4c-1bb7-49c4-bf64-e8da532a9676",
   "metadata": {
    "execution": {
     "iopub.execute_input": "2025-03-25T10:18:01.123619Z",
     "iopub.status.busy": "2025-03-25T10:18:01.122251Z",
     "iopub.status.idle": "2025-03-25T10:18:01.143475Z",
     "shell.execute_reply": "2025-03-25T10:18:01.142702Z",
     "shell.execute_reply.started": "2025-03-25T10:18:01.123559Z"
    }
   },
   "outputs": [],
   "source": [
    "# drop last row\n",
    "df = df.slice(0, df.height - 1)"
   ]
  },
  {
   "cell_type": "code",
   "execution_count": 115,
   "id": "69ee6fd0-40b6-4b4d-bb6b-2ecc79b56160",
   "metadata": {
    "execution": {
     "iopub.execute_input": "2025-03-25T10:19:04.190989Z",
     "iopub.status.busy": "2025-03-25T10:19:04.190350Z",
     "iopub.status.idle": "2025-03-25T10:19:04.645631Z",
     "shell.execute_reply": "2025-03-25T10:19:04.644642Z",
     "shell.execute_reply.started": "2025-03-25T10:19:04.190945Z"
    },
    "tags": []
   },
   "outputs": [
    {
     "data": {
      "image/png": "[encoded data removed]",
      "text/plain": [
       "<Figure size 640x480 with 1 Axes>"
      ]
     },
     "metadata": {},
     "output_type": "display_data"
    }
   ],
   "source": [
    "hist_data = df.with_columns(pl.col(\"datetime\").dt.year().alias(\"year\")) \\\n",
    "              .groupby(\"year\") \\\n",
    "              .count()\n",
    "\n",
    "years = hist_data[\"year\"].to_list()\n",
    "counts = hist_data[\"count\"].to_list()\n",
    "\n",
    "plt.bar(years, counts, color=\"skyblue\", edgecolor=\"black\")\n",
    "plt.xlabel(\"Year\")\n",
    "plt.ylabel(\"Number of News\")\n",
    "plt.title(\"Number of news per Year\")\n",
    "plt.xticks(years, rotation=45)\n",
    "plt.show()"
   ]
  },
  {
   "cell_type": "code",
   "execution_count": 116,
   "id": "f07b06fa-8224-4fc3-998c-8fb983fe65d4",
   "metadata": {
    "execution": {
     "iopub.execute_input": "2025-03-25T10:20:58.548292Z",
     "iopub.status.busy": "2025-03-25T10:20:58.547214Z",
     "iopub.status.idle": "2025-03-25T10:20:59.865817Z",
     "shell.execute_reply": "2025-03-25T10:20:59.864901Z",
     "shell.execute_reply.started": "2025-03-25T10:20:58.548246Z"
    }
   },
   "outputs": [],
   "source": [
    "df = df.filter(pl.col(\"datetime\").dt.year() >= 2012)"
   ]
  },
  {
   "cell_type": "code",
   "execution_count": 117,
   "id": "26eea311-e259-416c-b9c2-134e67882e02",
   "metadata": {
    "execution": {
     "iopub.execute_input": "2025-03-25T10:23:18.791973Z",
     "iopub.status.busy": "2025-03-25T10:23:18.790906Z",
     "iopub.status.idle": "2025-03-25T10:23:42.523747Z",
     "shell.execute_reply": "2025-03-25T10:23:42.522943Z",
     "shell.execute_reply.started": "2025-03-25T10:23:18.791927Z"
    }
   },
   "outputs": [],
   "source": [
    "df.write_parquet('all_news.parquet')"
   ]
  },
  {
   "cell_type": "code",
   "execution_count": 128,
   "id": "0a2921b8-bf0a-4d74-94e9-29566d1596a4",
   "metadata": {
    "execution": {
     "iopub.execute_input": "2025-03-25T10:29:05.518458Z",
     "iopub.status.busy": "2025-03-25T10:29:05.517231Z",
     "iopub.status.idle": "2025-03-25T10:29:05.853576Z",
     "shell.execute_reply": "2025-03-25T10:29:05.852060Z",
     "shell.execute_reply.started": "2025-03-25T10:29:05.518410Z"
    },
    "tags": []
   },
   "outputs": [
    {
     "data": {
      "image/png": "[encoded data removed]",
      "text/plain": [
       "<Figure size 1000x600 with 1 Axes>"
      ]
     },
     "metadata": {},
     "output_type": "display_data"
    }
   ],
   "source": [
    "ticker_counts = df.groupby(\"ticker\").agg(pl.col(\"ticker\").count().alias(\"count\"))\n",
    "ticker_counts = ticker_counts.sort(\"count\", descending=True)\n",
    "\n",
    "top_20 = ticker_counts.head(20)\n",
    "top_20 = top_20.with_columns(pl.col(\"count\").cast(pl.Int64))\n",
    "\n",
    "labels = top_20[\"ticker\"].to_list()\n",
    "sizes = top_20[\"count\"].to_list()\n",
    "\n",
    "plt.figure(figsize=(10, 6))\n",
    "plt.pie(sizes, labels=labels, autopct=\"%1.1f%%\", startangle=140, colors=plt.cm.Paired.colors)\n",
    "plt.title(\"Top 20 Most Popular Tickers (Others excluded)\")\n",
    "plt.show()"
   ]
  },
  {
   "cell_type": "code",
   "execution_count": 138,
   "id": "63967aba-4954-4c83-b0a9-ecf15cdfdad6",
   "metadata": {
    "execution": {
     "iopub.execute_input": "2025-03-25T10:41:38.086080Z",
     "iopub.status.busy": "2025-03-25T10:41:38.084644Z",
     "iopub.status.idle": "2025-03-25T10:41:38.105676Z",
     "shell.execute_reply": "2025-03-25T10:41:38.104869Z",
     "shell.execute_reply.started": "2025-03-25T10:41:38.086018Z"
    },
    "tags": []
   },
   "outputs": [
    {
     "data": {
      "text/plain": [
       "['AAPL',\n",
       " 'NVDA',\n",
       " 'MSFT',\n",
       " 'AMZN',\n",
       " 'GOOG',\n",
       " 'GOOGL',\n",
       " 'META',\n",
       " 'AVGO',\n",
       " 'TSLA',\n",
       " 'NFLX']"
      ]
     },
     "execution_count": 138,
     "metadata": {},
     "output_type": "execute_result"
    }
   ],
   "source": [
    "with open('nasdaq100.txt', 'r') as file:\n",
    "    nasdaq100 = [x.strip() for x in file.readlines()]\n",
    "nasdaq100[:10]"
   ]
  },
  {
   "cell_type": "code",
   "execution_count": 140,
   "id": "326b645d-b87a-48a2-868b-e023bc855bb1",
   "metadata": {
    "execution": {
     "iopub.execute_input": "2025-03-25T10:42:55.088664Z",
     "iopub.status.busy": "2025-03-25T10:42:55.087484Z",
     "iopub.status.idle": "2025-03-25T10:42:55.524360Z",
     "shell.execute_reply": "2025-03-25T10:42:55.523552Z",
     "shell.execute_reply.started": "2025-03-25T10:42:55.088615Z"
    },
    "tags": []
   },
   "outputs": [
    {
     "data": {
      "text/plain": [
       "(139347, 4)"
      ]
     },
     "execution_count": 140,
     "metadata": {},
     "output_type": "execute_result"
    }
   ],
   "source": [
    "nasdaq_df = df.filter(pl.col(\"ticker\").is_in(nasdaq100))\n",
    "nasdaq_df.shape"
   ]
  },
  {
   "cell_type": "code",
   "execution_count": 142,
   "id": "7b0cb686-fddb-4429-a130-abb33e9b385e",
   "metadata": {
    "execution": {
     "iopub.execute_input": "2025-03-25T10:43:38.158659Z",
     "iopub.status.busy": "2025-03-25T10:43:38.157423Z",
     "iopub.status.idle": "2025-03-25T10:43:40.811061Z",
     "shell.execute_reply": "2025-03-25T10:43:40.810149Z",
     "shell.execute_reply.started": "2025-03-25T10:43:38.158597Z"
    }
   },
   "outputs": [],
   "source": [
    "nasdaq_df.write_parquet('nasdaq100_news.parquet')"
   ]
  },
  {
   "cell_type": "code",
   "execution_count": 155,
   "id": "67d0f05e-a504-4bdd-946f-bbe3f2ec0879",
   "metadata": {
    "execution": {
     "iopub.execute_input": "2025-03-25T10:48:55.043918Z",
     "iopub.status.busy": "2025-03-25T10:48:55.042800Z",
     "iopub.status.idle": "2025-03-25T10:48:55.743542Z",
     "shell.execute_reply": "2025-03-25T10:48:55.742654Z",
     "shell.execute_reply.started": "2025-03-25T10:48:55.043872Z"
    },
    "tags": []
   },
   "outputs": [
    {
     "data": {
      "image/png": "[encoded data removed]",
      "text/plain": [
       "<Figure size 2000x600 with 1 Axes>"
      ]
     },
     "metadata": {},
     "output_type": "display_data"
    }
   ],
   "source": [
    "value_counts = nasdaq_df.groupby('ticker').agg(pl.count().alias('count'))\n",
    "value_counts = value_counts.to_pandas().sort_values('count', ascending=False)\n",
    "\n",
    "plt.figure(figsize=(20, 6))\n",
    "plt.bar(value_counts['ticker'], value_counts['count'], color='skyblue')\n",
    "plt.xlabel('Ticker')\n",
    "plt.ylabel('Count')\n",
    "plt.title('Value Counts for Tickers in nasdaq_df')\n",
    "plt.xticks(rotation=70)\n",
    "plt.axhline(y=1500, color='r', linestyle='--', label='y = 1500')\n",
    "plt.tight_layout()\n",
    "plt.show()"
   ]
  },
  {
   "cell_type": "code",
   "execution_count": 157,
   "id": "954b3dae-3135-4fc2-a1e8-2883f4de506e",
   "metadata": {
    "execution": {
     "iopub.execute_input": "2025-03-25T10:51:35.961630Z",
     "iopub.status.busy": "2025-03-25T10:51:35.960777Z",
     "iopub.status.idle": "2025-03-25T10:51:36.473143Z",
     "shell.execute_reply": "2025-03-25T10:51:36.472301Z",
     "shell.execute_reply.started": "2025-03-25T10:51:35.961585Z"
    },
    "tags": []
   },
   "outputs": [
    {
     "data": {
      "text/html": [
       "<div><style>\n",
       ".dataframe > thead > tr > th,\n",
       ".dataframe > tbody > tr > td {\n",
       "  text-align: right;\n",
       "}\n",
       "</style>\n",
       "<small>shape: (111894, 4)</small><table border=\"1\" class=\"dataframe\"><thead><tr><th>datetime</th><th>ticker</th><th>title</th><th>text</th></tr><tr><td>datetime[μs, UTC]</td><td>str</td><td>str</td><td>str</td></tr></thead><tbody><tr><td>2024-01-09 00:00:00 UTC</td><td>&quot;AMD&quot;</td><td>&quot;Is iShares Sem…</td><td>&quot;The iShares Se…</td></tr><tr><td>2024-01-09 00:00:00 UTC</td><td>&quot;AMD&quot;</td><td>&quot;Stock Market N…</td><td>&quot;U.S. stock mar…</td></tr><tr><td>2024-01-09 00:00:00 UTC</td><td>&quot;AMD&quot;</td><td>&quot;Japan&#x27;s Nikkei…</td><td>&quot;TOKYO, Jan 9 (…</td></tr><tr><td>2024-01-09 00:00:00 UTC</td><td>&quot;AMD&quot;</td><td>&quot;Will Advanced …</td><td>&quot;The trillion-d…</td></tr><tr><td>2024-01-09 00:00:00 UTC</td><td>&quot;AMD&quot;</td><td>&quot;Zacks Industry…</td><td>&quot;For Immediate …</td></tr><tr><td>2024-01-09 00:00:00 UTC</td><td>&quot;AMD&quot;</td><td>&quot;AMD Strengthen…</td><td>&quot;Advanced Micro…</td></tr><tr><td>2024-01-09 00:00:00 UTC</td><td>&quot;AMD&quot;</td><td>&quot;AMD Quantitati…</td><td>&quot;Below is Valid…</td></tr><tr><td>2024-01-08 00:00:00 UTC</td><td>&quot;AMD&quot;</td><td>&quot;4 Electronics …</td><td>&quot;The challengin…</td></tr><tr><td>2024-01-08 00:00:00 UTC</td><td>&quot;AMD&quot;</td><td>&quot;3 Technology T…</td><td>&quot;InvestorPlace …</td></tr><tr><td>2024-01-08 00:00:00 UTC</td><td>&quot;AMD&quot;</td><td>&quot;The 3 Best Mac…</td><td>&quot;InvestorPlace …</td></tr><tr><td>2024-01-08 00:00:00 UTC</td><td>&quot;AMD&quot;</td><td>&quot;If You Can Onl…</td><td>&quot;InvestorPlace …</td></tr><tr><td>2024-01-08 00:00:00 UTC</td><td>&quot;AMD&quot;</td><td>&quot;US STOCKS-Nasd…</td><td>&quot;By Chuck Mikol…</td></tr><tr><td>&hellip;</td><td>&hellip;</td><td>&hellip;</td><td>&hellip;</td></tr><tr><td>2012-01-09 00:00:00 UTC</td><td>&quot;CSX&quot;</td><td>&quot;Cramer&#x27;s &#x27;Mad …</td><td>&quot;Cramer&#x27;s &#x27;Mad …</td></tr><tr><td>2012-01-09 00:00:00 UTC</td><td>&quot;CSX&quot;</td><td>&quot;Customers Inve…</td><td>&quot;Customers Inve…</td></tr><tr><td>2012-01-09 00:00:00 UTC</td><td>&quot;ASML&quot;</td><td>&quot;Analyst Calls …</td><td>&quot;Analyst Calls …</td></tr><tr><td>2012-01-06 00:00:00 UTC</td><td>&quot;ADP&quot;</td><td>&quot;Stock Market N…</td><td>&quot;A slew of bett…</td></tr><tr><td>2012-01-06 00:00:00 UTC</td><td>&quot;ADP&quot;</td><td>&quot;The Zacks Anal…</td><td>&quot;For Immediate …</td></tr><tr><td>2012-01-06 00:00:00 UTC</td><td>&quot;AEP&quot;</td><td>&quot;American Elect…</td><td>&quot;American Elect…</td></tr><tr><td>2012-01-06 00:00:00 UTC</td><td>&quot;ADI&quot;</td><td>&quot;16 Stocks Pick…</td><td>&quot;16 Stocks Pick…</td></tr><tr><td>2012-01-06 00:00:00 UTC</td><td>&quot;ADI&quot;</td><td>&quot;16 Stocks Pick…</td><td>&quot;16 Stocks Pick…</td></tr><tr><td>2012-01-05 00:00:00 UTC</td><td>&quot;ADP&quot;</td><td>&quot;Good News for …</td><td>&quot;Positive domes…</td></tr><tr><td>2012-01-05 00:00:00 UTC</td><td>&quot;ADP&quot;</td><td>&quot;Ahead of Wall …</td><td>&quot;Thursday, Janu…</td></tr><tr><td>2012-01-05 00:00:00 UTC</td><td>&quot;AMGN&quot;</td><td>&quot;Hospira Upped …</td><td>&quot;We recently up…</td></tr><tr><td>2012-01-01 00:00:00 UTC</td><td>&quot;CSX&quot;</td><td>&quot;Canadian Pacif…</td><td>&quot;Canadian Pacif…</td></tr></tbody></table></div>"
      ],
      "text/plain": [
       "shape: (111_894, 4)\n",
       "┌─────────────────────────┬────────┬───────────────────────────────┬───────────────────────────────┐\n",
       "│ datetime                ┆ ticker ┆ title                         ┆ text                          │\n",
       "│ ---                     ┆ ---    ┆ ---                           ┆ ---                           │\n",
       "│ datetime[μs, UTC]       ┆ str    ┆ str                           ┆ str                           │\n",
       "╞═════════════════════════╪════════╪═══════════════════════════════╪═══════════════════════════════╡\n",
       "│ 2024-01-09 00:00:00 UTC ┆ AMD    ┆ Is iShares Semiconductor ETF  ┆ The iShares Semiconductor ETF │\n",
       "│                         ┆        ┆ (SO…                          ┆ (S…                           │\n",
       "│ 2024-01-09 00:00:00 UTC ┆ AMD    ┆ Stock Market News for Jan 9,  ┆ U.S. stock markets closed     │\n",
       "│                         ┆        ┆ 202…                          ┆ sharpl…                       │\n",
       "│ 2024-01-09 00:00:00 UTC ┆ AMD    ┆ Japan's Nikkei hits 33-year   ┆ TOKYO, Jan 9 (Reuters) -      │\n",
       "│                         ┆        ┆ high…                         ┆ Japan's…                      │\n",
       "│ 2024-01-09 00:00:00 UTC ┆ AMD    ┆ Will Advanced Micro Devices   ┆ The trillion-dollar club is   │\n",
       "│                         ┆        ┆ Be a…                         ┆ cert…                         │\n",
       "│ …                       ┆ …      ┆ …                             ┆ …                             │\n",
       "│ 2012-01-05 00:00:00 UTC ┆ ADP    ┆ Good News for U.S. Labor      ┆ Positive domestic data and    │\n",
       "│                         ┆        ┆ Market …                      ┆ the r…                        │\n",
       "│ 2012-01-05 00:00:00 UTC ┆ ADP    ┆ Ahead of Wall Street -        ┆ Thursday, January 5, 2012     │\n",
       "│                         ┆        ┆ January 5…                    ┆ Positi…                       │\n",
       "│ 2012-01-05 00:00:00 UTC ┆ AMGN   ┆ Hospira Upped to Neutral -    ┆ We recently upgraded our      │\n",
       "│                         ┆        ┆ Analy…                        ┆ rating …                      │\n",
       "│ 2012-01-01 00:00:00 UTC ┆ CSX    ┆ Canadian Pacific Jumps on     ┆ Canadian Pacific Jumps on     │\n",
       "│                         ┆        ┆ Report…                       ┆ Report…                       │\n",
       "└─────────────────────────┴────────┴───────────────────────────────┴───────────────────────────────┘"
      ]
     },
     "execution_count": 157,
     "metadata": {},
     "output_type": "execute_result"
    }
   ],
   "source": [
    "value_counts = nasdaq_df.groupby('ticker').agg(pl.count().alias('count'))\n",
    "tickers_to_keep = value_counts.filter(pl.col('count') >= 1500).select('ticker')\n",
    "nasdaq_df = nasdaq_df.join(tickers_to_keep, on='ticker', how='inner')\n",
    "nasdaq_df"
   ]
  },
  {
   "cell_type": "code",
   "execution_count": 158,
   "id": "4227efdc-537e-4a5f-bf94-2f437e5a0d34",
   "metadata": {
    "execution": {
     "iopub.execute_input": "2025-03-25T10:57:40.222296Z",
     "iopub.status.busy": "2025-03-25T10:57:40.221003Z",
     "iopub.status.idle": "2025-03-25T10:57:40.467788Z",
     "shell.execute_reply": "2025-03-25T10:57:40.466936Z",
     "shell.execute_reply.started": "2025-03-25T10:57:40.222251Z"
    }
   },
   "outputs": [
    {
     "data": {
      "image/png": "[encoded data removed]",
      "text/plain": [
       "<Figure size 640x480 with 1 Axes>"
      ]
     },
     "metadata": {},
     "output_type": "display_data"
    }
   ],
   "source": [
    "hist_data = nasdaq_df.with_columns(pl.col(\"datetime\").dt.year().alias(\"year\")) \\\n",
    "              .groupby(\"year\") \\\n",
    "              .count()\n",
    "\n",
    "years = hist_data[\"year\"].to_list()\n",
    "counts = hist_data[\"count\"].to_list()\n",
    "\n",
    "plt.bar(years, counts, color=\"skyblue\", edgecolor=\"black\")\n",
    "plt.xlabel(\"Year\")\n",
    "plt.ylabel(\"Number of News\")\n",
    "plt.title(\"Number of news per Year\")\n",
    "plt.xticks(years, rotation=45)\n",
    "plt.show()"
   ]
  },
  {
   "cell_type": "code",
   "execution_count": 164,
   "id": "6cb98a13-3a39-471b-94fd-7382aaa2f347",
   "metadata": {
    "execution": {
     "iopub.execute_input": "2025-03-25T11:02:45.260457Z",
     "iopub.status.busy": "2025-03-25T11:02:45.259568Z",
     "iopub.status.idle": "2025-03-25T11:02:45.421251Z",
     "shell.execute_reply": "2025-03-25T11:02:45.420347Z",
     "shell.execute_reply.started": "2025-03-25T11:02:45.260412Z"
    },
    "tags": []
   },
   "outputs": [
    {
     "data": {
      "text/plain": [
       "30"
      ]
     },
     "execution_count": 164,
     "metadata": {},
     "output_type": "execute_result"
    }
   ],
   "source": [
    "len(set(nasdaq_df['ticker']))"
   ]
  },
  {
   "cell_type": "code",
   "execution_count": 165,
   "id": "fc0bcd83-7132-47f3-90e2-a7ee913db7e8",
   "metadata": {
    "execution": {
     "iopub.execute_input": "2025-03-25T11:03:01.983432Z",
     "iopub.status.busy": "2025-03-25T11:03:01.982235Z",
     "iopub.status.idle": "2025-03-25T11:03:04.555011Z",
     "shell.execute_reply": "2025-03-25T11:03:04.554058Z",
     "shell.execute_reply.started": "2025-03-25T11:03:01.983370Z"
    }
   },
   "outputs": [],
   "source": [
    "nasdaq_df.write_parquet('nasdaq30_news.parquet')"
   ]
  },
  {
   "cell_type": "markdown",
   "id": "59c989a6-7543-4507-9cbb-c31cf77a95df",
   "metadata": {},
   "source": [
    "# Download stocks data"
   ]
  },
  {
   "cell_type": "code",
   "execution_count": 6,
   "id": "95546ca8-4ad7-4992-ba5e-7039188f4045",
   "metadata": {
    "execution": {
     "iopub.execute_input": "2025-03-25T11:30:18.334465Z",
     "iopub.status.busy": "2025-03-25T11:30:18.333032Z",
     "iopub.status.idle": "2025-03-25T11:30:19.308870Z",
     "shell.execute_reply": "2025-03-25T11:30:19.307817Z",
     "shell.execute_reply.started": "2025-03-25T11:30:18.334415Z"
    },
    "tags": []
   },
   "outputs": [],
   "source": [
    "nasdaq_df = pd.read_parquet('nasdaq30_news.parquet')"
   ]
  },
  {
   "cell_type": "code",
   "execution_count": 7,
   "id": "0351eab8-70ab-4a11-b612-f269a163fd54",
   "metadata": {
    "execution": {
     "iopub.execute_input": "2025-03-25T11:30:19.311301Z",
     "iopub.status.busy": "2025-03-25T11:30:19.310525Z",
     "iopub.status.idle": "2025-03-25T11:30:19.347548Z",
     "shell.execute_reply": "2025-03-25T11:30:19.346757Z",
     "shell.execute_reply.started": "2025-03-25T11:30:19.311269Z"
    },
    "tags": []
   },
   "outputs": [],
   "source": [
    "tickers = list(set(nasdaq_df['ticker']))"
   ]
  },
  {
   "cell_type": "code",
   "execution_count": 9,
   "id": "38f65c24-1b06-4deb-8e39-f523895b30ca",
   "metadata": {
    "execution": {
     "iopub.execute_input": "2025-03-25T11:39:35.338702Z",
     "iopub.status.busy": "2025-03-25T11:39:35.337722Z",
     "iopub.status.idle": "2025-03-25T11:39:35.357404Z",
     "shell.execute_reply": "2025-03-25T11:39:35.356555Z",
     "shell.execute_reply.started": "2025-03-25T11:39:35.338657Z"
    },
    "tags": []
   },
   "outputs": [],
   "source": [
    "stocks_data_path = os.path.join('.', 'data', 'stocks')"
   ]
  },
  {
   "cell_type": "code",
   "execution_count": 28,
   "id": "108fc740-6d16-43d6-8361-60122ee546c5",
   "metadata": {
    "execution": {
     "iopub.execute_input": "2025-03-25T13:32:13.836195Z",
     "iopub.status.busy": "2025-03-25T13:32:13.834664Z",
     "iopub.status.idle": "2025-03-25T13:32:46.910257Z",
     "shell.execute_reply": "2025-03-25T13:32:46.909367Z",
     "shell.execute_reply.started": "2025-03-25T13:32:13.836135Z"
    },
    "tags": []
   },
   "outputs": [
    {
     "name": "stderr",
     "output_type": "stream",
     "text": [
      "[*********************100%***********************]  1 of 1 completed\n",
      "[*********************100%***********************]  1 of 1 completed\n",
      "[*********************100%***********************]  1 of 1 completed\n",
      "[*********************100%***********************]  1 of 1 completed\n",
      "[*********************100%***********************]  1 of 1 completed\n",
      "[*********************100%***********************]  1 of 1 completed\n",
      "[*********************100%***********************]  1 of 1 completed\n",
      "[*********************100%***********************]  1 of 1 completed\n",
      "[*********************100%***********************]  1 of 1 completed\n",
      "[*********************100%***********************]  1 of 1 completed\n",
      "[*********************100%***********************]  1 of 1 completed\n",
      "[*********************100%***********************]  1 of 1 completed\n",
      "[*********************100%***********************]  1 of 1 completed\n",
      "[*********************100%***********************]  1 of 1 completed\n",
      "[*********************100%***********************]  1 of 1 completed\n",
      "[*********************100%***********************]  1 of 1 completed\n",
      "[*********************100%***********************]  1 of 1 completed\n",
      "[*********************100%***********************]  1 of 1 completed\n",
      "[*********************100%***********************]  1 of 1 completed\n",
      "[*********************100%***********************]  1 of 1 completed\n",
      "[*********************100%***********************]  1 of 1 completed\n",
      "[*********************100%***********************]  1 of 1 completed\n",
      "[*********************100%***********************]  1 of 1 completed\n",
      "[*********************100%***********************]  1 of 1 completed\n",
      "[*********************100%***********************]  1 of 1 completed\n",
      "[*********************100%***********************]  1 of 1 completed\n",
      "[*********************100%***********************]  1 of 1 completed\n",
      "[*********************100%***********************]  1 of 1 completed\n",
      "[*********************100%***********************]  1 of 1 completed\n",
      "[*********************100%***********************]  1 of 1 completed\n",
      "100%|██████████| 30/30 [00:33<00:00,  1.10s/it]\n"
     ]
    }
   ],
   "source": [
    "for ticker in tqdm(tickers):\n",
    "    daily_data = yf.download(ticker, start=\"2012-01-01\", end=\"2023-12-31\", interval=\"1d\")\n",
    "    daily_data.to_csv(os.path.join('.', 'data', 'stocks', f'{ticker}.csv'))\n",
    "    time.sleep(1)"
   ]
  },
  {
   "cell_type": "code",
   "execution_count": 36,
   "id": "c8f7f0e1-e4f4-4944-862b-ac0410ae87a8",
   "metadata": {
    "execution": {
     "iopub.execute_input": "2025-03-25T13:38:14.392872Z",
     "iopub.status.busy": "2025-03-25T13:38:14.391408Z",
     "iopub.status.idle": "2025-03-25T13:38:15.765599Z",
     "shell.execute_reply": "2025-03-25T13:38:15.764643Z",
     "shell.execute_reply.started": "2025-03-25T13:38:14.392809Z"
    },
    "tags": []
   },
   "outputs": [],
   "source": [
    "for ticker in tickers:\n",
    "    df = pd.read_csv(os.path.join('.', 'data', 'stocks', f'{ticker}.csv'))[2:]\n",
    "    df = df.rename(columns={'Price': 'datetime'}).reset_index(drop=True)\n",
    "    df.to_csv(os.path.join('.', 'data', 'stocks', f'{ticker}.csv'), index=False)"
   ]
  },
  {
   "cell_type": "markdown",
   "id": "5a029d96-4e3e-48bb-bbcf-c96d915d1e9e",
   "metadata": {},
   "source": [
    "# Sentiment by ticker for each date"
   ]
  },
  {
   "cell_type": "code",
   "execution_count": 10,
   "id": "cb06ef21-8ce6-4988-986b-6cb23d1ba558",
   "metadata": {
    "execution": {
     "iopub.execute_input": "2025-03-25T16:26:07.823544Z",
     "iopub.status.busy": "2025-03-25T16:26:07.821753Z",
     "iopub.status.idle": "2025-03-25T16:26:08.944267Z",
     "shell.execute_reply": "2025-03-25T16:26:08.943346Z",
     "shell.execute_reply.started": "2025-03-25T16:26:07.823494Z"
    },
    "tags": []
   },
   "outputs": [],
   "source": [
    "df = pd.read_parquet(os.path.join('.', 'data', 'nasdaq30_news.parquet'))"
   ]
  },
  {
   "cell_type": "code",
   "execution_count": 11,
   "id": "ee41c42a-d130-4b91-ae15-9ad94162a302",
   "metadata": {
    "execution": {
     "iopub.execute_input": "2025-03-25T16:26:10.239855Z",
     "iopub.status.busy": "2025-03-25T16:26:10.238718Z",
     "iopub.status.idle": "2025-03-25T16:26:10.285034Z",
     "shell.execute_reply": "2025-03-25T16:26:10.284100Z",
     "shell.execute_reply.started": "2025-03-25T16:26:10.239806Z"
    },
    "tags": []
   },
   "outputs": [
    {
     "data": {
      "text/html": [
       "<div>\n",
       "<style scoped>\n",
       "    .dataframe tbody tr th:only-of-type {\n",
       "        vertical-align: middle;\n",
       "    }\n",
       "\n",
       "    .dataframe tbody tr th {\n",
       "        vertical-align: top;\n",
       "    }\n",
       "\n",
       "    .dataframe thead th {\n",
       "        text-align: right;\n",
       "    }\n",
       "</style>\n",
       "<table border=\"1\" class=\"dataframe\">\n",
       "  <thead>\n",
       "    <tr style=\"text-align: right;\">\n",
       "      <th></th>\n",
       "      <th>datetime</th>\n",
       "      <th>ticker</th>\n",
       "      <th>title</th>\n",
       "      <th>text</th>\n",
       "      <th>text_neg</th>\n",
       "      <th>text_midneg</th>\n",
       "      <th>text_neutral</th>\n",
       "      <th>text_midpos</th>\n",
       "      <th>text_pos</th>\n",
       "      <th>title_neg</th>\n",
       "      <th>title_midneg</th>\n",
       "      <th>title_neutral</th>\n",
       "      <th>title_midpos</th>\n",
       "      <th>title_pos</th>\n",
       "    </tr>\n",
       "  </thead>\n",
       "  <tbody>\n",
       "    <tr>\n",
       "      <th>0</th>\n",
       "      <td>2024-01-09 00:00:00+00:00</td>\n",
       "      <td>AMD</td>\n",
       "      <td>Is iShares Semiconductor ETF (SOXX) a Strong E...</td>\n",
       "      <td>The iShares Semiconductor ETF (SOXX) was launc...</td>\n",
       "      <td>3.472141e-04</td>\n",
       "      <td>9.923942e-09</td>\n",
       "      <td>6.481437e-01</td>\n",
       "      <td>2.195085e-06</td>\n",
       "      <td>0.351507</td>\n",
       "      <td>2.457909e-04</td>\n",
       "      <td>2.106507e-08</td>\n",
       "      <td>9.997539e-01</td>\n",
       "      <td>3.247099e-09</td>\n",
       "      <td>2.189179e-07</td>\n",
       "    </tr>\n",
       "    <tr>\n",
       "      <th>1</th>\n",
       "      <td>2024-01-09 00:00:00+00:00</td>\n",
       "      <td>AMD</td>\n",
       "      <td>Stock Market News for Jan 9, 2024</td>\n",
       "      <td>U.S. stock markets closed sharply higher on Mo...</td>\n",
       "      <td>5.480200e-09</td>\n",
       "      <td>6.135955e-12</td>\n",
       "      <td>1.698356e-03</td>\n",
       "      <td>7.098104e-05</td>\n",
       "      <td>0.998231</td>\n",
       "      <td>2.233719e-03</td>\n",
       "      <td>2.587011e-03</td>\n",
       "      <td>8.843381e-01</td>\n",
       "      <td>4.966966e-02</td>\n",
       "      <td>6.117157e-02</td>\n",
       "    </tr>\n",
       "    <tr>\n",
       "      <th>2</th>\n",
       "      <td>2024-01-09 00:00:00+00:00</td>\n",
       "      <td>AMD</td>\n",
       "      <td>Japan's Nikkei hits 33-year high as tech stock...</td>\n",
       "      <td>TOKYO, Jan 9 (Reuters) - Japan's Nikkei share ...</td>\n",
       "      <td>1.517264e-01</td>\n",
       "      <td>2.504872e-03</td>\n",
       "      <td>3.302018e-03</td>\n",
       "      <td>5.241840e-03</td>\n",
       "      <td>0.837225</td>\n",
       "      <td>6.833132e-08</td>\n",
       "      <td>1.470511e-20</td>\n",
       "      <td>3.443936e-13</td>\n",
       "      <td>8.138968e-13</td>\n",
       "      <td>9.999999e-01</td>\n",
       "    </tr>\n",
       "    <tr>\n",
       "      <th>3</th>\n",
       "      <td>2024-01-09 00:00:00+00:00</td>\n",
       "      <td>AMD</td>\n",
       "      <td>Will Advanced Micro Devices Be a Trillion-Doll...</td>\n",
       "      <td>The trillion-dollar club is certainly rarified...</td>\n",
       "      <td>1.677820e-04</td>\n",
       "      <td>1.607691e-07</td>\n",
       "      <td>5.385148e-07</td>\n",
       "      <td>3.259737e-04</td>\n",
       "      <td>0.999506</td>\n",
       "      <td>1.837178e-02</td>\n",
       "      <td>1.881204e-02</td>\n",
       "      <td>5.120176e-04</td>\n",
       "      <td>4.785705e-01</td>\n",
       "      <td>4.837336e-01</td>\n",
       "    </tr>\n",
       "    <tr>\n",
       "      <th>4</th>\n",
       "      <td>2024-01-09 00:00:00+00:00</td>\n",
       "      <td>AMD</td>\n",
       "      <td>Zacks Industry Outlook Highlights Advanced Mic...</td>\n",
       "      <td>For Immediate Release\\nChicago, IL – January 9...</td>\n",
       "      <td>5.168036e-01</td>\n",
       "      <td>8.543725e-02</td>\n",
       "      <td>1.411705e-02</td>\n",
       "      <td>4.822003e-02</td>\n",
       "      <td>0.335422</td>\n",
       "      <td>4.915071e-03</td>\n",
       "      <td>4.201150e-03</td>\n",
       "      <td>4.869574e-02</td>\n",
       "      <td>4.489187e-01</td>\n",
       "      <td>4.932694e-01</td>\n",
       "    </tr>\n",
       "    <tr>\n",
       "      <th>...</th>\n",
       "      <td>...</td>\n",
       "      <td>...</td>\n",
       "      <td>...</td>\n",
       "      <td>...</td>\n",
       "      <td>...</td>\n",
       "      <td>...</td>\n",
       "      <td>...</td>\n",
       "      <td>...</td>\n",
       "      <td>...</td>\n",
       "      <td>...</td>\n",
       "      <td>...</td>\n",
       "      <td>...</td>\n",
       "      <td>...</td>\n",
       "      <td>...</td>\n",
       "    </tr>\n",
       "    <tr>\n",
       "      <th>111889</th>\n",
       "      <td>2012-01-06 00:00:00+00:00</td>\n",
       "      <td>ADI</td>\n",
       "      <td>16 Stocks Picked by Prize-Winning Fund Managers</td>\n",
       "      <td>16 Stocks Picked by Prize-Winning Fund Managers</td>\n",
       "      <td>8.066183e-05</td>\n",
       "      <td>5.884419e-05</td>\n",
       "      <td>9.618504e-01</td>\n",
       "      <td>1.700314e-02</td>\n",
       "      <td>0.021007</td>\n",
       "      <td>1.190474e-02</td>\n",
       "      <td>1.243878e-02</td>\n",
       "      <td>5.002770e-01</td>\n",
       "      <td>2.584815e-01</td>\n",
       "      <td>2.168981e-01</td>\n",
       "    </tr>\n",
       "    <tr>\n",
       "      <th>111890</th>\n",
       "      <td>2012-01-05 00:00:00+00:00</td>\n",
       "      <td>ADP</td>\n",
       "      <td>Good News for U.S. Labor Market - Analyst Blog</td>\n",
       "      <td>Positive domestic data and the resumption of E...</td>\n",
       "      <td>5.571148e-02</td>\n",
       "      <td>4.871891e-02</td>\n",
       "      <td>4.629497e-03</td>\n",
       "      <td>4.053663e-01</td>\n",
       "      <td>0.485574</td>\n",
       "      <td>1.587326e-03</td>\n",
       "      <td>2.200699e-07</td>\n",
       "      <td>2.817411e-03</td>\n",
       "      <td>8.171409e-06</td>\n",
       "      <td>9.955869e-01</td>\n",
       "    </tr>\n",
       "    <tr>\n",
       "      <th>111891</th>\n",
       "      <td>2012-01-05 00:00:00+00:00</td>\n",
       "      <td>ADP</td>\n",
       "      <td>Ahead of Wall Street - January 5, 2012 - Ahead...</td>\n",
       "      <td>Thursday, January 5, 2012\\nPositive domestic d...</td>\n",
       "      <td>9.572425e-02</td>\n",
       "      <td>9.372959e-02</td>\n",
       "      <td>5.995124e-04</td>\n",
       "      <td>4.003055e-01</td>\n",
       "      <td>0.409641</td>\n",
       "      <td>5.424077e-04</td>\n",
       "      <td>4.892219e-04</td>\n",
       "      <td>9.016530e-01</td>\n",
       "      <td>4.975015e-02</td>\n",
       "      <td>4.756521e-02</td>\n",
       "    </tr>\n",
       "    <tr>\n",
       "      <th>111892</th>\n",
       "      <td>2012-01-05 00:00:00+00:00</td>\n",
       "      <td>AMGN</td>\n",
       "      <td>Hospira Upped to Neutral - Analyst Blog</td>\n",
       "      <td>We recently upgraded our rating on Hospira, In...</td>\n",
       "      <td>1.847468e-02</td>\n",
       "      <td>1.645803e-02</td>\n",
       "      <td>4.938887e-03</td>\n",
       "      <td>4.641894e-01</td>\n",
       "      <td>0.495939</td>\n",
       "      <td>5.854712e-04</td>\n",
       "      <td>4.125423e-08</td>\n",
       "      <td>2.544502e-06</td>\n",
       "      <td>9.577920e-06</td>\n",
       "      <td>9.994024e-01</td>\n",
       "    </tr>\n",
       "    <tr>\n",
       "      <th>111893</th>\n",
       "      <td>2012-01-01 00:00:00+00:00</td>\n",
       "      <td>CSX</td>\n",
       "      <td>Canadian Pacific Jumps on Reports Ackman Wants...</td>\n",
       "      <td>Canadian Pacific Jumps on Reports Ackman Wants...</td>\n",
       "      <td>3.885015e-05</td>\n",
       "      <td>4.531980e-19</td>\n",
       "      <td>8.447182e-10</td>\n",
       "      <td>4.324515e-14</td>\n",
       "      <td>0.999961</td>\n",
       "      <td>9.767805e-05</td>\n",
       "      <td>1.068442e-15</td>\n",
       "      <td>6.929716e-12</td>\n",
       "      <td>8.420445e-11</td>\n",
       "      <td>9.999024e-01</td>\n",
       "    </tr>\n",
       "  </tbody>\n",
       "</table>\n",
       "<p>111894 rows × 14 columns</p>\n",
       "</div>"
      ],
      "text/plain": [
       "                        datetime ticker  ...  title_midpos     title_pos\n",
       "0      2024-01-09 00:00:00+00:00    AMD  ...  3.247099e-09  2.189179e-07\n",
       "1      2024-01-09 00:00:00+00:00    AMD  ...  4.966966e-02  6.117157e-02\n",
       "2      2024-01-09 00:00:00+00:00    AMD  ...  8.138968e-13  9.999999e-01\n",
       "3      2024-01-09 00:00:00+00:00    AMD  ...  4.785705e-01  4.837336e-01\n",
       "4      2024-01-09 00:00:00+00:00    AMD  ...  4.489187e-01  4.932694e-01\n",
       "...                          ...    ...  ...           ...           ...\n",
       "111889 2012-01-06 00:00:00+00:00    ADI  ...  2.584815e-01  2.168981e-01\n",
       "111890 2012-01-05 00:00:00+00:00    ADP  ...  8.171409e-06  9.955869e-01\n",
       "111891 2012-01-05 00:00:00+00:00    ADP  ...  4.975015e-02  4.756521e-02\n",
       "111892 2012-01-05 00:00:00+00:00   AMGN  ...  9.577920e-06  9.994024e-01\n",
       "111893 2012-01-01 00:00:00+00:00    CSX  ...  8.420445e-11  9.999024e-01\n",
       "\n",
       "[111894 rows x 14 columns]"
      ]
     },
     "execution_count": 11,
     "metadata": {},
     "output_type": "execute_result"
    }
   ],
   "source": [
    "df"
   ]
  },
  {
   "cell_type": "code",
   "execution_count": 19,
   "id": "e92ae9ba-3cc2-4638-afd5-fececdbbc68e",
   "metadata": {
    "execution": {
     "iopub.execute_input": "2025-03-25T16:28:50.673412Z",
     "iopub.status.busy": "2025-03-25T16:28:50.672076Z",
     "iopub.status.idle": "2025-03-25T16:28:52.865694Z",
     "shell.execute_reply": "2025-03-25T16:28:52.864748Z",
     "shell.execute_reply.started": "2025-03-25T16:28:50.673359Z"
    },
    "tags": []
   },
   "outputs": [],
   "source": [
    "prob_cols_suf = [\"neg\", \"midneg\", \"neutral\", \"midpos\", \"pos\"]\n",
    "sentiments_by_ticker = dict()\n",
    "for pref in ['text', 'title']:\n",
    "    df = pd.read_parquet(os.path.join('.', 'data', 'nasdaq30_news.parquet'))\n",
    "    df = df.drop(columns=['title', 'text'])\n",
    "    df = df[[col for col in df.columns if col.startswith(pref) or col in ['datetime', 'ticker']]]\n",
    "    \n",
    "    prob_cols = [f'{pref}_{suf}' for suf in prob_cols_suf]\n",
    "    \n",
    "    grouped = df.groupby([\"datetime\", \"ticker\"]).sum()\n",
    "    grouped[prob_cols] = grouped[prob_cols].div(grouped[prob_cols].sum(axis=1), axis=0)\n",
    "    \n",
    "    sentiments_by_ticker[pref] = {ticker: grouped.xs(ticker, level=\"ticker\").reset_index() for ticker in grouped.index.get_level_values(\"ticker\").unique()}"
   ]
  },
  {
   "cell_type": "code",
   "execution_count": 18,
   "id": "a9e9c3cc-2b2a-4feb-9957-4af681622091",
   "metadata": {
    "execution": {
     "iopub.execute_input": "2025-03-25T16:27:48.367727Z",
     "iopub.status.busy": "2025-03-25T16:27:48.366429Z",
     "iopub.status.idle": "2025-03-25T16:27:48.397484Z",
     "shell.execute_reply": "2025-03-25T16:27:48.396536Z",
     "shell.execute_reply.started": "2025-03-25T16:27:48.367677Z"
    },
    "tags": []
   },
   "outputs": [
    {
     "data": {
      "text/html": [
       "<div>\n",
       "<style scoped>\n",
       "    .dataframe tbody tr th:only-of-type {\n",
       "        vertical-align: middle;\n",
       "    }\n",
       "\n",
       "    .dataframe tbody tr th {\n",
       "        vertical-align: top;\n",
       "    }\n",
       "\n",
       "    .dataframe thead th {\n",
       "        text-align: right;\n",
       "    }\n",
       "</style>\n",
       "<table border=\"1\" class=\"dataframe\">\n",
       "  <thead>\n",
       "    <tr style=\"text-align: right;\">\n",
       "      <th></th>\n",
       "      <th>datetime</th>\n",
       "      <th>title_neg</th>\n",
       "      <th>title_midneg</th>\n",
       "      <th>title_neutral</th>\n",
       "      <th>title_midpos</th>\n",
       "      <th>title_pos</th>\n",
       "    </tr>\n",
       "  </thead>\n",
       "  <tbody>\n",
       "    <tr>\n",
       "      <th>0</th>\n",
       "      <td>2020-05-27 00:00:00+00:00</td>\n",
       "      <td>0.027174</td>\n",
       "      <td>7.789029e-07</td>\n",
       "      <td>0.170743</td>\n",
       "      <td>0.000005</td>\n",
       "      <td>0.802078</td>\n",
       "    </tr>\n",
       "    <tr>\n",
       "      <th>1</th>\n",
       "      <td>2020-05-28 00:00:00+00:00</td>\n",
       "      <td>0.134607</td>\n",
       "      <td>6.757754e-03</td>\n",
       "      <td>0.414412</td>\n",
       "      <td>0.058503</td>\n",
       "      <td>0.385720</td>\n",
       "    </tr>\n",
       "    <tr>\n",
       "      <th>2</th>\n",
       "      <td>2020-05-29 00:00:00+00:00</td>\n",
       "      <td>0.043384</td>\n",
       "      <td>3.814916e-02</td>\n",
       "      <td>0.324259</td>\n",
       "      <td>0.079611</td>\n",
       "      <td>0.514597</td>\n",
       "    </tr>\n",
       "    <tr>\n",
       "      <th>3</th>\n",
       "      <td>2020-05-30 00:00:00+00:00</td>\n",
       "      <td>0.340645</td>\n",
       "      <td>1.431695e-03</td>\n",
       "      <td>0.442677</td>\n",
       "      <td>0.011302</td>\n",
       "      <td>0.203944</td>\n",
       "    </tr>\n",
       "    <tr>\n",
       "      <th>4</th>\n",
       "      <td>2020-05-31 00:00:00+00:00</td>\n",
       "      <td>0.339028</td>\n",
       "      <td>3.325335e-03</td>\n",
       "      <td>0.580498</td>\n",
       "      <td>0.031449</td>\n",
       "      <td>0.045700</td>\n",
       "    </tr>\n",
       "    <tr>\n",
       "      <th>...</th>\n",
       "      <td>...</td>\n",
       "      <td>...</td>\n",
       "      <td>...</td>\n",
       "      <td>...</td>\n",
       "      <td>...</td>\n",
       "      <td>...</td>\n",
       "    </tr>\n",
       "    <tr>\n",
       "      <th>4937</th>\n",
       "      <td>2023-12-16 17:00:00+00:00</td>\n",
       "      <td>0.000038</td>\n",
       "      <td>5.943068e-06</td>\n",
       "      <td>0.997967</td>\n",
       "      <td>0.000275</td>\n",
       "      <td>0.001714</td>\n",
       "    </tr>\n",
       "    <tr>\n",
       "      <th>4938</th>\n",
       "      <td>2023-12-16 18:00:00+00:00</td>\n",
       "      <td>0.000623</td>\n",
       "      <td>2.266977e-04</td>\n",
       "      <td>0.629154</td>\n",
       "      <td>0.059894</td>\n",
       "      <td>0.310103</td>\n",
       "    </tr>\n",
       "    <tr>\n",
       "      <th>4939</th>\n",
       "      <td>2023-12-16 20:00:00+00:00</td>\n",
       "      <td>0.003146</td>\n",
       "      <td>2.265427e-03</td>\n",
       "      <td>0.512278</td>\n",
       "      <td>0.235840</td>\n",
       "      <td>0.246471</td>\n",
       "    </tr>\n",
       "    <tr>\n",
       "      <th>4940</th>\n",
       "      <td>2023-12-16 21:00:00+00:00</td>\n",
       "      <td>0.001621</td>\n",
       "      <td>1.328394e-03</td>\n",
       "      <td>0.610132</td>\n",
       "      <td>0.025415</td>\n",
       "      <td>0.361503</td>\n",
       "    </tr>\n",
       "    <tr>\n",
       "      <th>4941</th>\n",
       "      <td>2023-12-16 22:00:00+00:00</td>\n",
       "      <td>0.005356</td>\n",
       "      <td>3.045971e-03</td>\n",
       "      <td>0.490916</td>\n",
       "      <td>0.093814</td>\n",
       "      <td>0.406868</td>\n",
       "    </tr>\n",
       "  </tbody>\n",
       "</table>\n",
       "<p>4942 rows × 6 columns</p>\n",
       "</div>"
      ],
      "text/plain": [
       "                      datetime  title_neg  ...  title_midpos  title_pos\n",
       "0    2020-05-27 00:00:00+00:00   0.027174  ...      0.000005   0.802078\n",
       "1    2020-05-28 00:00:00+00:00   0.134607  ...      0.058503   0.385720\n",
       "2    2020-05-29 00:00:00+00:00   0.043384  ...      0.079611   0.514597\n",
       "3    2020-05-30 00:00:00+00:00   0.340645  ...      0.011302   0.203944\n",
       "4    2020-05-31 00:00:00+00:00   0.339028  ...      0.031449   0.045700\n",
       "...                        ...        ...  ...           ...        ...\n",
       "4937 2023-12-16 17:00:00+00:00   0.000038  ...      0.000275   0.001714\n",
       "4938 2023-12-16 18:00:00+00:00   0.000623  ...      0.059894   0.310103\n",
       "4939 2023-12-16 20:00:00+00:00   0.003146  ...      0.235840   0.246471\n",
       "4940 2023-12-16 21:00:00+00:00   0.001621  ...      0.025415   0.361503\n",
       "4941 2023-12-16 22:00:00+00:00   0.005356  ...      0.093814   0.406868\n",
       "\n",
       "[4942 rows x 6 columns]"
      ]
     },
     "execution_count": 18,
     "metadata": {},
     "output_type": "execute_result"
    }
   ],
   "source": []
  },
  {
   "cell_type": "code",
   "execution_count": null,
   "id": "9dd6887f-c980-4119-afe7-ddba13d9a391",
   "metadata": {},
   "outputs": [],
   "source": []
  }
 ],
 "metadata": {
  "kernelspec": {
   "display_name": "DataSphere Kernel",
   "language": "python",
   "name": "python3"
  },
  "language_info": {
   "codemirror_mode": {
    "name": "ipython",
    "version": 3
   },
   "file_extension": ".py",
   "mimetype": "text/x-python",
   "name": "python",
   "nbconvert_exporter": "python",
   "pygments_lexer": "ipython3",
   "version": "3.10.12"
  }
 },
 "nbformat": 4,
 "nbformat_minor": 5
}
