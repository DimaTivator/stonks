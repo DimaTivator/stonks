{
 "cells": [
  {
   "cell_type": "code",
   "execution_count": 9,
   "id": "33217be7-cd87-453d-9cde-269949b76328",
   "metadata": {
    "execution": {
     "iopub.execute_input": "2025-03-25T12:23:00.460440Z",
     "iopub.status.busy": "2025-03-25T12:23:00.459282Z",
     "iopub.status.idle": "2025-03-25T12:23:00.510080Z",
     "shell.execute_reply": "2025-03-25T12:23:00.508634Z",
     "shell.execute_reply.started": "2025-03-25T12:23:00.460402Z"
    },
    "tags": []
   },
   "outputs": [],
   "source": [
    "import os\n",
    "import re\n",
    "import time\n",
    "import string\n",
    "import pandas as pd \n",
    "import numpy as np\n",
    "import matplotlib.pyplot as plt\n",
    "import seaborn as sns\n",
    "from bs4 import BeautifulSoup\n",
    "from sklearn.model_selection import train_test_split\n",
    "from sklearn.metrics import confusion_matrix\n",
    "from tqdm import tqdm\n",
    "from IPython.display import clear_output\n",
    "from datetime import timedelta\n",
    "\n",
    "import torch\n",
    "import torch.nn as nn\n",
    "import torch.nn.functional as F\n",
    "from torch.utils.data import Dataset, DataLoader\n",
    "from torch.utils.tensorboard import SummaryWriter\n",
    "from torch.optim.lr_scheduler import SequentialLR, LinearLR, CosineAnnealingLR\n",
    "from transformers import AutoTokenizer, AutoModelForSequenceClassification"
   ]
  },
  {
   "cell_type": "code",
   "execution_count": 2,
   "id": "459e2091-e3e8-4382-980f-090aa5487216",
   "metadata": {
    "execution": {
     "iopub.execute_input": "2025-03-25T12:17:56.658360Z",
     "iopub.status.busy": "2025-03-25T12:17:56.656581Z",
     "iopub.status.idle": "2025-03-25T12:17:56.818275Z",
     "shell.execute_reply": "2025-03-25T12:17:56.817048Z",
     "shell.execute_reply.started": "2025-03-25T12:17:56.658323Z"
    },
    "tags": []
   },
   "outputs": [
    {
     "data": {
      "text/plain": [
       "'cuda'"
      ]
     },
     "execution_count": 2,
     "metadata": {},
     "output_type": "execute_result"
    }
   ],
   "source": [
    "random_state = 42\n",
    "\n",
    "device = 'cuda' if torch.cuda.is_available() else 'cpu'\n",
    "device "
   ]
  },
  {
   "cell_type": "markdown",
   "id": "6c97847e-6ea3-4b63-a086-6a5f564111c8",
   "metadata": {},
   "source": [
    "# Data Preprocessing "
   ]
  },
  {
   "cell_type": "code",
   "execution_count": 3,
   "id": "06be5a09-ba13-4040-a555-37e3b51e366c",
   "metadata": {
    "execution": {
     "iopub.execute_input": "2025-03-25T06:58:56.265582Z",
     "iopub.status.busy": "2025-03-25T06:58:56.265245Z",
     "iopub.status.idle": "2025-03-25T06:58:56.502514Z",
     "shell.execute_reply": "2025-03-25T06:58:56.501547Z",
     "shell.execute_reply.started": "2025-03-25T06:58:56.265562Z"
    },
    "tags": []
   },
   "outputs": [
    {
     "data": {
      "text/html": [
       "<div>\n",
       "<style scoped>\n",
       "    .dataframe tbody tr th:only-of-type {\n",
       "        vertical-align: middle;\n",
       "    }\n",
       "\n",
       "    .dataframe tbody tr th {\n",
       "        vertical-align: top;\n",
       "    }\n",
       "\n",
       "    .dataframe thead th {\n",
       "        text-align: right;\n",
       "    }\n",
       "</style>\n",
       "<table border=\"1\" class=\"dataframe\">\n",
       "  <thead>\n",
       "    <tr style=\"text-align: right;\">\n",
       "      <th></th>\n",
       "      <th>input</th>\n",
       "      <th>output</th>\n",
       "    </tr>\n",
       "  </thead>\n",
       "  <tbody>\n",
       "    <tr>\n",
       "      <th>0</th>\n",
       "      <td>Starbucks says the workers violated safety pol...</td>\n",
       "      <td>negative</td>\n",
       "    </tr>\n",
       "    <tr>\n",
       "      <th>1</th>\n",
       "      <td>$brcm raises revenue forecast</td>\n",
       "      <td>positive</td>\n",
       "    </tr>\n",
       "    <tr>\n",
       "      <th>2</th>\n",
       "      <td>Google parent Alphabet Inc. reported revenue a...</td>\n",
       "      <td>negative</td>\n",
       "    </tr>\n",
       "    <tr>\n",
       "      <th>3</th>\n",
       "      <td>Here we highlight some top-ranked technology E...</td>\n",
       "      <td>positive</td>\n",
       "    </tr>\n",
       "    <tr>\n",
       "      <th>4</th>\n",
       "      <td>$UVXY Put the chum out there at key support th...</td>\n",
       "      <td>negative</td>\n",
       "    </tr>\n",
       "    <tr>\n",
       "      <th>...</th>\n",
       "      <td>...</td>\n",
       "      <td>...</td>\n",
       "    </tr>\n",
       "    <tr>\n",
       "      <th>124324</th>\n",
       "      <td>BP, Statoil, to Withdraw Staff From Algeria Fo...</td>\n",
       "      <td>negative</td>\n",
       "    </tr>\n",
       "    <tr>\n",
       "      <th>124325</th>\n",
       "      <td>NEW YORK — A fire broke out late Wednesday at ...</td>\n",
       "      <td>mildly negative</td>\n",
       "    </tr>\n",
       "    <tr>\n",
       "      <th>124326</th>\n",
       "      <td>Operating profit margin increased from 11.2 % ...</td>\n",
       "      <td>positive</td>\n",
       "    </tr>\n",
       "    <tr>\n",
       "      <th>124327</th>\n",
       "      <td>$vxx adding to position here !</td>\n",
       "      <td>positive</td>\n",
       "    </tr>\n",
       "    <tr>\n",
       "      <th>124328</th>\n",
       "      <td>Leading chipmaker Nvidia could be heading for ...</td>\n",
       "      <td>moderately positive</td>\n",
       "    </tr>\n",
       "  </tbody>\n",
       "</table>\n",
       "<p>124329 rows × 2 columns</p>\n",
       "</div>"
      ],
      "text/plain": [
       "                                                    input               output\n",
       "0       Starbucks says the workers violated safety pol...             negative\n",
       "1                           $brcm raises revenue forecast             positive\n",
       "2       Google parent Alphabet Inc. reported revenue a...             negative\n",
       "3       Here we highlight some top-ranked technology E...             positive\n",
       "4       $UVXY Put the chum out there at key support th...             negative\n",
       "...                                                   ...                  ...\n",
       "124324  BP, Statoil, to Withdraw Staff From Algeria Fo...             negative\n",
       "124325  NEW YORK — A fire broke out late Wednesday at ...      mildly negative\n",
       "124326  Operating profit margin increased from 11.2 % ...             positive\n",
       "124327                     $vxx adding to position here !             positive\n",
       "124328  Leading chipmaker Nvidia could be heading for ...  moderately positive\n",
       "\n",
       "[124329 rows x 2 columns]"
      ]
     },
     "execution_count": 3,
     "metadata": {},
     "output_type": "execute_result"
    }
   ],
   "source": [
    "df = pd.read_csv('fingpt_sentiment.csv')\n",
    "df"
   ]
  },
  {
   "cell_type": "code",
   "execution_count": 4,
   "id": "5a722cb8-15da-4038-9920-12b643b234de",
   "metadata": {
    "execution": {
     "iopub.execute_input": "2025-03-25T06:58:56.504795Z",
     "iopub.status.busy": "2025-03-25T06:58:56.504359Z",
     "iopub.status.idle": "2025-03-25T06:58:56.526154Z",
     "shell.execute_reply": "2025-03-25T06:58:56.525402Z",
     "shell.execute_reply.started": "2025-03-25T06:58:56.504774Z"
    },
    "tags": []
   },
   "outputs": [
    {
     "data": {
      "text/plain": [
       "positive               52098\n",
       "neutral                29215\n",
       "negative               28796\n",
       "moderately positive     6163\n",
       "moderately negative     2972\n",
       "mildly positive         2548\n",
       "mildly negative         2108\n",
       "strong negative          218\n",
       "strong positive          211\n",
       "Name: output, dtype: int64"
      ]
     },
     "execution_count": 4,
     "metadata": {},
     "output_type": "execute_result"
    }
   ],
   "source": [
    "df['output'].value_counts()"
   ]
  },
  {
   "cell_type": "markdown",
   "id": "1cbe6966-e7ef-47fa-a5c1-a751a36a1b40",
   "metadata": {},
   "source": [
    "---\n",
    "\n",
    "FinBert labels: {'positive': 0, 'negative': 1, 'neutral': 2}\n",
    "\n",
    "Our labels: {'negative / strong negative': 0, 'moderately / mildly negative': 1, 'neutral': 2, 'moderately / mildly positive': 3, 'positive / strong positive': 4}\n",
    "\n",
    "---"
   ]
  },
  {
   "cell_type": "code",
   "execution_count": 5,
   "id": "698fdbd5-528a-4998-9bae-88406f1c7041",
   "metadata": {
    "execution": {
     "iopub.execute_input": "2025-03-25T06:58:56.527225Z",
     "iopub.status.busy": "2025-03-25T06:58:56.526906Z",
     "iopub.status.idle": "2025-03-25T06:58:56.538Z",
     "shell.execute_reply": "2025-03-25T06:58:56.537326Z",
     "shell.execute_reply.started": "2025-03-25T06:58:56.527205Z"
    },
    "tags": []
   },
   "outputs": [],
   "source": [
    "def label_to_number(label):\n",
    "    if label in ['negative', 'strong negative']:\n",
    "        return 0\n",
    "    if label in ['mildly negative', 'moderately negative']:\n",
    "        return 1\n",
    "    if label == 'neutral':\n",
    "        return 2\n",
    "    if label in ['moderately positive', 'mildly positive']:\n",
    "        return 3\n",
    "    if label in ['positive', 'strong positive']:\n",
    "        return 4"
   ]
  },
  {
   "cell_type": "code",
   "execution_count": 6,
   "id": "dd179236-e842-4335-af40-ca14b409d964",
   "metadata": {
    "execution": {
     "iopub.execute_input": "2025-03-25T06:58:56.539070Z",
     "iopub.status.busy": "2025-03-25T06:58:56.538759Z",
     "iopub.status.idle": "2025-03-25T06:58:56.661665Z",
     "shell.execute_reply": "2025-03-25T06:58:56.660446Z",
     "shell.execute_reply.started": "2025-03-25T06:58:56.539051Z"
    },
    "tags": []
   },
   "outputs": [],
   "source": [
    "df['output'] = df['output'].apply(lambda x: x.strip())\n",
    "df['output'] = df['output'].apply(label_to_number)"
   ]
  },
  {
   "cell_type": "code",
   "execution_count": 7,
   "id": "11eaf1ef-bd1d-4cd9-858a-0e4da1219ce1",
   "metadata": {
    "execution": {
     "iopub.execute_input": "2025-03-25T06:58:56.662889Z",
     "iopub.status.busy": "2025-03-25T06:58:56.662568Z",
     "iopub.status.idle": "2025-03-25T06:58:56.855227Z",
     "shell.execute_reply": "2025-03-25T06:58:56.854330Z",
     "shell.execute_reply.started": "2025-03-25T06:58:56.662864Z"
    },
    "tags": []
   },
   "outputs": [
    {
     "data": {
      "image/png": "[encoded data removed]",
      "text/plain": [
       "<Figure size 640x480 with 1 Axes>"
      ]
     },
     "metadata": {},
     "output_type": "display_data"
    }
   ],
   "source": [
    "df['output'].hist()\n",
    "plt.show()"
   ]
  },
  {
   "cell_type": "code",
   "execution_count": 8,
   "id": "03befcb3-0cfb-4f94-82eb-eb31dc3ad379",
   "metadata": {
    "execution": {
     "iopub.execute_input": "2025-03-25T06:58:56.856573Z",
     "iopub.status.busy": "2025-03-25T06:58:56.856261Z",
     "iopub.status.idle": "2025-03-25T06:58:56.892561Z",
     "shell.execute_reply": "2025-03-25T06:58:56.891449Z",
     "shell.execute_reply.started": "2025-03-25T06:58:56.856553Z"
    },
    "tags": []
   },
   "outputs": [
    {
     "data": {
      "text/plain": [
       "[\"`` The transaction strengthens our position ... in design and branded goods , '' said Fiskars president and CEO Heikki Allonen , pointing out that the two groups have relatively few overlapping operations .\",\n",
       " '$WYNN big bounce',\n",
       " 'Grapevine city officials in September approved $ 35 million in tax rebates and grants for the expansion .',\n",
       " \"The 250 sq m 2,691 sq ft store in Copenhagen 's premier shopping district was inaugurated today , further strengthening the company 's presence in Nordic capitals .\",\n",
       " 'S&P downgrades Barclays and RBS on government bailout fears',\n",
       " \"Nokia said the outcome was a `` fair and responsible social plan . ''\",\n",
       " 'AMD gave an early warning on a subpar third quarter.',\n",
       " '$AMZN Trailing 12 months operating cash flow rose 48% to $4.98 billion & free cash flow decreased 63% to $388 million http://stks.co/c06zG',\n",
       " 'The total headcount reduction will be 50 persons , the company said .',\n",
       " 'OneWater Marine Inc. Prices Initial Public Offering']"
      ]
     },
     "execution_count": 8,
     "metadata": {},
     "output_type": "execute_result"
    }
   ],
   "source": [
    "list(df.sample(n=10)['input'])"
   ]
  },
  {
   "cell_type": "code",
   "execution_count": 9,
   "id": "588b6792-ba7d-4702-b7c4-c2df93c494b5",
   "metadata": {
    "execution": {
     "iopub.execute_input": "2025-03-25T06:58:56.893711Z",
     "iopub.status.busy": "2025-03-25T06:58:56.893382Z",
     "iopub.status.idle": "2025-03-25T06:58:56.915084Z",
     "shell.execute_reply": "2025-03-25T06:58:56.914431Z",
     "shell.execute_reply.started": "2025-03-25T06:58:56.893692Z"
    },
    "tags": []
   },
   "outputs": [],
   "source": [
    "def clean_text(text):\n",
    "    text = str(text)\n",
    "    # remove html tags \n",
    "    text = re.sub(r'<.*?>', '', text)\n",
    "    # remove links \n",
    "    text = re.sub(r'http\\S+|www\\S+|https\\S+', '', text)\n",
    "    text = re.sub('/', '', text)\n",
    "    # replace spaces sequences with 1 space\n",
    "    text = re.sub(r'\\s+', ' ', text).strip()\n",
    "    # replace ... with .\n",
    "    text = re.sub(r'\\.+', '.', text)\n",
    "    \n",
    "    return text"
   ]
  },
  {
   "cell_type": "code",
   "execution_count": 10,
   "id": "c61f3652-5162-47e3-943f-f4b8af42dd05",
   "metadata": {
    "execution": {
     "iopub.execute_input": "2025-03-25T06:58:56.917095Z",
     "iopub.status.busy": "2025-03-25T06:58:56.916780Z",
     "iopub.status.idle": "2025-03-25T06:58:58.302205Z",
     "shell.execute_reply": "2025-03-25T06:58:58.301379Z",
     "shell.execute_reply.started": "2025-03-25T06:58:56.917076Z"
    },
    "tags": []
   },
   "outputs": [],
   "source": [
    "df['input'] = df['input'].apply(clean_text)"
   ]
  },
  {
   "cell_type": "code",
   "execution_count": 11,
   "id": "2df8ac3a-70a3-4000-818a-31308795dec7",
   "metadata": {
    "execution": {
     "iopub.execute_input": "2025-03-25T06:58:58.303543Z",
     "iopub.status.busy": "2025-03-25T06:58:58.303205Z",
     "iopub.status.idle": "2025-03-25T06:58:58.383488Z",
     "shell.execute_reply": "2025-03-25T06:58:58.382809Z",
     "shell.execute_reply.started": "2025-03-25T06:58:58.303523Z"
    },
    "tags": []
   },
   "outputs": [
    {
     "data": {
      "text/plain": [
       "['Net sales increased to EUR655m in April to June 2010 from EUR438m a year earlier .',\n",
       " \"Cadence's (CDNS) Q4 performance is likely to have benefited from its diversified product portfolio and recent acquisitions.\",\n",
       " 'When making a long-term commitment to a company, sustainable market leadership is everything.',\n",
       " 'Rautaruukki said construction group YIT has awarded it a 2.5 mln eur contract to supply the steel structures for a new bridge spanning the Kemijoki river in Northern Finland .',\n",
       " 'While I am watching ChatGPT, I am not terribly worried for GOOGL. The stock is trading at lower relative valuations than five years ago.',\n",
       " 'Shares of chip and semiconductor stocks, including NVIDIA Corporation (NASDAQ:NVDA), are trading higher. A weekend report from the Semiconductor Industry Association showed November sales of $51.7B.',\n",
       " \"According to Finnish Aktia Bank 's Managing Director Jussi Laitinen , the bank 's aim is to triple the number of its customers in Finland in the next five years .\",\n",
       " 'Texas Instruments Inc. shares rose in the extended session Tuesday after the chip maker reported a big beat for the quarter and an outlook that was mostly above Wall Street estimates.',\n",
       " 'longed $AMZN 300 @ 189.82',\n",
       " 'StanChart and RBS struggle in Bank of England stress tests']"
      ]
     },
     "execution_count": 11,
     "metadata": {},
     "output_type": "execute_result"
    }
   ],
   "source": [
    "list(df.sample(n=10)['input'])"
   ]
  },
  {
   "cell_type": "markdown",
   "id": "16ad33f8-0123-4866-b7eb-b37ac3a47433",
   "metadata": {},
   "source": [
    "# Train"
   ]
  },
  {
   "cell_type": "code",
   "execution_count": 23,
   "id": "3dad276b-a1f0-4fea-88b4-2c82afa5c98a",
   "metadata": {
    "execution": {
     "iopub.execute_input": "2025-03-25T07:04:52.714506Z",
     "iopub.status.busy": "2025-03-25T07:04:52.713864Z",
     "iopub.status.idle": "2025-03-25T07:05:03.770593Z",
     "shell.execute_reply": "2025-03-25T07:05:03.769681Z",
     "shell.execute_reply.started": "2025-03-25T07:04:52.714479Z"
    },
    "tags": []
   },
   "outputs": [],
   "source": [
    "tokenizer = AutoTokenizer.from_pretrained(\"ProsusAI/finbert\")\n",
    "model = AutoModelForSequenceClassification.from_pretrained(\"ProsusAI/finbert\")"
   ]
  },
  {
   "cell_type": "code",
   "execution_count": 24,
   "id": "30c8275c-23fd-4dc9-a57d-43d73681da0a",
   "metadata": {
    "execution": {
     "iopub.execute_input": "2025-03-25T07:05:03.772262Z",
     "iopub.status.busy": "2025-03-25T07:05:03.771934Z",
     "iopub.status.idle": "2025-03-25T07:05:03.828642Z",
     "shell.execute_reply": "2025-03-25T07:05:03.827890Z",
     "shell.execute_reply.started": "2025-03-25T07:05:03.772242Z"
    },
    "tags": []
   },
   "outputs": [
    {
     "name": "stdout",
     "output_type": "stream",
     "text": [
      "Total parameters: 109484547\n"
     ]
    }
   ],
   "source": [
    "total_params = sum(p.numel() for p in model.parameters())\n",
    "print(\"Total parameters:\", total_params)"
   ]
  },
  {
   "cell_type": "code",
   "execution_count": 10,
   "id": "b6d8149d-2b14-4d4f-aa1b-5428f295b068",
   "metadata": {
    "execution": {
     "iopub.execute_input": "2025-03-25T12:24:09.404113Z",
     "iopub.status.busy": "2025-03-25T12:24:09.402671Z",
     "iopub.status.idle": "2025-03-25T12:24:09.428385Z",
     "shell.execute_reply": "2025-03-25T12:24:09.427187Z",
     "shell.execute_reply.started": "2025-03-25T12:24:09.404069Z"
    },
    "tags": []
   },
   "outputs": [],
   "source": [
    "class TextsDataset(Dataset):\n",
    "    def __init__(self, texts, labels, tokenizer):\n",
    "        self.texts = texts\n",
    "        self.labels = labels\n",
    "        self.tokenizer = tokenizer\n",
    "\n",
    "    def __len__(self):\n",
    "        return len(self.texts)\n",
    "\n",
    "    def __getitem__(self, item):\n",
    "        text = self.texts[item]\n",
    "        label = self.labels[item]\n",
    "        encoding = self.tokenizer.encode_plus(\n",
    "            text,\n",
    "            add_special_tokens=True,\n",
    "            truncation=True,\n",
    "            return_tensors='pt'\n",
    "        )\n",
    "        return {\n",
    "            'input_ids': encoding['input_ids'].flatten(),\n",
    "            'attention_mask': encoding['attention_mask'].flatten(),\n",
    "            'labels': torch.tensor(label, dtype=torch.long)\n",
    "        }\n",
    "    \n",
    "    def collate_fn(self, batch):\n",
    "        max_len = max([len(item['input_ids']) for item in batch])\n",
    "\n",
    "        input_ids = [item['input_ids'] for item in batch]\n",
    "        attention_masks = [item['attention_mask'] for item in batch]\n",
    "        labels = [item['labels'] for item in batch]\n",
    "\n",
    "        padded_input_ids = torch.nn.utils.rnn.pad_sequence(input_ids, batch_first=True, padding_value=self.tokenizer.pad_token_id)\n",
    "        padded_attention_masks = torch.nn.utils.rnn.pad_sequence(attention_masks, batch_first=True, padding_value=0)\n",
    "        padded_labels = torch.stack(labels, dim=0)\n",
    "\n",
    "        return {\n",
    "            'input_ids': padded_input_ids,\n",
    "            'attention_mask': padded_attention_masks,\n",
    "            'labels': padded_labels\n",
    "        }"
   ]
  },
  {
   "cell_type": "code",
   "execution_count": 26,
   "id": "d4804d6a-f165-42bd-8910-f9cffec3eed2",
   "metadata": {
    "execution": {
     "iopub.execute_input": "2025-03-25T07:05:03.877252Z",
     "iopub.status.busy": "2025-03-25T07:05:03.876937Z",
     "iopub.status.idle": "2025-03-25T07:05:03.936382Z",
     "shell.execute_reply": "2025-03-25T07:05:03.935564Z",
     "shell.execute_reply.started": "2025-03-25T07:05:03.877233Z"
    },
    "tags": []
   },
   "outputs": [
    {
     "data": {
      "text/plain": [
       "((99463,), (24866,))"
      ]
     },
     "execution_count": 26,
     "metadata": {},
     "output_type": "execute_result"
    }
   ],
   "source": [
    "X_train, X_test, y_train, y_test = train_test_split(df['input'], df['output'], test_size=0.2, stratify=df['output'], random_state=random_state)\n",
    "X_train = X_train.reset_index(drop=True)\n",
    "X_test = X_test.reset_index(drop=True)\n",
    "y_train = y_train.reset_index(drop=True)\n",
    "y_test = y_test.reset_index(drop=True)\n",
    "X_train.shape, X_test.shape"
   ]
  },
  {
   "cell_type": "code",
   "execution_count": 27,
   "id": "855b404f-976a-4f05-8ad1-f506aba0b19b",
   "metadata": {
    "execution": {
     "iopub.execute_input": "2025-03-25T07:06:42.781109Z",
     "iopub.status.busy": "2025-03-25T07:06:42.780676Z",
     "iopub.status.idle": "2025-03-25T07:06:42.801110Z",
     "shell.execute_reply": "2025-03-25T07:06:42.800318Z",
     "shell.execute_reply.started": "2025-03-25T07:06:42.781089Z"
    },
    "tags": []
   },
   "outputs": [],
   "source": [
    "train_dataset = TextsDataset(texts=X_train, labels=y_train, tokenizer=tokenizer)\n",
    "test_dataset = TextsDataset(texts=X_test, labels=y_test, tokenizer=tokenizer)\n",
    "\n",
    "batch_size = 64\n",
    "num_workers = 28\n",
    "\n",
    "train_dataloader = DataLoader(train_dataset, batch_size=batch_size, collate_fn=train_dataset.collate_fn, shuffle=True, drop_last=True, num_workers=num_workers)\n",
    "test_dataloader = DataLoader(test_dataset, batch_size=batch_size, collate_fn=test_dataset.collate_fn, shuffle=False, drop_last=False, num_workers=num_workers)"
   ]
  },
  {
   "cell_type": "code",
   "execution_count": 4,
   "id": "2b135a9b-95e0-4f75-a46d-b68045de3ed3",
   "metadata": {
    "execution": {
     "iopub.execute_input": "2025-03-25T12:18:21.918585Z",
     "iopub.status.busy": "2025-03-25T12:18:21.917201Z",
     "iopub.status.idle": "2025-03-25T12:18:21.946125Z",
     "shell.execute_reply": "2025-03-25T12:18:21.944880Z",
     "shell.execute_reply.started": "2025-03-25T12:18:21.918518Z"
    },
    "tags": []
   },
   "outputs": [],
   "source": [
    "class FinBert(nn.Module):\n",
    "    def __init__(self):\n",
    "        super().__init__()\n",
    "        \n",
    "        self.model = AutoModelForSequenceClassification.from_pretrained(\"ProsusAI/finbert\")\n",
    "        for param in self.model.parameters():\n",
    "            param.requires_grad = False\n",
    "            \n",
    "        # Unfreeze the last encoder block\n",
    "        for param in self.model.bert.encoder.layer[-1].parameters():\n",
    "            param.requires_grad = True\n",
    "        \n",
    "        self.model.classifier = torch.nn.Identity()\n",
    "            \n",
    "        self.fc = nn.Sequential(\n",
    "            nn.Linear(768, 1024),\n",
    "            nn.BatchNorm1d(1024),\n",
    "            nn.Dropout(p=0.2),\n",
    "            nn.ReLU(),\n",
    "            \n",
    "            nn.Linear(1024, 512),\n",
    "            nn.BatchNorm1d(512),\n",
    "            nn.Dropout(p=0.2),\n",
    "            nn.ReLU(),\n",
    "            \n",
    "            nn.Linear(512, 5),\n",
    "        )\n",
    "        \n",
    "    def forward(self, *args, **kwargs):\n",
    "        x = self.model(*args, **kwargs).logits\n",
    "        x = self.fc(x)\n",
    "        return x"
   ]
  },
  {
   "cell_type": "code",
   "execution_count": 29,
   "id": "d083a2ba-69fa-4d94-bd9e-eafabe50c7c0",
   "metadata": {
    "execution": {
     "iopub.execute_input": "2025-03-25T07:06:49.153904Z",
     "iopub.status.busy": "2025-03-25T07:06:49.153540Z",
     "iopub.status.idle": "2025-03-25T07:06:49.172717Z",
     "shell.execute_reply": "2025-03-25T07:06:49.171924Z",
     "shell.execute_reply.started": "2025-03-25T07:06:49.153885Z"
    },
    "tags": []
   },
   "outputs": [],
   "source": [
    "def train(model, optimizer, dataloader, criterion):\n",
    "    model.train()\n",
    "    losses_tr = []\n",
    "    \n",
    "    for batch in tqdm(dataloader):\n",
    "        input_ids, attention_mask, labels = batch['input_ids'], batch['attention_mask'], batch['labels']\n",
    "        input_ids = input_ids.to(device)\n",
    "        attention_mask = attention_mask.to(device)\n",
    "        labels = labels.to(device)\n",
    "        \n",
    "        optimizer.zero_grad()\n",
    "        \n",
    "        output = model(input_ids=input_ids, attention_mask=attention_mask)\n",
    "        loss = criterion(output, labels)\n",
    "        loss.backward()\n",
    "        optimizer.step()\n",
    "        losses_tr.append(loss.item())\n",
    "    \n",
    "    return model, optimizer, np.mean(losses_tr)\n",
    "\n",
    "\n",
    "def val(model, dataloader, criterion):\n",
    "    model.eval()\n",
    "    losses_val = []\n",
    "    \n",
    "    with torch.no_grad():\n",
    "        correct = 0\n",
    "        total = 0\n",
    "        for batch in tqdm(dataloader):\n",
    "            input_ids, attention_mask, labels = batch['input_ids'], batch['attention_mask'], batch['labels']\n",
    "            input_ids = input_ids.to(device)\n",
    "            attention_mask = attention_mask.to(device)\n",
    "            labels = labels.to(device)\n",
    "            \n",
    "            output = model(input_ids=input_ids, attention_mask=attention_mask)\n",
    "            \n",
    "            loss = criterion(output, labels)\n",
    "            losses_val.append(loss.item())\n",
    "            \n",
    "            preds = torch.argmax(output, dim=1)\n",
    "            correct += (preds == labels).sum().item()\n",
    "            total += labels.size(0)\n",
    "\n",
    "    accuracy = correct / total\n",
    "    \n",
    "    return np.mean(losses_val), accuracy"
   ]
  },
  {
   "cell_type": "code",
   "execution_count": 42,
   "id": "64760928-0245-4d42-b011-f7226a62e039",
   "metadata": {
    "execution": {
     "iopub.execute_input": "2025-03-25T07:20:13.095385Z",
     "iopub.status.busy": "2025-03-25T07:20:13.094896Z",
     "iopub.status.idle": "2025-03-25T07:20:13.116988Z",
     "shell.execute_reply": "2025-03-25T07:20:13.116281Z",
     "shell.execute_reply.started": "2025-03-25T07:20:13.095365Z"
    },
    "tags": []
   },
   "outputs": [],
   "source": [
    "def get_lr(optimizer):\n",
    "    for param_group in optimizer.param_groups:\n",
    "        return param_group['lr']\n",
    "    \n",
    "\n",
    "def learning_loop(\n",
    "    model,\n",
    "    optimizer,\n",
    "    train_loader,\n",
    "    val_loader,\n",
    "    criterion,\n",
    "    scheduler,\n",
    "    model_name,\n",
    "    epochs=10,\n",
    "    val_every=1,\n",
    "    checkpoints=True,\n",
    "    checkpoint_folder='./checkpoints'\n",
    "):\n",
    "    losses = {'train': [], 'val': []}\n",
    "    lrs = []\n",
    "    accs = []\n",
    "    best_val_loss = np.Inf\n",
    "    \n",
    "    if checkpoints and not os.path.exists(checkpoint_folder):\n",
    "        os.makedirs(checkpoint_folder)\n",
    "        \n",
    "    writer = SummaryWriter(log_dir='./logs')\n",
    "    \n",
    "    for epoch in range(1, epochs+1):\n",
    "        print(f'#{epoch}/{epochs}:')\n",
    "\n",
    "        lrs.append(get_lr(optimizer))\n",
    "        \n",
    "        model, optimizer, loss = train(model, optimizer, train_loader, criterion)\n",
    "        losses['train'].append(loss)\n",
    "        \n",
    "        writer.add_scalar('Loss/train', loss, epoch)\n",
    "                \n",
    "        if epoch % val_every == 0 or epoch == epochs:\n",
    "            loss, accuracy = val(model, val_loader, criterion)\n",
    "            losses['val'].append(loss)\n",
    "            accs.append(accuracy)\n",
    "            \n",
    "            writer.add_scalar('Loss/val', loss, epoch)\n",
    "            writer.add_scalar('Accuracy/val', accuracy, epoch)\n",
    "            \n",
    "            if loss < best_val_loss:\n",
    "                best_val_loss = loss\n",
    "                \n",
    "                if checkpoints:\n",
    "                    torch.save({\n",
    "                            'epoch': epoch,\n",
    "                            'model_state_dict': model.state_dict(),\n",
    "                            'optimizer_state_dict': optimizer.state_dict(),\n",
    "                            'scheduler_state_dict': scheduler.state_dict(),\n",
    "                            'losses': losses,\n",
    "                        },\n",
    "                        os.path.join(chkp_folder, model_name + '.pt'),\n",
    "                    )\n",
    "                    \n",
    "                clear_output(True)\n",
    "                num_plots = 3  # loss, lr, accuracy\n",
    "\n",
    "                fig, ax = plt.subplots(1, num_plots, figsize=(30, 10))\n",
    "\n",
    "                plt.subplot(1, num_plots, 1)\n",
    "                plt.plot(losses['train'], 'r.-', label='train')\n",
    "                plt.plot(losses['val'], 'g.-', label='val')\n",
    "                plt.title('loss')\n",
    "                plt.legend()\n",
    "                plt.grid()\n",
    "\n",
    "                plt.subplot(1, num_plots, 2)\n",
    "                plt.title('learning rate')\n",
    "                plt.plot(lrs, 'g.-', label='lr')\n",
    "                plt.yscale(\"log\")\n",
    "                plt.legend()\n",
    "                plt.grid()\n",
    "\n",
    "                plt.subplot(1, num_plots, 3)\n",
    "                plt.plot(accs, '.-', label='accuracy')\n",
    "                plt.title(f'accuracy')\n",
    "                plt.legend()\n",
    "                plt.grid()\n",
    "                \n",
    "                plt.show()\n",
    "                \n",
    "                print(f\"loss train: {losses['train'][-1]} \\nloss val: {losses['val'][-1]}\\naccuracy: {accuracy}\")\n",
    "                    \n",
    "        if scheduler:\n",
    "            try:\n",
    "                scheduler.step()\n",
    "            except:\n",
    "                scheduler.step(loss)\n",
    "                \n",
    "    return model, optimizer, losses"
   ]
  },
  {
   "cell_type": "code",
   "execution_count": 43,
   "id": "5f32da05-dadc-4e2e-8c65-390361a8f8c7",
   "metadata": {
    "execution": {
     "iopub.execute_input": "2025-03-25T07:20:13.985694Z",
     "iopub.status.busy": "2025-03-25T07:20:13.985141Z",
     "iopub.status.idle": "2025-03-25T07:20:24.483802Z",
     "shell.execute_reply": "2025-03-25T07:20:24.483101Z",
     "shell.execute_reply.started": "2025-03-25T07:20:13.985670Z"
    },
    "tags": []
   },
   "outputs": [],
   "source": [
    "model = FinBert().to(device)\n",
    "optimizer = torch.optim.AdamW(model.parameters(), lr=7e-4)\n",
    "\n",
    "warmup_epochs = 3\n",
    "total_epochs = 30\n",
    "\n",
    "warmup_scheduler = LinearLR(optimizer, start_factor=7e-4, total_iters=warmup_epochs)\n",
    "cosine_scheduler = CosineAnnealingLR(optimizer, T_max=total_epochs - warmup_epochs)\n",
    "\n",
    "scheduler = SequentialLR(optimizer, schedulers=[warmup_scheduler, cosine_scheduler], milestones=[warmup_epochs])\n",
    "\n",
    "criterion = nn.CrossEntropyLoss()"
   ]
  },
  {
   "cell_type": "code",
   "execution_count": 44,
   "id": "b0a5d3f9-be3b-48ba-a638-f0ca51cfcc66",
   "metadata": {
    "tags": []
   },
   "outputs": [
    {
     "data": {
      "image/png": "[encoded data removed]",
      "text/plain": [
       "<Figure size 3000x1000 with 3 Axes>"
      ]
     },
     "metadata": {},
     "output_type": "display_data"
    },
    {
     "name": "stdout",
     "output_type": "stream",
     "text": [
      "loss train: 0.2218475531033951 \n",
      "loss val: 0.2595223166565662\n",
      "accuracy: 0.8695809539129735\n",
      "#28/30:\n"
     ]
    },
    {
     "name": "stderr",
     "output_type": "stream",
     "text": [
      "100%|██████████| 1554/1554 [02:00<00:00, 12.95it/s]\n",
      "100%|██████████| 389/389 [00:25<00:00, 15.01it/s]\n"
     ]
    },
    {
     "name": "stdout",
     "output_type": "stream",
     "text": [
      "#29/30:\n"
     ]
    },
    {
     "name": "stderr",
     "output_type": "stream",
     "text": [
      "100%|██████████| 1554/1554 [02:00<00:00, 12.93it/s]\n",
      "100%|██████████| 389/389 [00:25<00:00, 15.00it/s]\n"
     ]
    },
    {
     "name": "stdout",
     "output_type": "stream",
     "text": [
      "#30/30:\n"
     ]
    },
    {
     "name": "stderr",
     "output_type": "stream",
     "text": [
      "100%|██████████| 1554/1554 [02:00<00:00, 12.88it/s]\n",
      "100%|██████████| 389/389 [00:25<00:00, 14.97it/s]"
     ]
    },
    {
     "name": "stdout",
     "output_type": "stream",
     "text": [
      "CPU times: user 1h 12min 29s, sys: 2min 42s, total: 1h 15min 12s\n",
      "Wall time: 1h 13min 26s\n"
     ]
    },
    {
     "name": "stderr",
     "output_type": "stream",
     "text": [
      "\n"
     ]
    }
   ],
   "source": [
    "%%time\n",
    "\n",
    "model, optimizer, losses = learning_loop(\n",
    "    model = model,\n",
    "    optimizer = optimizer,\n",
    "    train_loader = train_dataloader,\n",
    "    val_loader = test_dataloader,\n",
    "    criterion = criterion,\n",
    "    scheduler = scheduler,\n",
    "    model_name = \"finbert#1\",\n",
    "    epochs = total_epochs,\n",
    "    val_every = 1,\n",
    "    checkpoints=False\n",
    ")"
   ]
  },
  {
   "cell_type": "code",
   "execution_count": 45,
   "id": "49eab62f-b364-49a9-8a25-c9f92c976dc3",
   "metadata": {
    "execution": {
     "iopub.execute_input": "2025-03-25T08:34:22.492445Z",
     "iopub.status.busy": "2025-03-25T08:34:22.491998Z",
     "iopub.status.idle": "2025-03-25T08:34:37.468789Z",
     "shell.execute_reply": "2025-03-25T08:34:37.467998Z",
     "shell.execute_reply.started": "2025-03-25T08:34:22.492419Z"
    },
    "tags": []
   },
   "outputs": [],
   "source": [
    "torch.save(model.state_dict(), \"finbert.pth\")"
   ]
  },
  {
   "cell_type": "code",
   "execution_count": 57,
   "id": "daab7ff7-12c8-4fe4-a27c-5accfa233dee",
   "metadata": {
    "execution": {
     "iopub.execute_input": "2025-03-25T08:44:38.894951Z",
     "iopub.status.busy": "2025-03-25T08:44:38.894498Z",
     "iopub.status.idle": "2025-03-25T08:44:38.915907Z",
     "shell.execute_reply": "2025-03-25T08:44:38.914954Z",
     "shell.execute_reply.started": "2025-03-25T08:44:38.894930Z"
    },
    "tags": []
   },
   "outputs": [],
   "source": [
    "def confmatrix(model, dataloader):\n",
    "    model.eval()\n",
    "    y_true = []\n",
    "    y_pred = []\n",
    "\n",
    "    with torch.no_grad():\n",
    "        for batch in tqdm(dataloader):\n",
    "            input_ids, attention_mask, labels = batch['input_ids'], batch['attention_mask'], batch['labels']\n",
    "            input_ids = input_ids.to(device)\n",
    "            attention_mask = attention_mask.to(device)\n",
    "            labels = labels.to(device)\n",
    "            \n",
    "            outputs = model(input_ids=input_ids, attention_mask=attention_mask).detach().cpu()\n",
    "            \n",
    "            _, predicted = torch.max(outputs, 1)\n",
    "            y_true.extend(labels.detach().cpu().numpy())\n",
    "            y_pred.extend(predicted.numpy())\n",
    "\n",
    "    y_true = np.array(y_true)\n",
    "    y_pred = np.array(y_pred)\n",
    "    \n",
    "    cm = confusion_matrix(y_true, y_pred)\n",
    "\n",
    "    plt.figure(figsize=(10, 7))\n",
    "    sns.heatmap(cm, annot=True, fmt='d', cmap='Blues', \n",
    "                xticklabels=['Neg', 'Mid Neg', 'Neutral', 'Mid Pos', 'Pos'],\n",
    "                yticklabels=['Neg', 'Mid Neg', 'Neutral', 'Mid Pos', 'Pos'])\n",
    "    plt.xlabel('Predicted')\n",
    "    plt.ylabel('True')\n",
    "    plt.title('Confusion Matrix')\n",
    "    plt.show()"
   ]
  },
  {
   "cell_type": "code",
   "execution_count": 46,
   "id": "473531fa-8eee-412c-a502-a50049ab389a",
   "metadata": {
    "execution": {
     "iopub.execute_input": "2025-03-25T08:38:29.349986Z",
     "iopub.status.busy": "2025-03-25T08:38:29.349508Z",
     "iopub.status.idle": "2025-03-25T08:38:39.989721Z",
     "shell.execute_reply": "2025-03-25T08:38:39.988910Z",
     "shell.execute_reply.started": "2025-03-25T08:38:29.349961Z"
    }
   },
   "outputs": [
    {
     "data": {
      "text/plain": [
       "<All keys matched successfully>"
      ]
     },
     "execution_count": 46,
     "metadata": {},
     "output_type": "execute_result"
    }
   ],
   "source": [
    "bert = FinBert()\n",
    "bert.load_state_dict(torch.load(\"finbert.pth\"))"
   ]
  },
  {
   "cell_type": "code",
   "execution_count": 48,
   "id": "783b2e65-69cc-4d7d-a7a8-4b83d56f15d4",
   "metadata": {
    "execution": {
     "iopub.execute_input": "2025-03-25T08:39:05.305328Z",
     "iopub.status.busy": "2025-03-25T08:39:05.304612Z",
     "iopub.status.idle": "2025-03-25T08:39:31.274640Z",
     "shell.execute_reply": "2025-03-25T08:39:31.273825Z",
     "shell.execute_reply.started": "2025-03-25T08:39:05.305303Z"
    },
    "tags": []
   },
   "outputs": [
    {
     "name": "stderr",
     "output_type": "stream",
     "text": [
      "100%|██████████| 389/389 [00:25<00:00, 15.02it/s]\n"
     ]
    },
    {
     "data": {
      "text/plain": [
       "(0.2615971479248878, 0.8692190139145821)"
      ]
     },
     "execution_count": 48,
     "metadata": {},
     "output_type": "execute_result"
    }
   ],
   "source": [
    "bert = bert.to(device)\n",
    "val(bert, test_dataloader, criterion)"
   ]
  },
  {
   "cell_type": "code",
   "execution_count": 58,
   "id": "f7c09709-1f4b-46b8-a971-5993ab9568ad",
   "metadata": {
    "execution": {
     "iopub.execute_input": "2025-03-25T08:44:40.328801Z",
     "iopub.status.busy": "2025-03-25T08:44:40.328444Z",
     "iopub.status.idle": "2025-03-25T08:45:06.639592Z",
     "shell.execute_reply": "2025-03-25T08:45:06.638858Z",
     "shell.execute_reply.started": "2025-03-25T08:44:40.328782Z"
    },
    "tags": []
   },
   "outputs": [
    {
     "name": "stderr",
     "output_type": "stream",
     "text": [
      "100%|██████████| 389/389 [00:25<00:00, 14.97it/s]\n"
     ]
    },
    {
     "data": {
      "image/png": "[encoded data removed]",
      "text/plain": [
       "<Figure size 1000x700 with 2 Axes>"
      ]
     },
     "metadata": {},
     "output_type": "display_data"
    }
   ],
   "source": [
    "confmatrix(bert, test_dataloader)"
   ]
  },
  {
   "cell_type": "markdown",
   "id": "41c65c3c-442f-428d-9c35-848fad1a4ff6",
   "metadata": {},
   "source": [
    "# Make predictions for main dataset"
   ]
  },
  {
   "cell_type": "code",
   "execution_count": 8,
   "id": "82267b79-5833-4bd7-8500-6c82026f4f6c",
   "metadata": {
    "execution": {
     "iopub.execute_input": "2025-03-25T12:22:05.437988Z",
     "iopub.status.busy": "2025-03-25T12:22:05.436607Z",
     "iopub.status.idle": "2025-03-25T12:22:07.164632Z",
     "shell.execute_reply": "2025-03-25T12:22:07.163393Z",
     "shell.execute_reply.started": "2025-03-25T12:22:05.437948Z"
    },
    "tags": []
   },
   "outputs": [],
   "source": [
    "bert = FinBert()\n",
    "bert.load_state_dict(torch.load(\"finbert.pth\"))\n",
    "bert = bert.to(device)\n",
    "\n",
    "tokenizer = AutoTokenizer.from_pretrained(\"ProsusAI/finbert\")"
   ]
  },
  {
   "cell_type": "code",
   "execution_count": 39,
   "id": "75216ca3-24fa-4444-bb13-7569fe354493",
   "metadata": {
    "execution": {
     "iopub.execute_input": "2025-03-25T12:35:53.786361Z",
     "iopub.status.busy": "2025-03-25T12:35:53.784955Z",
     "iopub.status.idle": "2025-03-25T12:35:55.028360Z",
     "shell.execute_reply": "2025-03-25T12:35:55.027031Z",
     "shell.execute_reply.started": "2025-03-25T12:35:53.786315Z"
    },
    "tags": []
   },
   "outputs": [
    {
     "data": {
      "text/html": [
       "<div>\n",
       "<style scoped>\n",
       "    .dataframe tbody tr th:only-of-type {\n",
       "        vertical-align: middle;\n",
       "    }\n",
       "\n",
       "    .dataframe tbody tr th {\n",
       "        vertical-align: top;\n",
       "    }\n",
       "\n",
       "    .dataframe thead th {\n",
       "        text-align: right;\n",
       "    }\n",
       "</style>\n",
       "<table border=\"1\" class=\"dataframe\">\n",
       "  <thead>\n",
       "    <tr style=\"text-align: right;\">\n",
       "      <th></th>\n",
       "      <th>datetime</th>\n",
       "      <th>ticker</th>\n",
       "      <th>title</th>\n",
       "      <th>text</th>\n",
       "    </tr>\n",
       "  </thead>\n",
       "  <tbody>\n",
       "    <tr>\n",
       "      <th>0</th>\n",
       "      <td>2024-01-09 00:00:00+00:00</td>\n",
       "      <td>AMD</td>\n",
       "      <td>Is iShares Semiconductor ETF (SOXX) a Strong E...</td>\n",
       "      <td>The iShares Semiconductor ETF (SOXX) was launc...</td>\n",
       "    </tr>\n",
       "    <tr>\n",
       "      <th>1</th>\n",
       "      <td>2024-01-09 00:00:00+00:00</td>\n",
       "      <td>AMD</td>\n",
       "      <td>Stock Market News for Jan 9, 2024</td>\n",
       "      <td>U.S. stock markets closed sharply higher on Mo...</td>\n",
       "    </tr>\n",
       "    <tr>\n",
       "      <th>2</th>\n",
       "      <td>2024-01-09 00:00:00+00:00</td>\n",
       "      <td>AMD</td>\n",
       "      <td>Japan's Nikkei hits 33-year high as tech stock...</td>\n",
       "      <td>TOKYO, Jan 9 (Reuters) - Japan's Nikkei share ...</td>\n",
       "    </tr>\n",
       "    <tr>\n",
       "      <th>3</th>\n",
       "      <td>2024-01-09 00:00:00+00:00</td>\n",
       "      <td>AMD</td>\n",
       "      <td>Will Advanced Micro Devices Be a Trillion-Doll...</td>\n",
       "      <td>The trillion-dollar club is certainly rarified...</td>\n",
       "    </tr>\n",
       "    <tr>\n",
       "      <th>4</th>\n",
       "      <td>2024-01-09 00:00:00+00:00</td>\n",
       "      <td>AMD</td>\n",
       "      <td>Zacks Industry Outlook Highlights Advanced Mic...</td>\n",
       "      <td>For Immediate Release\\nChicago, IL – January 9...</td>\n",
       "    </tr>\n",
       "    <tr>\n",
       "      <th>...</th>\n",
       "      <td>...</td>\n",
       "      <td>...</td>\n",
       "      <td>...</td>\n",
       "      <td>...</td>\n",
       "    </tr>\n",
       "    <tr>\n",
       "      <th>111889</th>\n",
       "      <td>2012-01-06 00:00:00+00:00</td>\n",
       "      <td>ADI</td>\n",
       "      <td>16 Stocks Picked by Prize-Winning Fund Managers</td>\n",
       "      <td>16 Stocks Picked by Prize-Winning Fund Managers</td>\n",
       "    </tr>\n",
       "    <tr>\n",
       "      <th>111890</th>\n",
       "      <td>2012-01-05 00:00:00+00:00</td>\n",
       "      <td>ADP</td>\n",
       "      <td>Good News for U.S. Labor Market - Analyst Blog</td>\n",
       "      <td>Positive domestic data and the resumption of E...</td>\n",
       "    </tr>\n",
       "    <tr>\n",
       "      <th>111891</th>\n",
       "      <td>2012-01-05 00:00:00+00:00</td>\n",
       "      <td>ADP</td>\n",
       "      <td>Ahead of Wall Street - January 5, 2012 - Ahead...</td>\n",
       "      <td>Thursday, January 5, 2012\\nPositive domestic d...</td>\n",
       "    </tr>\n",
       "    <tr>\n",
       "      <th>111892</th>\n",
       "      <td>2012-01-05 00:00:00+00:00</td>\n",
       "      <td>AMGN</td>\n",
       "      <td>Hospira Upped to Neutral - Analyst Blog</td>\n",
       "      <td>We recently upgraded our rating on Hospira, In...</td>\n",
       "    </tr>\n",
       "    <tr>\n",
       "      <th>111893</th>\n",
       "      <td>2012-01-01 00:00:00+00:00</td>\n",
       "      <td>CSX</td>\n",
       "      <td>Canadian Pacific Jumps on Reports Ackman Wants...</td>\n",
       "      <td>Canadian Pacific Jumps on Reports Ackman Wants...</td>\n",
       "    </tr>\n",
       "  </tbody>\n",
       "</table>\n",
       "<p>111894 rows × 4 columns</p>\n",
       "</div>"
      ],
      "text/plain": [
       "                        datetime  ...                                               text\n",
       "0      2024-01-09 00:00:00+00:00  ...  The iShares Semiconductor ETF (SOXX) was launc...\n",
       "1      2024-01-09 00:00:00+00:00  ...  U.S. stock markets closed sharply higher on Mo...\n",
       "2      2024-01-09 00:00:00+00:00  ...  TOKYO, Jan 9 (Reuters) - Japan's Nikkei share ...\n",
       "3      2024-01-09 00:00:00+00:00  ...  The trillion-dollar club is certainly rarified...\n",
       "4      2024-01-09 00:00:00+00:00  ...  For Immediate Release\\nChicago, IL – January 9...\n",
       "...                          ...  ...                                                ...\n",
       "111889 2012-01-06 00:00:00+00:00  ...    16 Stocks Picked by Prize-Winning Fund Managers\n",
       "111890 2012-01-05 00:00:00+00:00  ...  Positive domestic data and the resumption of E...\n",
       "111891 2012-01-05 00:00:00+00:00  ...  Thursday, January 5, 2012\\nPositive domestic d...\n",
       "111892 2012-01-05 00:00:00+00:00  ...  We recently upgraded our rating on Hospira, In...\n",
       "111893 2012-01-01 00:00:00+00:00  ...  Canadian Pacific Jumps on Reports Ackman Wants...\n",
       "\n",
       "[111894 rows x 4 columns]"
      ]
     },
     "execution_count": 39,
     "metadata": {},
     "output_type": "execute_result"
    }
   ],
   "source": [
    "df = pd.read_parquet(os.path.join('.', 'data', 'nasdaq30_news.parquet'))\n",
    "df"
   ]
  },
  {
   "cell_type": "code",
   "execution_count": 46,
   "id": "97311391-44e4-4b50-8236-15f8ce2dd2ff",
   "metadata": {
    "execution": {
     "iopub.execute_input": "2025-03-25T12:37:26.364558Z",
     "iopub.status.busy": "2025-03-25T12:37:26.363004Z",
     "iopub.status.idle": "2025-03-25T12:37:26.387594Z",
     "shell.execute_reply": "2025-03-25T12:37:26.386350Z",
     "shell.execute_reply.started": "2025-03-25T12:37:26.364489Z"
    },
    "tags": []
   },
   "outputs": [],
   "source": [
    "dummy_labels = np.zeros(len(df))\n",
    "\n",
    "texts_dataset = TextsDataset(texts=df['text'], labels=dummy_labels, tokenizer=tokenizer)\n",
    "titles_dataset = TextsDataset(texts=df['title'], labels=dummy_labels, tokenizer=tokenizer)\n",
    "\n",
    "batch_size = 128\n",
    "num_workers = 8\n",
    "\n",
    "texts_dataloader = DataLoader(texts_dataset, batch_size=batch_size, collate_fn=texts_dataset.collate_fn, shuffle=False, drop_last=False, num_workers=num_workers)\n",
    "titles_dataloader = DataLoader(titles_dataset, batch_size=batch_size, collate_fn=titles_dataset.collate_fn, shuffle=False, drop_last=False, num_workers=num_workers)"
   ]
  },
  {
   "cell_type": "code",
   "execution_count": 47,
   "id": "71fe83a4-ca05-4f9f-88de-9ea037f5cbc3",
   "metadata": {
    "execution": {
     "iopub.execute_input": "2025-03-25T12:37:31.268108Z",
     "iopub.status.busy": "2025-03-25T12:37:31.266853Z",
     "iopub.status.idle": "2025-03-25T12:37:31.302501Z",
     "shell.execute_reply": "2025-03-25T12:37:31.301407Z",
     "shell.execute_reply.started": "2025-03-25T12:37:31.268071Z"
    },
    "tags": []
   },
   "outputs": [],
   "source": [
    "def get_predictions(model, dataloader):\n",
    "    preds = []\n",
    "    for batch in tqdm(dataloader):\n",
    "        input_ids, attention_mask, labels = batch['input_ids'], batch['attention_mask'], batch['labels']\n",
    "        input_ids = input_ids.to(device)\n",
    "        attention_mask = attention_mask.to(device)\n",
    "        labels = labels.to(device)\n",
    "        \n",
    "        outputs = model(input_ids=input_ids, attention_mask=attention_mask).detach().cpu()\n",
    "        probs = F.softmax(outputs, dim=-1)\n",
    "        \n",
    "        preds.append(probs)\n",
    "        \n",
    "    return torch.cat(preds, dim=0)"
   ]
  },
  {
   "cell_type": "code",
   "execution_count": null,
   "id": "bf731d86-a1d0-4d07-8bda-b7a17466f04c",
   "metadata": {
    "execution": {
     "iopub.execute_input": "2025-03-25T12:37:35.595378Z",
     "iopub.status.busy": "2025-03-25T12:37:35.594048Z",
     "iopub.status.idle": "2025-03-25T12:55:52.245151Z"
    },
    "tags": []
   },
   "outputs": [
    {
     "name": "stderr",
     "output_type": "stream",
     "text": [
      "100%|██████████| 875/875 [16:56<00:00,  1.16s/it]\n",
      "100%|██████████| 875/875 [01:19<00:00, 10.97it/s]\n"
     ]
    }
   ],
   "source": [
    "text_preds = get_predictions(bert, texts_dataloader)\n",
    "title_preds = get_predictions(bert, titles_dataloader)"
   ]
  },
  {
   "cell_type": "code",
   "execution_count": 51,
   "id": "fb4eec5e-4995-4794-9e4e-aaba832ce971",
   "metadata": {
    "execution": {
     "iopub.execute_input": "2025-03-25T13:09:00.194789Z",
     "iopub.status.busy": "2025-03-25T13:09:00.193325Z",
     "iopub.status.idle": "2025-03-25T13:09:00.706166Z",
     "shell.execute_reply": "2025-03-25T13:09:00.704936Z",
     "shell.execute_reply.started": "2025-03-25T13:09:00.194734Z"
    },
    "tags": []
   },
   "outputs": [],
   "source": [
    "text_preds = text_preds.tolist()\n",
    "title_preds = title_preds.tolist()"
   ]
  },
  {
   "cell_type": "code",
   "execution_count": 54,
   "id": "f2bac548-0c98-4ec6-9682-fdc9ee8f9d9c",
   "metadata": {
    "execution": {
     "iopub.execute_input": "2025-03-25T13:09:59.867952Z",
     "iopub.status.busy": "2025-03-25T13:09:59.866817Z",
     "iopub.status.idle": "2025-03-25T13:09:59.885337Z",
     "shell.execute_reply": "2025-03-25T13:09:59.884071Z",
     "shell.execute_reply.started": "2025-03-25T13:09:59.867910Z"
    }
   },
   "outputs": [],
   "source": [
    "# Our labels: {'negative / strong negative': 0, 'moderately / mildly negative': 1, 'neutral': 2, 'moderately / mildly positive': 3, 'positive / strong positive': 4}"
   ]
  },
  {
   "cell_type": "code",
   "execution_count": 55,
   "id": "d7c28b55-52e1-40f8-afdf-764ac82e8a58",
   "metadata": {
    "execution": {
     "iopub.execute_input": "2025-03-25T13:12:16.499875Z",
     "iopub.status.busy": "2025-03-25T13:12:16.498138Z",
     "iopub.status.idle": "2025-03-25T13:12:16.784925Z",
     "shell.execute_reply": "2025-03-25T13:12:16.783548Z",
     "shell.execute_reply.started": "2025-03-25T13:12:16.499802Z"
    },
    "tags": []
   },
   "outputs": [],
   "source": [
    "df['text_neg'] = [x[0] for x in text_preds]\n",
    "df['text_midneg'] = [x[1] for x in text_preds]\n",
    "df['text_neutral'] = [x[2] for x in text_preds]\n",
    "df['text_midpos'] = [x[3] for x in text_preds]\n",
    "df['text_pos'] = [x[4] for x in text_preds]\n",
    "\n",
    "df['title_neg'] = [x[0] for x in title_preds]\n",
    "df['title_midneg'] = [x[1] for x in title_preds]\n",
    "df['title_neutral'] = [x[2] for x in title_preds]\n",
    "df['title_midpos'] = [x[3] for x in title_preds]\n",
    "df['title_pos'] = [x[4] for x in title_preds]"
   ]
  },
  {
   "cell_type": "code",
   "execution_count": 56,
   "id": "eb2b5aa7-049e-4f8a-b14e-35b5c03c03de",
   "metadata": {
    "execution": {
     "iopub.execute_input": "2025-03-25T13:12:18.220728Z",
     "iopub.status.busy": "2025-03-25T13:12:18.219630Z",
     "iopub.status.idle": "2025-03-25T13:12:18.288491Z",
     "shell.execute_reply": "2025-03-25T13:12:18.287192Z",
     "shell.execute_reply.started": "2025-03-25T13:12:18.220672Z"
    }
   },
   "outputs": [
    {
     "data": {
      "text/html": [
       "<div>\n",
       "<style scoped>\n",
       "    .dataframe tbody tr th:only-of-type {\n",
       "        vertical-align: middle;\n",
       "    }\n",
       "\n",
       "    .dataframe tbody tr th {\n",
       "        vertical-align: top;\n",
       "    }\n",
       "\n",
       "    .dataframe thead th {\n",
       "        text-align: right;\n",
       "    }\n",
       "</style>\n",
       "<table border=\"1\" class=\"dataframe\">\n",
       "  <thead>\n",
       "    <tr style=\"text-align: right;\">\n",
       "      <th></th>\n",
       "      <th>datetime</th>\n",
       "      <th>ticker</th>\n",
       "      <th>title</th>\n",
       "      <th>text</th>\n",
       "      <th>text_neg</th>\n",
       "      <th>text_midneg</th>\n",
       "      <th>text_neutral</th>\n",
       "      <th>text_midpos</th>\n",
       "      <th>text_pos</th>\n",
       "      <th>title_neg</th>\n",
       "      <th>title_midneg</th>\n",
       "      <th>title_neutral</th>\n",
       "      <th>title_midpos</th>\n",
       "      <th>title_pos</th>\n",
       "    </tr>\n",
       "  </thead>\n",
       "  <tbody>\n",
       "    <tr>\n",
       "      <th>0</th>\n",
       "      <td>2024-01-09 00:00:00+00:00</td>\n",
       "      <td>AMD</td>\n",
       "      <td>Is iShares Semiconductor ETF (SOXX) a Strong E...</td>\n",
       "      <td>The iShares Semiconductor ETF (SOXX) was launc...</td>\n",
       "      <td>3.472141e-04</td>\n",
       "      <td>9.923942e-09</td>\n",
       "      <td>6.481437e-01</td>\n",
       "      <td>2.195085e-06</td>\n",
       "      <td>0.351507</td>\n",
       "      <td>2.457909e-04</td>\n",
       "      <td>2.106507e-08</td>\n",
       "      <td>9.997539e-01</td>\n",
       "      <td>3.247099e-09</td>\n",
       "      <td>2.189179e-07</td>\n",
       "    </tr>\n",
       "    <tr>\n",
       "      <th>1</th>\n",
       "      <td>2024-01-09 00:00:00+00:00</td>\n",
       "      <td>AMD</td>\n",
       "      <td>Stock Market News for Jan 9, 2024</td>\n",
       "      <td>U.S. stock markets closed sharply higher on Mo...</td>\n",
       "      <td>5.480200e-09</td>\n",
       "      <td>6.135955e-12</td>\n",
       "      <td>1.698356e-03</td>\n",
       "      <td>7.098104e-05</td>\n",
       "      <td>0.998231</td>\n",
       "      <td>2.233719e-03</td>\n",
       "      <td>2.587011e-03</td>\n",
       "      <td>8.843381e-01</td>\n",
       "      <td>4.966966e-02</td>\n",
       "      <td>6.117157e-02</td>\n",
       "    </tr>\n",
       "    <tr>\n",
       "      <th>2</th>\n",
       "      <td>2024-01-09 00:00:00+00:00</td>\n",
       "      <td>AMD</td>\n",
       "      <td>Japan's Nikkei hits 33-year high as tech stock...</td>\n",
       "      <td>TOKYO, Jan 9 (Reuters) - Japan's Nikkei share ...</td>\n",
       "      <td>1.517264e-01</td>\n",
       "      <td>2.504872e-03</td>\n",
       "      <td>3.302018e-03</td>\n",
       "      <td>5.241840e-03</td>\n",
       "      <td>0.837225</td>\n",
       "      <td>6.833132e-08</td>\n",
       "      <td>1.470511e-20</td>\n",
       "      <td>3.443936e-13</td>\n",
       "      <td>8.138968e-13</td>\n",
       "      <td>9.999999e-01</td>\n",
       "    </tr>\n",
       "    <tr>\n",
       "      <th>3</th>\n",
       "      <td>2024-01-09 00:00:00+00:00</td>\n",
       "      <td>AMD</td>\n",
       "      <td>Will Advanced Micro Devices Be a Trillion-Doll...</td>\n",
       "      <td>The trillion-dollar club is certainly rarified...</td>\n",
       "      <td>1.677820e-04</td>\n",
       "      <td>1.607691e-07</td>\n",
       "      <td>5.385148e-07</td>\n",
       "      <td>3.259737e-04</td>\n",
       "      <td>0.999506</td>\n",
       "      <td>1.837178e-02</td>\n",
       "      <td>1.881204e-02</td>\n",
       "      <td>5.120176e-04</td>\n",
       "      <td>4.785705e-01</td>\n",
       "      <td>4.837336e-01</td>\n",
       "    </tr>\n",
       "    <tr>\n",
       "      <th>4</th>\n",
       "      <td>2024-01-09 00:00:00+00:00</td>\n",
       "      <td>AMD</td>\n",
       "      <td>Zacks Industry Outlook Highlights Advanced Mic...</td>\n",
       "      <td>For Immediate Release\\nChicago, IL – January 9...</td>\n",
       "      <td>5.168036e-01</td>\n",
       "      <td>8.543725e-02</td>\n",
       "      <td>1.411705e-02</td>\n",
       "      <td>4.822003e-02</td>\n",
       "      <td>0.335422</td>\n",
       "      <td>4.915071e-03</td>\n",
       "      <td>4.201150e-03</td>\n",
       "      <td>4.869574e-02</td>\n",
       "      <td>4.489187e-01</td>\n",
       "      <td>4.932694e-01</td>\n",
       "    </tr>\n",
       "    <tr>\n",
       "      <th>...</th>\n",
       "      <td>...</td>\n",
       "      <td>...</td>\n",
       "      <td>...</td>\n",
       "      <td>...</td>\n",
       "      <td>...</td>\n",
       "      <td>...</td>\n",
       "      <td>...</td>\n",
       "      <td>...</td>\n",
       "      <td>...</td>\n",
       "      <td>...</td>\n",
       "      <td>...</td>\n",
       "      <td>...</td>\n",
       "      <td>...</td>\n",
       "      <td>...</td>\n",
       "    </tr>\n",
       "    <tr>\n",
       "      <th>111889</th>\n",
       "      <td>2012-01-06 00:00:00+00:00</td>\n",
       "      <td>ADI</td>\n",
       "      <td>16 Stocks Picked by Prize-Winning Fund Managers</td>\n",
       "      <td>16 Stocks Picked by Prize-Winning Fund Managers</td>\n",
       "      <td>8.066183e-05</td>\n",
       "      <td>5.884419e-05</td>\n",
       "      <td>9.618504e-01</td>\n",
       "      <td>1.700314e-02</td>\n",
       "      <td>0.021007</td>\n",
       "      <td>1.190474e-02</td>\n",
       "      <td>1.243878e-02</td>\n",
       "      <td>5.002770e-01</td>\n",
       "      <td>2.584815e-01</td>\n",
       "      <td>2.168981e-01</td>\n",
       "    </tr>\n",
       "    <tr>\n",
       "      <th>111890</th>\n",
       "      <td>2012-01-05 00:00:00+00:00</td>\n",
       "      <td>ADP</td>\n",
       "      <td>Good News for U.S. Labor Market - Analyst Blog</td>\n",
       "      <td>Positive domestic data and the resumption of E...</td>\n",
       "      <td>5.571148e-02</td>\n",
       "      <td>4.871891e-02</td>\n",
       "      <td>4.629497e-03</td>\n",
       "      <td>4.053663e-01</td>\n",
       "      <td>0.485574</td>\n",
       "      <td>1.587326e-03</td>\n",
       "      <td>2.200699e-07</td>\n",
       "      <td>2.817411e-03</td>\n",
       "      <td>8.171409e-06</td>\n",
       "      <td>9.955869e-01</td>\n",
       "    </tr>\n",
       "    <tr>\n",
       "      <th>111891</th>\n",
       "      <td>2012-01-05 00:00:00+00:00</td>\n",
       "      <td>ADP</td>\n",
       "      <td>Ahead of Wall Street - January 5, 2012 - Ahead...</td>\n",
       "      <td>Thursday, January 5, 2012\\nPositive domestic d...</td>\n",
       "      <td>9.572425e-02</td>\n",
       "      <td>9.372959e-02</td>\n",
       "      <td>5.995124e-04</td>\n",
       "      <td>4.003055e-01</td>\n",
       "      <td>0.409641</td>\n",
       "      <td>5.424077e-04</td>\n",
       "      <td>4.892219e-04</td>\n",
       "      <td>9.016530e-01</td>\n",
       "      <td>4.975015e-02</td>\n",
       "      <td>4.756521e-02</td>\n",
       "    </tr>\n",
       "    <tr>\n",
       "      <th>111892</th>\n",
       "      <td>2012-01-05 00:00:00+00:00</td>\n",
       "      <td>AMGN</td>\n",
       "      <td>Hospira Upped to Neutral - Analyst Blog</td>\n",
       "      <td>We recently upgraded our rating on Hospira, In...</td>\n",
       "      <td>1.847468e-02</td>\n",
       "      <td>1.645803e-02</td>\n",
       "      <td>4.938887e-03</td>\n",
       "      <td>4.641894e-01</td>\n",
       "      <td>0.495939</td>\n",
       "      <td>5.854712e-04</td>\n",
       "      <td>4.125423e-08</td>\n",
       "      <td>2.544502e-06</td>\n",
       "      <td>9.577920e-06</td>\n",
       "      <td>9.994024e-01</td>\n",
       "    </tr>\n",
       "    <tr>\n",
       "      <th>111893</th>\n",
       "      <td>2012-01-01 00:00:00+00:00</td>\n",
       "      <td>CSX</td>\n",
       "      <td>Canadian Pacific Jumps on Reports Ackman Wants...</td>\n",
       "      <td>Canadian Pacific Jumps on Reports Ackman Wants...</td>\n",
       "      <td>3.885015e-05</td>\n",
       "      <td>4.531980e-19</td>\n",
       "      <td>8.447182e-10</td>\n",
       "      <td>4.324515e-14</td>\n",
       "      <td>0.999961</td>\n",
       "      <td>9.767805e-05</td>\n",
       "      <td>1.068442e-15</td>\n",
       "      <td>6.929716e-12</td>\n",
       "      <td>8.420445e-11</td>\n",
       "      <td>9.999024e-01</td>\n",
       "    </tr>\n",
       "  </tbody>\n",
       "</table>\n",
       "<p>111894 rows × 14 columns</p>\n",
       "</div>"
      ],
      "text/plain": [
       "                        datetime ticker  ...  title_midpos     title_pos\n",
       "0      2024-01-09 00:00:00+00:00    AMD  ...  3.247099e-09  2.189179e-07\n",
       "1      2024-01-09 00:00:00+00:00    AMD  ...  4.966966e-02  6.117157e-02\n",
       "2      2024-01-09 00:00:00+00:00    AMD  ...  8.138968e-13  9.999999e-01\n",
       "3      2024-01-09 00:00:00+00:00    AMD  ...  4.785705e-01  4.837336e-01\n",
       "4      2024-01-09 00:00:00+00:00    AMD  ...  4.489187e-01  4.932694e-01\n",
       "...                          ...    ...  ...           ...           ...\n",
       "111889 2012-01-06 00:00:00+00:00    ADI  ...  2.584815e-01  2.168981e-01\n",
       "111890 2012-01-05 00:00:00+00:00    ADP  ...  8.171409e-06  9.955869e-01\n",
       "111891 2012-01-05 00:00:00+00:00    ADP  ...  4.975015e-02  4.756521e-02\n",
       "111892 2012-01-05 00:00:00+00:00   AMGN  ...  9.577920e-06  9.994024e-01\n",
       "111893 2012-01-01 00:00:00+00:00    CSX  ...  8.420445e-11  9.999024e-01\n",
       "\n",
       "[111894 rows x 14 columns]"
      ]
     },
     "execution_count": 56,
     "metadata": {},
     "output_type": "execute_result"
    }
   ],
   "source": [
    "df"
   ]
  },
  {
   "cell_type": "code",
   "execution_count": 57,
   "id": "644170cd-eea6-44d3-a21e-623ca0b3b435",
   "metadata": {
    "execution": {
     "iopub.execute_input": "2025-03-25T13:13:56.934266Z",
     "iopub.status.busy": "2025-03-25T13:13:56.932967Z",
     "iopub.status.idle": "2025-03-25T13:14:02.728440Z",
     "shell.execute_reply": "2025-03-25T13:14:02.727181Z",
     "shell.execute_reply.started": "2025-03-25T13:13:56.934223Z"
    }
   },
   "outputs": [],
   "source": [
    "df.to_parquet(os.path.join('.', 'data', 'nasdaq30_news.parquet'))"
   ]
  },
  {
   "cell_type": "code",
   "execution_count": null,
   "id": "d87091b2-0b93-45d7-b3a9-7212fa805f36",
   "metadata": {},
   "outputs": [],
   "source": []
  }
 ],
 "metadata": {
  "kernelspec": {
   "display_name": "DataSphere Kernel",
   "language": "python",
   "name": "python3"
  },
  "language_info": {
   "codemirror_mode": {
    "name": "ipython",
    "version": 3
   },
   "file_extension": ".py",
   "mimetype": "text/x-python",
   "name": "python",
   "nbconvert_exporter": "python",
   "pygments_lexer": "ipython3",
   "version": "3.10.12"
  }
 },
 "nbformat": 4,
 "nbformat_minor": 5
}
